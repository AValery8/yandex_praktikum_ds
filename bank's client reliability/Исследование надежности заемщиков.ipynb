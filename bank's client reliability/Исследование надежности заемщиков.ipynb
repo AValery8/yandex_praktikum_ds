{
 "cells": [
  {
   "cell_type": "markdown",
   "id": "37db283c",
   "metadata": {},
   "source": [
    "# Исследование надёжности заёмщиков"
   ]
  },
  {
   "cell_type": "markdown",
   "id": "9a301ca3",
   "metadata": {},
   "source": [
    "## Описание проекта\n",
    "\n"
   ]
  },
  {
   "cell_type": "markdown",
   "id": "1b4c7fa5",
   "metadata": {},
   "source": [
    "Заказчик — кредитный отдел банка. \n",
    "\n",
    "Цель исследования: выяснить **влияет ли семейное положение и количество детей клиента на факт погашения кредита в срок**. \n",
    "\n",
    "Входные данные от банка — статистика о платёжеспособности клиентов.\n",
    "\n",
    "Результаты исследования будут учтены при построении модели кредитного скоринга — специальной системы, которая оценивает способность потенциального заёмщика вернуть кредит банку."
   ]
  },
  {
   "cell_type": "markdown",
   "id": "c49a30d5",
   "metadata": {},
   "source": [
    "## Обзор данных"
   ]
  },
  {
   "cell_type": "code",
   "execution_count": 1,
   "id": "04e36953",
   "metadata": {},
   "outputs": [],
   "source": [
    "# Импортирую необходимые библиотеки и открываю датасэт \n",
    "import pandas as pd\n",
    "import seaborn as sns\n",
    "import matplotlib.pyplot as plt\n",
    "import warnings\n",
    "warnings.simplefilter(\"ignore\")\n",
    "try:\n",
    "    df = pd.read_csv('C:\\practicum\\data.csv')\n",
    "except:\n",
    "    df = pd.read_csv('/datasets/data.csv')\n",
    "    \n"
   ]
  },
  {
   "cell_type": "code",
   "execution_count": 2,
   "id": "c78e3778",
   "metadata": {
    "scrolled": true
   },
   "outputs": [
    {
     "name": "stdout",
     "output_type": "stream",
     "text": [
      "information\n",
      "<class 'pandas.core.frame.DataFrame'>\n",
      "RangeIndex: 21525 entries, 0 to 21524\n",
      "Data columns (total 12 columns):\n",
      " #   Column            Non-Null Count  Dtype  \n",
      "---  ------            --------------  -----  \n",
      " 0   children          21525 non-null  int64  \n",
      " 1   days_employed     19351 non-null  float64\n",
      " 2   dob_years         21525 non-null  int64  \n",
      " 3   education         21525 non-null  object \n",
      " 4   education_id      21525 non-null  int64  \n",
      " 5   family_status     21525 non-null  object \n",
      " 6   family_status_id  21525 non-null  int64  \n",
      " 7   gender            21525 non-null  object \n",
      " 8   income_type       21525 non-null  object \n",
      " 9   debt              21525 non-null  int64  \n",
      " 10  total_income      19351 non-null  float64\n",
      " 11  purpose           21525 non-null  object \n",
      "dtypes: float64(2), int64(5), object(5)\n",
      "memory usage: 2.0+ MB\n"
     ]
    },
    {
     "data": {
      "text/plain": [
       "None"
      ]
     },
     "metadata": {},
     "output_type": "display_data"
    },
    {
     "name": "stdout",
     "output_type": "stream",
     "text": [
      "description\n"
     ]
    },
    {
     "data": {
      "text/html": [
       "<div>\n",
       "<style scoped>\n",
       "    .dataframe tbody tr th:only-of-type {\n",
       "        vertical-align: middle;\n",
       "    }\n",
       "\n",
       "    .dataframe tbody tr th {\n",
       "        vertical-align: top;\n",
       "    }\n",
       "\n",
       "    .dataframe thead th {\n",
       "        text-align: right;\n",
       "    }\n",
       "</style>\n",
       "<table border=\"1\" class=\"dataframe\">\n",
       "  <thead>\n",
       "    <tr style=\"text-align: right;\">\n",
       "      <th></th>\n",
       "      <th>children</th>\n",
       "      <th>days_employed</th>\n",
       "      <th>dob_years</th>\n",
       "      <th>education_id</th>\n",
       "      <th>family_status_id</th>\n",
       "      <th>debt</th>\n",
       "      <th>total_income</th>\n",
       "    </tr>\n",
       "  </thead>\n",
       "  <tbody>\n",
       "    <tr>\n",
       "      <th>count</th>\n",
       "      <td>21525.000000</td>\n",
       "      <td>19351.000000</td>\n",
       "      <td>21525.000000</td>\n",
       "      <td>21525.000000</td>\n",
       "      <td>21525.000000</td>\n",
       "      <td>21525.000000</td>\n",
       "      <td>1.935100e+04</td>\n",
       "    </tr>\n",
       "    <tr>\n",
       "      <th>mean</th>\n",
       "      <td>0.538908</td>\n",
       "      <td>63046.497661</td>\n",
       "      <td>43.293380</td>\n",
       "      <td>0.817236</td>\n",
       "      <td>0.972544</td>\n",
       "      <td>0.080883</td>\n",
       "      <td>1.674223e+05</td>\n",
       "    </tr>\n",
       "    <tr>\n",
       "      <th>std</th>\n",
       "      <td>1.381587</td>\n",
       "      <td>140827.311974</td>\n",
       "      <td>12.574584</td>\n",
       "      <td>0.548138</td>\n",
       "      <td>1.420324</td>\n",
       "      <td>0.272661</td>\n",
       "      <td>1.029716e+05</td>\n",
       "    </tr>\n",
       "    <tr>\n",
       "      <th>min</th>\n",
       "      <td>-1.000000</td>\n",
       "      <td>-18388.949901</td>\n",
       "      <td>0.000000</td>\n",
       "      <td>0.000000</td>\n",
       "      <td>0.000000</td>\n",
       "      <td>0.000000</td>\n",
       "      <td>2.066726e+04</td>\n",
       "    </tr>\n",
       "    <tr>\n",
       "      <th>25%</th>\n",
       "      <td>0.000000</td>\n",
       "      <td>-2747.423625</td>\n",
       "      <td>33.000000</td>\n",
       "      <td>1.000000</td>\n",
       "      <td>0.000000</td>\n",
       "      <td>0.000000</td>\n",
       "      <td>1.030532e+05</td>\n",
       "    </tr>\n",
       "    <tr>\n",
       "      <th>50%</th>\n",
       "      <td>0.000000</td>\n",
       "      <td>-1203.369529</td>\n",
       "      <td>42.000000</td>\n",
       "      <td>1.000000</td>\n",
       "      <td>0.000000</td>\n",
       "      <td>0.000000</td>\n",
       "      <td>1.450179e+05</td>\n",
       "    </tr>\n",
       "    <tr>\n",
       "      <th>75%</th>\n",
       "      <td>1.000000</td>\n",
       "      <td>-291.095954</td>\n",
       "      <td>53.000000</td>\n",
       "      <td>1.000000</td>\n",
       "      <td>1.000000</td>\n",
       "      <td>0.000000</td>\n",
       "      <td>2.034351e+05</td>\n",
       "    </tr>\n",
       "    <tr>\n",
       "      <th>max</th>\n",
       "      <td>20.000000</td>\n",
       "      <td>401755.400475</td>\n",
       "      <td>75.000000</td>\n",
       "      <td>4.000000</td>\n",
       "      <td>4.000000</td>\n",
       "      <td>1.000000</td>\n",
       "      <td>2.265604e+06</td>\n",
       "    </tr>\n",
       "  </tbody>\n",
       "</table>\n",
       "</div>"
      ],
      "text/plain": [
       "           children  days_employed     dob_years  education_id  \\\n",
       "count  21525.000000   19351.000000  21525.000000  21525.000000   \n",
       "mean       0.538908   63046.497661     43.293380      0.817236   \n",
       "std        1.381587  140827.311974     12.574584      0.548138   \n",
       "min       -1.000000  -18388.949901      0.000000      0.000000   \n",
       "25%        0.000000   -2747.423625     33.000000      1.000000   \n",
       "50%        0.000000   -1203.369529     42.000000      1.000000   \n",
       "75%        1.000000    -291.095954     53.000000      1.000000   \n",
       "max       20.000000  401755.400475     75.000000      4.000000   \n",
       "\n",
       "       family_status_id          debt  total_income  \n",
       "count      21525.000000  21525.000000  1.935100e+04  \n",
       "mean           0.972544      0.080883  1.674223e+05  \n",
       "std            1.420324      0.272661  1.029716e+05  \n",
       "min            0.000000      0.000000  2.066726e+04  \n",
       "25%            0.000000      0.000000  1.030532e+05  \n",
       "50%            0.000000      0.000000  1.450179e+05  \n",
       "75%            1.000000      0.000000  2.034351e+05  \n",
       "max            4.000000      1.000000  2.265604e+06  "
      ]
     },
     "metadata": {},
     "output_type": "display_data"
    }
   ],
   "source": [
    "#Основная информация о датасэте \n",
    "print('information')\n",
    "display(df.info())\n",
    "print('description')\n",
    "display(df.describe())"
   ]
  },
  {
   "cell_type": "markdown",
   "id": "be844fa6",
   "metadata": {},
   "source": [
    "В таблице 12 столбцов. В стобцах три типа данных: float64, int64, object  \n",
    "В столбцах days_employed, total_income имеются пропуски.  \n",
    "Проблем со стилем в названиях нет. \n",
    "\n",
    "Описание данных\n",
    "* children — количество детей в семье\n",
    "* days_employed — общий трудовой стаж в днях\n",
    "* dob_years — возраст клиента в годах\n",
    "* education — уровень образования клиента\n",
    "* education_id — идентификатор уровня образования\n",
    "* family_status — семейное положение\n",
    "* family_status_id — идентификатор семейного положения\n",
    "* gender — пол клиента\n",
    "* income_type — тип занятости\n",
    "* debt — имел ли задолженность по возврату кредитов\n",
    "* total_income — ежемесячный доход\n",
    "* purpose — цель получения кредита\n",
    "\n"
   ]
  },
  {
   "cell_type": "markdown",
   "id": "f2eaacb4",
   "metadata": {},
   "source": [
    "Странные данные в столбце с трудовым стажем (среднее значение 63 000 дней)"
   ]
  },
  {
   "cell_type": "code",
   "execution_count": 3,
   "id": "257b1c32",
   "metadata": {
    "scrolled": false
   },
   "outputs": [
    {
     "data": {
      "text/html": [
       "<div>\n",
       "<style scoped>\n",
       "    .dataframe tbody tr th:only-of-type {\n",
       "        vertical-align: middle;\n",
       "    }\n",
       "\n",
       "    .dataframe tbody tr th {\n",
       "        vertical-align: top;\n",
       "    }\n",
       "\n",
       "    .dataframe thead th {\n",
       "        text-align: right;\n",
       "    }\n",
       "</style>\n",
       "<table border=\"1\" class=\"dataframe\">\n",
       "  <thead>\n",
       "    <tr style=\"text-align: right;\">\n",
       "      <th></th>\n",
       "      <th>children</th>\n",
       "      <th>days_employed</th>\n",
       "      <th>dob_years</th>\n",
       "      <th>education</th>\n",
       "      <th>education_id</th>\n",
       "      <th>family_status</th>\n",
       "      <th>family_status_id</th>\n",
       "      <th>gender</th>\n",
       "      <th>income_type</th>\n",
       "      <th>debt</th>\n",
       "      <th>total_income</th>\n",
       "      <th>purpose</th>\n",
       "    </tr>\n",
       "  </thead>\n",
       "  <tbody>\n",
       "    <tr>\n",
       "      <th>0</th>\n",
       "      <td>1</td>\n",
       "      <td>-8437.673028</td>\n",
       "      <td>42</td>\n",
       "      <td>высшее</td>\n",
       "      <td>0</td>\n",
       "      <td>женат / замужем</td>\n",
       "      <td>0</td>\n",
       "      <td>F</td>\n",
       "      <td>сотрудник</td>\n",
       "      <td>0</td>\n",
       "      <td>253875.639453</td>\n",
       "      <td>покупка жилья</td>\n",
       "    </tr>\n",
       "    <tr>\n",
       "      <th>1</th>\n",
       "      <td>1</td>\n",
       "      <td>-4024.803754</td>\n",
       "      <td>36</td>\n",
       "      <td>среднее</td>\n",
       "      <td>1</td>\n",
       "      <td>женат / замужем</td>\n",
       "      <td>0</td>\n",
       "      <td>F</td>\n",
       "      <td>сотрудник</td>\n",
       "      <td>0</td>\n",
       "      <td>112080.014102</td>\n",
       "      <td>приобретение автомобиля</td>\n",
       "    </tr>\n",
       "    <tr>\n",
       "      <th>2</th>\n",
       "      <td>0</td>\n",
       "      <td>-5623.422610</td>\n",
       "      <td>33</td>\n",
       "      <td>Среднее</td>\n",
       "      <td>1</td>\n",
       "      <td>женат / замужем</td>\n",
       "      <td>0</td>\n",
       "      <td>M</td>\n",
       "      <td>сотрудник</td>\n",
       "      <td>0</td>\n",
       "      <td>145885.952297</td>\n",
       "      <td>покупка жилья</td>\n",
       "    </tr>\n",
       "    <tr>\n",
       "      <th>3</th>\n",
       "      <td>3</td>\n",
       "      <td>-4124.747207</td>\n",
       "      <td>32</td>\n",
       "      <td>среднее</td>\n",
       "      <td>1</td>\n",
       "      <td>женат / замужем</td>\n",
       "      <td>0</td>\n",
       "      <td>M</td>\n",
       "      <td>сотрудник</td>\n",
       "      <td>0</td>\n",
       "      <td>267628.550329</td>\n",
       "      <td>дополнительное образование</td>\n",
       "    </tr>\n",
       "    <tr>\n",
       "      <th>4</th>\n",
       "      <td>0</td>\n",
       "      <td>340266.072047</td>\n",
       "      <td>53</td>\n",
       "      <td>среднее</td>\n",
       "      <td>1</td>\n",
       "      <td>гражданский брак</td>\n",
       "      <td>1</td>\n",
       "      <td>F</td>\n",
       "      <td>пенсионер</td>\n",
       "      <td>0</td>\n",
       "      <td>158616.077870</td>\n",
       "      <td>сыграть свадьбу</td>\n",
       "    </tr>\n",
       "    <tr>\n",
       "      <th>5</th>\n",
       "      <td>0</td>\n",
       "      <td>-926.185831</td>\n",
       "      <td>27</td>\n",
       "      <td>высшее</td>\n",
       "      <td>0</td>\n",
       "      <td>гражданский брак</td>\n",
       "      <td>1</td>\n",
       "      <td>M</td>\n",
       "      <td>компаньон</td>\n",
       "      <td>0</td>\n",
       "      <td>255763.565419</td>\n",
       "      <td>покупка жилья</td>\n",
       "    </tr>\n",
       "    <tr>\n",
       "      <th>6</th>\n",
       "      <td>0</td>\n",
       "      <td>-2879.202052</td>\n",
       "      <td>43</td>\n",
       "      <td>высшее</td>\n",
       "      <td>0</td>\n",
       "      <td>женат / замужем</td>\n",
       "      <td>0</td>\n",
       "      <td>F</td>\n",
       "      <td>компаньон</td>\n",
       "      <td>0</td>\n",
       "      <td>240525.971920</td>\n",
       "      <td>операции с жильем</td>\n",
       "    </tr>\n",
       "    <tr>\n",
       "      <th>7</th>\n",
       "      <td>0</td>\n",
       "      <td>-152.779569</td>\n",
       "      <td>50</td>\n",
       "      <td>СРЕДНЕЕ</td>\n",
       "      <td>1</td>\n",
       "      <td>женат / замужем</td>\n",
       "      <td>0</td>\n",
       "      <td>M</td>\n",
       "      <td>сотрудник</td>\n",
       "      <td>0</td>\n",
       "      <td>135823.934197</td>\n",
       "      <td>образование</td>\n",
       "    </tr>\n",
       "    <tr>\n",
       "      <th>8</th>\n",
       "      <td>2</td>\n",
       "      <td>-6929.865299</td>\n",
       "      <td>35</td>\n",
       "      <td>ВЫСШЕЕ</td>\n",
       "      <td>0</td>\n",
       "      <td>гражданский брак</td>\n",
       "      <td>1</td>\n",
       "      <td>F</td>\n",
       "      <td>сотрудник</td>\n",
       "      <td>0</td>\n",
       "      <td>95856.832424</td>\n",
       "      <td>на проведение свадьбы</td>\n",
       "    </tr>\n",
       "    <tr>\n",
       "      <th>9</th>\n",
       "      <td>0</td>\n",
       "      <td>-2188.756445</td>\n",
       "      <td>41</td>\n",
       "      <td>среднее</td>\n",
       "      <td>1</td>\n",
       "      <td>женат / замужем</td>\n",
       "      <td>0</td>\n",
       "      <td>M</td>\n",
       "      <td>сотрудник</td>\n",
       "      <td>0</td>\n",
       "      <td>144425.938277</td>\n",
       "      <td>покупка жилья для семьи</td>\n",
       "    </tr>\n",
       "  </tbody>\n",
       "</table>\n",
       "</div>"
      ],
      "text/plain": [
       "   children  days_employed  dob_years education  education_id  \\\n",
       "0         1   -8437.673028         42    высшее             0   \n",
       "1         1   -4024.803754         36   среднее             1   \n",
       "2         0   -5623.422610         33   Среднее             1   \n",
       "3         3   -4124.747207         32   среднее             1   \n",
       "4         0  340266.072047         53   среднее             1   \n",
       "5         0    -926.185831         27    высшее             0   \n",
       "6         0   -2879.202052         43    высшее             0   \n",
       "7         0    -152.779569         50   СРЕДНЕЕ             1   \n",
       "8         2   -6929.865299         35    ВЫСШЕЕ             0   \n",
       "9         0   -2188.756445         41   среднее             1   \n",
       "\n",
       "      family_status  family_status_id gender income_type  debt   total_income  \\\n",
       "0   женат / замужем                 0      F   сотрудник     0  253875.639453   \n",
       "1   женат / замужем                 0      F   сотрудник     0  112080.014102   \n",
       "2   женат / замужем                 0      M   сотрудник     0  145885.952297   \n",
       "3   женат / замужем                 0      M   сотрудник     0  267628.550329   \n",
       "4  гражданский брак                 1      F   пенсионер     0  158616.077870   \n",
       "5  гражданский брак                 1      M   компаньон     0  255763.565419   \n",
       "6   женат / замужем                 0      F   компаньон     0  240525.971920   \n",
       "7   женат / замужем                 0      M   сотрудник     0  135823.934197   \n",
       "8  гражданский брак                 1      F   сотрудник     0   95856.832424   \n",
       "9   женат / замужем                 0      M   сотрудник     0  144425.938277   \n",
       "\n",
       "                      purpose  \n",
       "0               покупка жилья  \n",
       "1     приобретение автомобиля  \n",
       "2               покупка жилья  \n",
       "3  дополнительное образование  \n",
       "4             сыграть свадьбу  \n",
       "5               покупка жилья  \n",
       "6           операции с жильем  \n",
       "7                 образование  \n",
       "8       на проведение свадьбы  \n",
       "9     покупка жилья для семьи  "
      ]
     },
     "execution_count": 3,
     "metadata": {},
     "output_type": "execute_result"
    }
   ],
   "source": [
    "#Обзор датасэта\n",
    "df.head(10)"
   ]
  },
  {
   "cell_type": "markdown",
   "id": "d8e45532",
   "metadata": {},
   "source": [
    "#### Первичные выводы\n",
    "1. В данных имеются отрицательные и невероятно большие значения в трудовом стаже (думаю, что это может быть связано с ошибкой в программе) \n",
    "2. Пропуски в столбцах days_employed и total_income в одних и тех же строках."
   ]
  },
  {
   "cell_type": "markdown",
   "id": "5e26e885",
   "metadata": {},
   "source": [
    "## Предобработка данных "
   ]
  },
  {
   "cell_type": "code",
   "execution_count": 4,
   "id": "f258a64e",
   "metadata": {},
   "outputs": [
    {
     "data": {
      "text/plain": [
       "children               0\n",
       "days_employed       2174\n",
       "dob_years              0\n",
       "education              0\n",
       "education_id           0\n",
       "family_status          0\n",
       "family_status_id       0\n",
       "gender                 0\n",
       "income_type            0\n",
       "debt                   0\n",
       "total_income        2174\n",
       "purpose                0\n",
       "dtype: int64"
      ]
     },
     "execution_count": 4,
     "metadata": {},
     "output_type": "execute_result"
    }
   ],
   "source": [
    "#Пропуски \n",
    "df.isna().sum()"
   ]
  },
  {
   "cell_type": "markdown",
   "id": "30c9f080",
   "metadata": {},
   "source": [
    "Всего строк 21525, пропущенных значений 2174, доля пропущенных значений 10%"
   ]
  },
  {
   "cell_type": "code",
   "execution_count": 5,
   "id": "506899fc",
   "metadata": {},
   "outputs": [
    {
     "data": {
      "text/html": [
       "<div>\n",
       "<style scoped>\n",
       "    .dataframe tbody tr th:only-of-type {\n",
       "        vertical-align: middle;\n",
       "    }\n",
       "\n",
       "    .dataframe tbody tr th {\n",
       "        vertical-align: top;\n",
       "    }\n",
       "\n",
       "    .dataframe thead th {\n",
       "        text-align: right;\n",
       "    }\n",
       "</style>\n",
       "<table border=\"1\" class=\"dataframe\">\n",
       "  <thead>\n",
       "    <tr style=\"text-align: right;\">\n",
       "      <th></th>\n",
       "      <th>children</th>\n",
       "      <th>days_employed</th>\n",
       "      <th>dob_years</th>\n",
       "      <th>education</th>\n",
       "      <th>education_id</th>\n",
       "      <th>family_status</th>\n",
       "      <th>family_status_id</th>\n",
       "      <th>gender</th>\n",
       "      <th>income_type</th>\n",
       "      <th>debt</th>\n",
       "      <th>total_income</th>\n",
       "      <th>purpose</th>\n",
       "    </tr>\n",
       "  </thead>\n",
       "  <tbody>\n",
       "    <tr>\n",
       "      <th>12</th>\n",
       "      <td>0</td>\n",
       "      <td>NaN</td>\n",
       "      <td>65</td>\n",
       "      <td>среднее</td>\n",
       "      <td>1</td>\n",
       "      <td>гражданский брак</td>\n",
       "      <td>1</td>\n",
       "      <td>M</td>\n",
       "      <td>пенсионер</td>\n",
       "      <td>0</td>\n",
       "      <td>NaN</td>\n",
       "      <td>сыграть свадьбу</td>\n",
       "    </tr>\n",
       "    <tr>\n",
       "      <th>26</th>\n",
       "      <td>0</td>\n",
       "      <td>NaN</td>\n",
       "      <td>41</td>\n",
       "      <td>среднее</td>\n",
       "      <td>1</td>\n",
       "      <td>женат / замужем</td>\n",
       "      <td>0</td>\n",
       "      <td>M</td>\n",
       "      <td>госслужащий</td>\n",
       "      <td>0</td>\n",
       "      <td>NaN</td>\n",
       "      <td>образование</td>\n",
       "    </tr>\n",
       "    <tr>\n",
       "      <th>29</th>\n",
       "      <td>0</td>\n",
       "      <td>NaN</td>\n",
       "      <td>63</td>\n",
       "      <td>среднее</td>\n",
       "      <td>1</td>\n",
       "      <td>Не женат / не замужем</td>\n",
       "      <td>4</td>\n",
       "      <td>F</td>\n",
       "      <td>пенсионер</td>\n",
       "      <td>0</td>\n",
       "      <td>NaN</td>\n",
       "      <td>строительство жилой недвижимости</td>\n",
       "    </tr>\n",
       "    <tr>\n",
       "      <th>41</th>\n",
       "      <td>0</td>\n",
       "      <td>NaN</td>\n",
       "      <td>50</td>\n",
       "      <td>среднее</td>\n",
       "      <td>1</td>\n",
       "      <td>женат / замужем</td>\n",
       "      <td>0</td>\n",
       "      <td>F</td>\n",
       "      <td>госслужащий</td>\n",
       "      <td>0</td>\n",
       "      <td>NaN</td>\n",
       "      <td>сделка с подержанным автомобилем</td>\n",
       "    </tr>\n",
       "    <tr>\n",
       "      <th>55</th>\n",
       "      <td>0</td>\n",
       "      <td>NaN</td>\n",
       "      <td>54</td>\n",
       "      <td>среднее</td>\n",
       "      <td>1</td>\n",
       "      <td>гражданский брак</td>\n",
       "      <td>1</td>\n",
       "      <td>F</td>\n",
       "      <td>пенсионер</td>\n",
       "      <td>1</td>\n",
       "      <td>NaN</td>\n",
       "      <td>сыграть свадьбу</td>\n",
       "    </tr>\n",
       "  </tbody>\n",
       "</table>\n",
       "</div>"
      ],
      "text/plain": [
       "    children  days_employed  dob_years education  education_id  \\\n",
       "12         0            NaN         65   среднее             1   \n",
       "26         0            NaN         41   среднее             1   \n",
       "29         0            NaN         63   среднее             1   \n",
       "41         0            NaN         50   среднее             1   \n",
       "55         0            NaN         54   среднее             1   \n",
       "\n",
       "            family_status  family_status_id gender  income_type  debt  \\\n",
       "12       гражданский брак                 1      M    пенсионер     0   \n",
       "26        женат / замужем                 0      M  госслужащий     0   \n",
       "29  Не женат / не замужем                 4      F    пенсионер     0   \n",
       "41        женат / замужем                 0      F  госслужащий     0   \n",
       "55       гражданский брак                 1      F    пенсионер     1   \n",
       "\n",
       "    total_income                           purpose  \n",
       "12           NaN                   сыграть свадьбу  \n",
       "26           NaN                       образование  \n",
       "29           NaN  строительство жилой недвижимости  \n",
       "41           NaN  сделка с подержанным автомобилем  \n",
       "55           NaN                   сыграть свадьбу  "
      ]
     },
     "execution_count": 5,
     "metadata": {},
     "output_type": "execute_result"
    }
   ],
   "source": [
    "df[df.isna().any(axis=1)].head()"
   ]
  },
  {
   "cell_type": "markdown",
   "id": "94390a73",
   "metadata": {},
   "source": [
    "Пропуски есть только в колонках со стажем и доходом в одних и тех же строках. Думаю они связаны.  \n",
    "Думаю, надо заменить пропуски на медианные значения, что большие цифры не так сильно влияли "
   ]
  },
  {
   "cell_type": "markdown",
   "id": "e3e0e1d3",
   "metadata": {},
   "source": [
    "По хорошему за объянением странностей в датасэте необходимо было бы обратиться к источнику этих данных. Но тк такой возможности нет, то придется воспольховаться логикой и интуицией.\n",
    "\n",
    "Тк в стаже отрицательные значение невозможны, то **преобразуем из и возьмем значение по модулю**"
   ]
  },
  {
   "cell_type": "code",
   "execution_count": 6,
   "id": "fdef3270",
   "metadata": {},
   "outputs": [],
   "source": [
    "#Преобразование отрицательных значение в положительные \n",
    "df['days_employed'] = abs(df['days_employed'])"
   ]
  },
  {
   "cell_type": "code",
   "execution_count": 7,
   "id": "55804c99",
   "metadata": {},
   "outputs": [],
   "source": [
    "#Функция для описания значений в колонке \n",
    "def description(column):\n",
    "    print('min', column.min())\n",
    "    print('max', column.max())\n",
    "    print('mean', column.mean())\n",
    "    print('median', column.median())\n",
    "    "
   ]
  },
  {
   "cell_type": "code",
   "execution_count": 8,
   "id": "2b491b60",
   "metadata": {},
   "outputs": [
    {
     "name": "stdout",
     "output_type": "stream",
     "text": [
      "min 24.14163324048118\n",
      "max 401755.40047533\n",
      "mean 66914.72890682236\n",
      "median 2194.220566878695\n"
     ]
    },
    {
     "data": {
      "text/html": [
       "<div>\n",
       "<style scoped>\n",
       "    .dataframe tbody tr th:only-of-type {\n",
       "        vertical-align: middle;\n",
       "    }\n",
       "\n",
       "    .dataframe tbody tr th {\n",
       "        vertical-align: top;\n",
       "    }\n",
       "\n",
       "    .dataframe thead th {\n",
       "        text-align: right;\n",
       "    }\n",
       "</style>\n",
       "<table border=\"1\" class=\"dataframe\">\n",
       "  <thead>\n",
       "    <tr style=\"text-align: right;\">\n",
       "      <th></th>\n",
       "      <th>children</th>\n",
       "      <th>days_employed</th>\n",
       "      <th>dob_years</th>\n",
       "      <th>education</th>\n",
       "      <th>education_id</th>\n",
       "      <th>family_status</th>\n",
       "      <th>family_status_id</th>\n",
       "      <th>gender</th>\n",
       "      <th>income_type</th>\n",
       "      <th>debt</th>\n",
       "      <th>total_income</th>\n",
       "      <th>purpose</th>\n",
       "    </tr>\n",
       "  </thead>\n",
       "  <tbody>\n",
       "    <tr>\n",
       "      <th>6954</th>\n",
       "      <td>0</td>\n",
       "      <td>401755.400475</td>\n",
       "      <td>56</td>\n",
       "      <td>среднее</td>\n",
       "      <td>1</td>\n",
       "      <td>вдовец / вдова</td>\n",
       "      <td>2</td>\n",
       "      <td>F</td>\n",
       "      <td>пенсионер</td>\n",
       "      <td>0</td>\n",
       "      <td>176278.441171</td>\n",
       "      <td>ремонт жилью</td>\n",
       "    </tr>\n",
       "    <tr>\n",
       "      <th>10006</th>\n",
       "      <td>0</td>\n",
       "      <td>401715.811749</td>\n",
       "      <td>69</td>\n",
       "      <td>высшее</td>\n",
       "      <td>0</td>\n",
       "      <td>Не женат / не замужем</td>\n",
       "      <td>4</td>\n",
       "      <td>F</td>\n",
       "      <td>пенсионер</td>\n",
       "      <td>0</td>\n",
       "      <td>57390.256908</td>\n",
       "      <td>получение образования</td>\n",
       "    </tr>\n",
       "    <tr>\n",
       "      <th>7664</th>\n",
       "      <td>1</td>\n",
       "      <td>401675.093434</td>\n",
       "      <td>61</td>\n",
       "      <td>среднее</td>\n",
       "      <td>1</td>\n",
       "      <td>женат / замужем</td>\n",
       "      <td>0</td>\n",
       "      <td>F</td>\n",
       "      <td>пенсионер</td>\n",
       "      <td>0</td>\n",
       "      <td>126214.519212</td>\n",
       "      <td>операции с жильем</td>\n",
       "    </tr>\n",
       "    <tr>\n",
       "      <th>2156</th>\n",
       "      <td>0</td>\n",
       "      <td>401674.466633</td>\n",
       "      <td>60</td>\n",
       "      <td>среднее</td>\n",
       "      <td>1</td>\n",
       "      <td>женат / замужем</td>\n",
       "      <td>0</td>\n",
       "      <td>M</td>\n",
       "      <td>пенсионер</td>\n",
       "      <td>0</td>\n",
       "      <td>325395.724541</td>\n",
       "      <td>автомобили</td>\n",
       "    </tr>\n",
       "    <tr>\n",
       "      <th>7794</th>\n",
       "      <td>0</td>\n",
       "      <td>401663.850046</td>\n",
       "      <td>61</td>\n",
       "      <td>среднее</td>\n",
       "      <td>1</td>\n",
       "      <td>гражданский брак</td>\n",
       "      <td>1</td>\n",
       "      <td>F</td>\n",
       "      <td>пенсионер</td>\n",
       "      <td>0</td>\n",
       "      <td>48286.441362</td>\n",
       "      <td>свадьба</td>\n",
       "    </tr>\n",
       "  </tbody>\n",
       "</table>\n",
       "</div>"
      ],
      "text/plain": [
       "       children  days_employed  dob_years education  education_id  \\\n",
       "6954          0  401755.400475         56   среднее             1   \n",
       "10006         0  401715.811749         69    высшее             0   \n",
       "7664          1  401675.093434         61   среднее             1   \n",
       "2156          0  401674.466633         60   среднее             1   \n",
       "7794          0  401663.850046         61   среднее             1   \n",
       "\n",
       "               family_status  family_status_id gender income_type  debt  \\\n",
       "6954          вдовец / вдова                 2      F   пенсионер     0   \n",
       "10006  Не женат / не замужем                 4      F   пенсионер     0   \n",
       "7664         женат / замужем                 0      F   пенсионер     0   \n",
       "2156         женат / замужем                 0      M   пенсионер     0   \n",
       "7794        гражданский брак                 1      F   пенсионер     0   \n",
       "\n",
       "        total_income                purpose  \n",
       "6954   176278.441171           ремонт жилью  \n",
       "10006   57390.256908  получение образования  \n",
       "7664   126214.519212      операции с жильем  \n",
       "2156   325395.724541             автомобили  \n",
       "7794    48286.441362                свадьба  "
      ]
     },
     "metadata": {},
     "output_type": "display_data"
    },
    {
     "data": {
      "text/html": [
       "<div>\n",
       "<style scoped>\n",
       "    .dataframe tbody tr th:only-of-type {\n",
       "        vertical-align: middle;\n",
       "    }\n",
       "\n",
       "    .dataframe tbody tr th {\n",
       "        vertical-align: top;\n",
       "    }\n",
       "\n",
       "    .dataframe thead th {\n",
       "        text-align: right;\n",
       "    }\n",
       "</style>\n",
       "<table border=\"1\" class=\"dataframe\">\n",
       "  <thead>\n",
       "    <tr style=\"text-align: right;\">\n",
       "      <th></th>\n",
       "      <th>children</th>\n",
       "      <th>days_employed</th>\n",
       "      <th>dob_years</th>\n",
       "      <th>education</th>\n",
       "      <th>education_id</th>\n",
       "      <th>family_status</th>\n",
       "      <th>family_status_id</th>\n",
       "      <th>gender</th>\n",
       "      <th>income_type</th>\n",
       "      <th>debt</th>\n",
       "      <th>total_income</th>\n",
       "      <th>purpose</th>\n",
       "    </tr>\n",
       "  </thead>\n",
       "  <tbody>\n",
       "    <tr>\n",
       "      <th>17437</th>\n",
       "      <td>1</td>\n",
       "      <td>24.141633</td>\n",
       "      <td>31</td>\n",
       "      <td>среднее</td>\n",
       "      <td>1</td>\n",
       "      <td>женат / замужем</td>\n",
       "      <td>0</td>\n",
       "      <td>F</td>\n",
       "      <td>сотрудник</td>\n",
       "      <td>1</td>\n",
       "      <td>166952.415427</td>\n",
       "      <td>высшее образование</td>\n",
       "    </tr>\n",
       "    <tr>\n",
       "      <th>8336</th>\n",
       "      <td>0</td>\n",
       "      <td>24.240695</td>\n",
       "      <td>32</td>\n",
       "      <td>высшее</td>\n",
       "      <td>0</td>\n",
       "      <td>Не женат / не замужем</td>\n",
       "      <td>4</td>\n",
       "      <td>M</td>\n",
       "      <td>сотрудник</td>\n",
       "      <td>0</td>\n",
       "      <td>124115.373655</td>\n",
       "      <td>получение дополнительного образования</td>\n",
       "    </tr>\n",
       "    <tr>\n",
       "      <th>6157</th>\n",
       "      <td>2</td>\n",
       "      <td>30.195337</td>\n",
       "      <td>47</td>\n",
       "      <td>среднее</td>\n",
       "      <td>1</td>\n",
       "      <td>гражданский брак</td>\n",
       "      <td>1</td>\n",
       "      <td>M</td>\n",
       "      <td>компаньон</td>\n",
       "      <td>0</td>\n",
       "      <td>231461.185606</td>\n",
       "      <td>свадьба</td>\n",
       "    </tr>\n",
       "    <tr>\n",
       "      <th>9683</th>\n",
       "      <td>0</td>\n",
       "      <td>33.520665</td>\n",
       "      <td>43</td>\n",
       "      <td>среднее</td>\n",
       "      <td>1</td>\n",
       "      <td>Не женат / не замужем</td>\n",
       "      <td>4</td>\n",
       "      <td>M</td>\n",
       "      <td>сотрудник</td>\n",
       "      <td>1</td>\n",
       "      <td>128555.897209</td>\n",
       "      <td>приобретение автомобиля</td>\n",
       "    </tr>\n",
       "    <tr>\n",
       "      <th>2127</th>\n",
       "      <td>1</td>\n",
       "      <td>34.701045</td>\n",
       "      <td>31</td>\n",
       "      <td>высшее</td>\n",
       "      <td>0</td>\n",
       "      <td>женат / замужем</td>\n",
       "      <td>0</td>\n",
       "      <td>F</td>\n",
       "      <td>компаньон</td>\n",
       "      <td>0</td>\n",
       "      <td>90557.994311</td>\n",
       "      <td>получение образования</td>\n",
       "    </tr>\n",
       "  </tbody>\n",
       "</table>\n",
       "</div>"
      ],
      "text/plain": [
       "       children  days_employed  dob_years education  education_id  \\\n",
       "17437         1      24.141633         31   среднее             1   \n",
       "8336          0      24.240695         32    высшее             0   \n",
       "6157          2      30.195337         47   среднее             1   \n",
       "9683          0      33.520665         43   среднее             1   \n",
       "2127          1      34.701045         31    высшее             0   \n",
       "\n",
       "               family_status  family_status_id gender income_type  debt  \\\n",
       "17437        женат / замужем                 0      F   сотрудник     1   \n",
       "8336   Не женат / не замужем                 4      M   сотрудник     0   \n",
       "6157        гражданский брак                 1      M   компаньон     0   \n",
       "9683   Не женат / не замужем                 4      M   сотрудник     1   \n",
       "2127         женат / замужем                 0      F   компаньон     0   \n",
       "\n",
       "        total_income                                purpose  \n",
       "17437  166952.415427                     высшее образование  \n",
       "8336   124115.373655  получение дополнительного образования  \n",
       "6157   231461.185606                                свадьба  \n",
       "9683   128555.897209                приобретение автомобиля  \n",
       "2127    90557.994311                  получение образования  "
      ]
     },
     "metadata": {},
     "output_type": "display_data"
    }
   ],
   "source": [
    "#Характеристика опыта работы \n",
    "description(df['days_employed'])\n",
    "display(df.nlargest(5, 'days_employed'))\n",
    "display(df.nsmallest(5, 'days_employed'))"
   ]
  },
  {
   "cell_type": "markdown",
   "id": "6143fe2a",
   "metadata": {},
   "source": [
    "Самые большие числа выглядят совсем нереалистичными, больше похоже на \"Минут\" устроен. \n",
    "Самые маленькие числа тоже выглядят нереалистичными, больше похоже на выбросы или на ошибки в программе.  \n",
    "Причем медианные значение 2200 дней (6 лет), а среднее 67000 (7 000 лет), значит, гигантских значений не сильно много\n",
    "На первый вгляд, есть взаимосвязь больших значений опыта работы со статусом \"пенсионер\""
   ]
  },
  {
   "cell_type": "code",
   "execution_count": 9,
   "id": "778b467c",
   "metadata": {},
   "outputs": [
    {
     "data": {
      "text/plain": [
       "<AxesSubplot:xlabel='days_employed', ylabel='Count'>"
      ]
     },
     "execution_count": 9,
     "metadata": {},
     "output_type": "execute_result"
    },
    {
     "data": {
      "image/png": "[encoded data removed]",
      "text/plain": [
       "<Figure size 432x288 with 1 Axes>"
      ]
     },
     "metadata": {
      "needs_background": "light"
     },
     "output_type": "display_data"
    }
   ],
   "source": [
    "#Гистограмма \"Опыт работы\"\n",
    "sns.histplot(data=df, x = 'days_employed', bins=30,  kde=True)"
   ]
  },
  {
   "cell_type": "markdown",
   "id": "2265568e",
   "metadata": {},
   "source": [
    "По этой гистограмме видно, что в данных два пика. Реалистичный (до 50000 дней) нереалистичный, скорее всего связанный с ошибкой при сборе данных"
   ]
  },
  {
   "cell_type": "code",
   "execution_count": 10,
   "id": "dca2d450",
   "metadata": {},
   "outputs": [
    {
     "name": "stdout",
     "output_type": "stream",
     "text": [
      "children            0.160139\n",
      "days_employed       0.160139\n",
      "dob_years           0.160139\n",
      "education           0.160139\n",
      "education_id        0.160139\n",
      "family_status       0.160139\n",
      "family_status_id    0.160139\n",
      "gender              0.160139\n",
      "income_type         0.160139\n",
      "debt                0.160139\n",
      "total_income        0.160139\n",
      "purpose             0.160139\n",
      "dtype: float64\n"
     ]
    }
   ],
   "source": [
    "# % нереальных значений от датасэта \n",
    "print(df.query('days_employed > 17500').count() /  len(df))"
   ]
  },
  {
   "cell_type": "code",
   "execution_count": 11,
   "id": "d169bdc7",
   "metadata": {},
   "outputs": [
    {
     "data": {
      "text/plain": [
       "<AxesSubplot:xlabel='days_employed', ylabel='Count'>"
      ]
     },
     "execution_count": 11,
     "metadata": {},
     "output_type": "execute_result"
    },
    {
     "data": {
      "image/png": "[encoded data removed]",
      "text/plain": [
       "<Figure size 432x288 with 1 Axes>"
      ]
     },
     "metadata": {
      "needs_background": "light"
     },
     "output_type": "display_data"
    }
   ],
   "source": [
    "# Гистограмма реалистичной части \n",
    "sns.histplot(data=df.query('days_employed < 50000'), x = 'days_employed', bins=30,  kde=True)"
   ]
  },
  {
   "cell_type": "markdown",
   "id": "c797eac7",
   "metadata": {},
   "source": [
    "В целом, опыт работы до 17500 дней (47 лет), кажется реалистичным. "
   ]
  },
  {
   "cell_type": "code",
   "execution_count": 12,
   "id": "bbe2cfd8",
   "metadata": {},
   "outputs": [
    {
     "data": {
      "text/plain": [
       "income_type\n",
       "безработный        366413.652744\n",
       "в декрете            3296.759962\n",
       "госслужащий          3399.896902\n",
       "компаньон            2111.524398\n",
       "пенсионер          365003.491245\n",
       "предприниматель       520.848083\n",
       "сотрудник            2326.499216\n",
       "студент               578.751554\n",
       "Name: days_employed, dtype: float64"
      ]
     },
     "execution_count": 12,
     "metadata": {},
     "output_type": "execute_result"
    }
   ],
   "source": [
    "#Зависимость опыта работы от типа деятельности \n",
    "df.groupby('income_type')['days_employed'].agg('mean')"
   ]
  },
  {
   "cell_type": "markdown",
   "id": "68e1ca3b",
   "metadata": {},
   "source": [
    "Самые большие значения в стаже у пенсионеров и безработных.  \n",
    "Эти данные сложно как-то интерпретировать и  на что-то заменить, необходимо их запросить повторно.    \n",
    "Пропуски заполню медианными значениями.   \n",
    "Данные по трудовому стажу в исследовании взаимосвязи семейного положения и количества детей на факт погашения кредита в срок не столь необходимы, а тк из 16% от датасэта удалить их нельзя"
   ]
  },
  {
   "cell_type": "code",
   "execution_count": 13,
   "id": "29c4cd1f",
   "metadata": {},
   "outputs": [
    {
     "name": "stdout",
     "output_type": "stream",
     "text": [
      "min 20667.26379327158\n",
      "max 2265604.028722744\n",
      "mean 167422.30220817294\n",
      "median 145017.93753253992\n",
      "None\n"
     ]
    },
    {
     "data": {
      "text/html": [
       "<div>\n",
       "<style scoped>\n",
       "    .dataframe tbody tr th:only-of-type {\n",
       "        vertical-align: middle;\n",
       "    }\n",
       "\n",
       "    .dataframe tbody tr th {\n",
       "        vertical-align: top;\n",
       "    }\n",
       "\n",
       "    .dataframe thead th {\n",
       "        text-align: right;\n",
       "    }\n",
       "</style>\n",
       "<table border=\"1\" class=\"dataframe\">\n",
       "  <thead>\n",
       "    <tr style=\"text-align: right;\">\n",
       "      <th></th>\n",
       "      <th>children</th>\n",
       "      <th>days_employed</th>\n",
       "      <th>dob_years</th>\n",
       "      <th>education</th>\n",
       "      <th>education_id</th>\n",
       "      <th>family_status</th>\n",
       "      <th>family_status_id</th>\n",
       "      <th>gender</th>\n",
       "      <th>income_type</th>\n",
       "      <th>debt</th>\n",
       "      <th>total_income</th>\n",
       "      <th>purpose</th>\n",
       "    </tr>\n",
       "  </thead>\n",
       "  <tbody>\n",
       "    <tr>\n",
       "      <th>12412</th>\n",
       "      <td>0</td>\n",
       "      <td>1477.438114</td>\n",
       "      <td>44</td>\n",
       "      <td>высшее</td>\n",
       "      <td>0</td>\n",
       "      <td>женат / замужем</td>\n",
       "      <td>0</td>\n",
       "      <td>M</td>\n",
       "      <td>компаньон</td>\n",
       "      <td>0</td>\n",
       "      <td>2.265604e+06</td>\n",
       "      <td>ремонт жилью</td>\n",
       "    </tr>\n",
       "    <tr>\n",
       "      <th>19606</th>\n",
       "      <td>1</td>\n",
       "      <td>2577.664662</td>\n",
       "      <td>39</td>\n",
       "      <td>высшее</td>\n",
       "      <td>0</td>\n",
       "      <td>женат / замужем</td>\n",
       "      <td>0</td>\n",
       "      <td>M</td>\n",
       "      <td>компаньон</td>\n",
       "      <td>1</td>\n",
       "      <td>2.200852e+06</td>\n",
       "      <td>строительство недвижимости</td>\n",
       "    </tr>\n",
       "    <tr>\n",
       "      <th>9169</th>\n",
       "      <td>1</td>\n",
       "      <td>5248.554336</td>\n",
       "      <td>35</td>\n",
       "      <td>среднее</td>\n",
       "      <td>1</td>\n",
       "      <td>гражданский брак</td>\n",
       "      <td>1</td>\n",
       "      <td>M</td>\n",
       "      <td>сотрудник</td>\n",
       "      <td>0</td>\n",
       "      <td>1.726276e+06</td>\n",
       "      <td>дополнительное образование</td>\n",
       "    </tr>\n",
       "    <tr>\n",
       "      <th>20809</th>\n",
       "      <td>0</td>\n",
       "      <td>4719.273476</td>\n",
       "      <td>61</td>\n",
       "      <td>среднее</td>\n",
       "      <td>1</td>\n",
       "      <td>Не женат / не замужем</td>\n",
       "      <td>4</td>\n",
       "      <td>F</td>\n",
       "      <td>сотрудник</td>\n",
       "      <td>0</td>\n",
       "      <td>1.715018e+06</td>\n",
       "      <td>покупка жилья для семьи</td>\n",
       "    </tr>\n",
       "    <tr>\n",
       "      <th>17178</th>\n",
       "      <td>0</td>\n",
       "      <td>5734.127087</td>\n",
       "      <td>42</td>\n",
       "      <td>высшее</td>\n",
       "      <td>0</td>\n",
       "      <td>гражданский брак</td>\n",
       "      <td>1</td>\n",
       "      <td>M</td>\n",
       "      <td>компаньон</td>\n",
       "      <td>0</td>\n",
       "      <td>1.711309e+06</td>\n",
       "      <td>сыграть свадьбу</td>\n",
       "    </tr>\n",
       "  </tbody>\n",
       "</table>\n",
       "</div>"
      ],
      "text/plain": [
       "       children  days_employed  dob_years education  education_id  \\\n",
       "12412         0    1477.438114         44    высшее             0   \n",
       "19606         1    2577.664662         39    высшее             0   \n",
       "9169          1    5248.554336         35   среднее             1   \n",
       "20809         0    4719.273476         61   среднее             1   \n",
       "17178         0    5734.127087         42    высшее             0   \n",
       "\n",
       "               family_status  family_status_id gender income_type  debt  \\\n",
       "12412        женат / замужем                 0      M   компаньон     0   \n",
       "19606        женат / замужем                 0      M   компаньон     1   \n",
       "9169        гражданский брак                 1      M   сотрудник     0   \n",
       "20809  Не женат / не замужем                 4      F   сотрудник     0   \n",
       "17178       гражданский брак                 1      M   компаньон     0   \n",
       "\n",
       "       total_income                     purpose  \n",
       "12412  2.265604e+06                ремонт жилью  \n",
       "19606  2.200852e+06  строительство недвижимости  \n",
       "9169   1.726276e+06  дополнительное образование  \n",
       "20809  1.715018e+06     покупка жилья для семьи  \n",
       "17178  1.711309e+06             сыграть свадьбу  "
      ]
     },
     "metadata": {},
     "output_type": "display_data"
    },
    {
     "data": {
      "text/html": [
       "<div>\n",
       "<style scoped>\n",
       "    .dataframe tbody tr th:only-of-type {\n",
       "        vertical-align: middle;\n",
       "    }\n",
       "\n",
       "    .dataframe tbody tr th {\n",
       "        vertical-align: top;\n",
       "    }\n",
       "\n",
       "    .dataframe thead th {\n",
       "        text-align: right;\n",
       "    }\n",
       "</style>\n",
       "<table border=\"1\" class=\"dataframe\">\n",
       "  <thead>\n",
       "    <tr style=\"text-align: right;\">\n",
       "      <th></th>\n",
       "      <th>children</th>\n",
       "      <th>days_employed</th>\n",
       "      <th>dob_years</th>\n",
       "      <th>education</th>\n",
       "      <th>education_id</th>\n",
       "      <th>family_status</th>\n",
       "      <th>family_status_id</th>\n",
       "      <th>gender</th>\n",
       "      <th>income_type</th>\n",
       "      <th>debt</th>\n",
       "      <th>total_income</th>\n",
       "      <th>purpose</th>\n",
       "    </tr>\n",
       "  </thead>\n",
       "  <tbody>\n",
       "    <tr>\n",
       "      <th>14585</th>\n",
       "      <td>0</td>\n",
       "      <td>359219.059341</td>\n",
       "      <td>57</td>\n",
       "      <td>среднее</td>\n",
       "      <td>1</td>\n",
       "      <td>женат / замужем</td>\n",
       "      <td>0</td>\n",
       "      <td>F</td>\n",
       "      <td>пенсионер</td>\n",
       "      <td>1</td>\n",
       "      <td>20667.263793</td>\n",
       "      <td>недвижимость</td>\n",
       "    </tr>\n",
       "    <tr>\n",
       "      <th>13006</th>\n",
       "      <td>0</td>\n",
       "      <td>369708.589113</td>\n",
       "      <td>37</td>\n",
       "      <td>среднее</td>\n",
       "      <td>1</td>\n",
       "      <td>гражданский брак</td>\n",
       "      <td>1</td>\n",
       "      <td>M</td>\n",
       "      <td>пенсионер</td>\n",
       "      <td>0</td>\n",
       "      <td>21205.280566</td>\n",
       "      <td>заняться высшим образованием</td>\n",
       "    </tr>\n",
       "    <tr>\n",
       "      <th>16174</th>\n",
       "      <td>1</td>\n",
       "      <td>3642.820023</td>\n",
       "      <td>52</td>\n",
       "      <td>Среднее</td>\n",
       "      <td>1</td>\n",
       "      <td>женат / замужем</td>\n",
       "      <td>0</td>\n",
       "      <td>M</td>\n",
       "      <td>сотрудник</td>\n",
       "      <td>0</td>\n",
       "      <td>21367.648356</td>\n",
       "      <td>приобретение автомобиля</td>\n",
       "    </tr>\n",
       "    <tr>\n",
       "      <th>1598</th>\n",
       "      <td>0</td>\n",
       "      <td>359726.104207</td>\n",
       "      <td>68</td>\n",
       "      <td>среднее</td>\n",
       "      <td>1</td>\n",
       "      <td>гражданский брак</td>\n",
       "      <td>1</td>\n",
       "      <td>M</td>\n",
       "      <td>пенсионер</td>\n",
       "      <td>0</td>\n",
       "      <td>21695.101789</td>\n",
       "      <td>на проведение свадьбы</td>\n",
       "    </tr>\n",
       "    <tr>\n",
       "      <th>14276</th>\n",
       "      <td>0</td>\n",
       "      <td>346602.453782</td>\n",
       "      <td>61</td>\n",
       "      <td>среднее</td>\n",
       "      <td>1</td>\n",
       "      <td>женат / замужем</td>\n",
       "      <td>0</td>\n",
       "      <td>F</td>\n",
       "      <td>пенсионер</td>\n",
       "      <td>0</td>\n",
       "      <td>21895.614355</td>\n",
       "      <td>недвижимость</td>\n",
       "    </tr>\n",
       "  </tbody>\n",
       "</table>\n",
       "</div>"
      ],
      "text/plain": [
       "       children  days_employed  dob_years education  education_id  \\\n",
       "14585         0  359219.059341         57   среднее             1   \n",
       "13006         0  369708.589113         37   среднее             1   \n",
       "16174         1    3642.820023         52   Среднее             1   \n",
       "1598          0  359726.104207         68   среднее             1   \n",
       "14276         0  346602.453782         61   среднее             1   \n",
       "\n",
       "          family_status  family_status_id gender income_type  debt  \\\n",
       "14585   женат / замужем                 0      F   пенсионер     1   \n",
       "13006  гражданский брак                 1      M   пенсионер     0   \n",
       "16174   женат / замужем                 0      M   сотрудник     0   \n",
       "1598   гражданский брак                 1      M   пенсионер     0   \n",
       "14276   женат / замужем                 0      F   пенсионер     0   \n",
       "\n",
       "       total_income                       purpose  \n",
       "14585  20667.263793                  недвижимость  \n",
       "13006  21205.280566  заняться высшим образованием  \n",
       "16174  21367.648356       приобретение автомобиля  \n",
       "1598   21695.101789         на проведение свадьбы  \n",
       "14276  21895.614355                  недвижимость  "
      ]
     },
     "metadata": {},
     "output_type": "display_data"
    }
   ],
   "source": [
    "#Характеристика дохода \n",
    "print(description(df['total_income']))\n",
    "display(df.nlargest(5, 'total_income'))\n",
    "display(df.nsmallest(5, 'total_income'))"
   ]
  },
  {
   "cell_type": "markdown",
   "id": "8a148d17",
   "metadata": {},
   "source": [
    "На первый взгляд значения дохода реалистичные"
   ]
  },
  {
   "cell_type": "code",
   "execution_count": 14,
   "id": "e45f9663",
   "metadata": {},
   "outputs": [
    {
     "data": {
      "text/plain": [
       "<AxesSubplot:xlabel='total_income', ylabel='Count'>"
      ]
     },
     "execution_count": 14,
     "metadata": {},
     "output_type": "execute_result"
    },
    {
     "data": {
      "image/png": "[encoded data removed]",
      "text/plain": [
       "<Figure size 432x288 with 1 Axes>"
      ]
     },
     "metadata": {
      "needs_background": "light"
     },
     "output_type": "display_data"
    }
   ],
   "source": [
    "sns.histplot(data=df, x='total_income', bins=30, kde=True)"
   ]
  },
  {
   "cell_type": "markdown",
   "id": "0ec1251c",
   "metadata": {},
   "source": [
    "В целом, данные без особенностей. Кажется есть немного выбросов"
   ]
  },
  {
   "cell_type": "code",
   "execution_count": 15,
   "id": "b85df08a",
   "metadata": {},
   "outputs": [
    {
     "name": "stdout",
     "output_type": "stream",
     "text": [
      "children            0.010314\n",
      "days_employed       0.010314\n",
      "dob_years           0.010314\n",
      "education           0.010314\n",
      "education_id        0.010314\n",
      "family_status       0.010314\n",
      "family_status_id    0.010314\n",
      "gender              0.010314\n",
      "income_type         0.010314\n",
      "debt                0.010314\n",
      "total_income        0.010314\n",
      "purpose             0.010314\n",
      "dtype: float64\n"
     ]
    },
    {
     "data": {
      "image/png": "[encoded data removed]",
      "text/plain": [
       "<Figure size 432x288 with 1 Axes>"
      ]
     },
     "metadata": {
      "needs_background": "light"
     },
     "output_type": "display_data"
    }
   ],
   "source": [
    "sns.boxplot(df['total_income'])\n",
    "print(df.query('total_income > 0.5 * 10**6').count()/len(df))"
   ]
  },
  {
   "cell_type": "markdown",
   "id": "8ff33f44",
   "metadata": {},
   "source": [
    "Да, все, что больше 0.5 * 10^6  можно назвать выбросами, это всего 1% от датасэта, можно удалить \n"
   ]
  },
  {
   "cell_type": "code",
   "execution_count": 16,
   "id": "14915744",
   "metadata": {},
   "outputs": [
    {
     "name": "stdout",
     "output_type": "stream",
     "text": [
      "сотрудник 142594.39684740017\n",
      "пенсионер 118514.48641164352\n",
      "компаньон 172357.95096577113\n",
      "госслужащий 150447.9352830068\n",
      "безработный 131339.7516762103\n",
      "предприниматель 499163.1449470857\n",
      "студент 98201.62531401133\n",
      "в декрете 53829.13072905995\n"
     ]
    }
   ],
   "source": [
    "#Зависимость дохода от типа деятельности \n",
    "for i in df['income_type'].unique(): \n",
    "    print(i, df.loc[df['income_type']==i, 'total_income'].median())"
   ]
  },
  {
   "cell_type": "markdown",
   "id": "3587a0ca",
   "metadata": {},
   "source": [
    "Логично, что размер дохода зависит от типа деятельности. Заменю пропуски медианным значением для типа деятельности. "
   ]
  },
  {
   "cell_type": "code",
   "execution_count": 17,
   "id": "18e988f6",
   "metadata": {},
   "outputs": [
    {
     "name": "stdout",
     "output_type": "stream",
     "text": [
      "0\n"
     ]
    }
   ],
   "source": [
    "# Заполним пропуски в столбце с доходом медианным значением для типа дохода\n",
    "for i in df['income_type'].unique():\n",
    "    median = df.loc[df['income_type'] == i, 'total_income'].median()\n",
    "    df.loc[(df['total_income'].isna())&(df['income_type'] == i), 'total_income'] = median\n",
    "print(df['total_income'].isna().sum())"
   ]
  },
  {
   "cell_type": "code",
   "execution_count": 18,
   "id": "d97c71fc",
   "metadata": {},
   "outputs": [
    {
     "data": {
      "text/plain": [
       "0"
      ]
     },
     "execution_count": 18,
     "metadata": {},
     "output_type": "execute_result"
    }
   ],
   "source": [
    "# Заполним пропуски в столбце с опытом медианным значением\n",
    "df['days_employed'] = df['days_employed'].fillna(df['days_employed'].median())\n",
    "df['days_employed'].isna().sum()"
   ]
  },
  {
   "cell_type": "code",
   "execution_count": 19,
   "id": "69f85063",
   "metadata": {},
   "outputs": [
    {
     "data": {
      "text/plain": [
       "dtype('int64')"
      ]
     },
     "execution_count": 19,
     "metadata": {},
     "output_type": "execute_result"
    }
   ],
   "source": [
    "# Преобразование значений дохода в целочисленный тип \n",
    "df['total_income'] = df['total_income'].astype('int')\n",
    "df['total_income'].dtypes"
   ]
  },
  {
   "cell_type": "code",
   "execution_count": 20,
   "id": "30c25df7",
   "metadata": {},
   "outputs": [
    {
     "data": {
      "image/png": "[encoded data removed]",
      "text/plain": [
       "<Figure size 432x288 with 1 Axes>"
      ]
     },
     "metadata": {
      "needs_background": "light"
     },
     "output_type": "display_data"
    },
    {
     "data": {
      "image/png": "[encoded data removed]",
      "text/plain": [
       "<Figure size 432x288 with 1 Axes>"
      ]
     },
     "metadata": {
      "needs_background": "light"
     },
     "output_type": "display_data"
    },
    {
     "name": "stdout",
     "output_type": "stream",
     "text": [
      " 0     14149\n",
      " 1      4818\n",
      " 2      2055\n",
      " 3       330\n",
      " 20       76\n",
      "-1        47\n",
      " 4        41\n",
      " 5         9\n",
      "Name: children, dtype: int64\n"
     ]
    }
   ],
   "source": [
    "#Анализ возраста и количества детей \n",
    "for i in ['children', 'dob_years']:\n",
    "    sns.histplot(data = df, x = i, bins = 30)\n",
    "    plt.show()\n",
    "print(df['children'].value_counts())"
   ]
  },
  {
   "cell_type": "markdown",
   "id": "b5ee976a",
   "metadata": {},
   "source": [
    "В колонке дети есть отрицательное значение, скорее всего это сбой в программе и имелось в виду просто 1 ребенок. Тк таких значений немного, заменю их на 1   \n",
    "Есть выброс в виде 20 детей, таких семей единицы в России, думаю, это связано со сбоем, либо неправильным заполнением данных, мб имелось ввиду 2 детей. Таких значений немного (76), заменю их на 2  \n",
    "\n",
    "Возраст довольно однороден, похож на нормальное распределение. Есть какие-то младенческие значения, думаю, на уровне выброса "
   ]
  },
  {
   "cell_type": "code",
   "execution_count": 21,
   "id": "0d54c68a",
   "metadata": {},
   "outputs": [
    {
     "data": {
      "text/plain": [
       "<AxesSubplot:xlabel='dob_years'>"
      ]
     },
     "execution_count": 21,
     "metadata": {},
     "output_type": "execute_result"
    },
    {
     "data": {
      "image/png": "[encoded data removed]",
      "text/plain": [
       "<Figure size 432x288 with 1 Axes>"
      ]
     },
     "metadata": {
      "needs_background": "light"
     },
     "output_type": "display_data"
    }
   ],
   "source": [
    "# Проверка вохраста на выбросы \n",
    "sns.boxplot(df['dob_years'])"
   ]
  },
  {
   "cell_type": "code",
   "execution_count": 22,
   "id": "d7a556fe",
   "metadata": {},
   "outputs": [
    {
     "data": {
      "image/png": "[encoded data removed]",
      "text/plain": [
       "<Figure size 432x288 with 1 Axes>"
      ]
     },
     "metadata": {
      "needs_background": "light"
     },
     "output_type": "display_data"
    },
    {
     "data": {
      "image/png": "[encoded data removed]",
      "text/plain": [
       "<Figure size 432x288 with 1 Axes>"
      ]
     },
     "metadata": {
      "needs_background": "light"
     },
     "output_type": "display_data"
    }
   ],
   "source": [
    "# Замена знаечний \n",
    "df = df.replace({'children':{-1:1, 20:2}}) \n",
    "# Удаление выбросов \n",
    "df = df.query('dob_years > 10 & total_income < 0.5 * 10**6')\n",
    "\n",
    "for i in ['dob_years', 'total_income']: \n",
    "    sns.boxplot(df[i])\n",
    "    plt.show()"
   ]
  },
  {
   "cell_type": "code",
   "execution_count": 23,
   "id": "3931e6b3",
   "metadata": {},
   "outputs": [
    {
     "name": "stdout",
     "output_type": "stream",
     "text": [
      "\n",
      "education\n",
      "среднее                13626\n",
      "высшее                  4555\n",
      "СРЕДНЕЕ                  768\n",
      "Среднее                  706\n",
      "неоконченное высшее      655\n",
      "ВЫСШЕЕ                   269\n",
      "Высшее                   259\n",
      "начальное                250\n",
      "Неоконченное высшее       47\n",
      "НЕОКОНЧЕННОЕ ВЫСШЕЕ       29\n",
      "НАЧАЛЬНОЕ                 17\n",
      "Начальное                 15\n",
      "ученая степень             4\n",
      "УЧЕНАЯ СТЕПЕНЬ             1\n",
      "Ученая степень             1\n",
      "Name: education, dtype: int64\n",
      "\n",
      "family_status\n",
      "женат / замужем          12189\n",
      "гражданский брак          4121\n",
      "Не женат / не замужем     2772\n",
      "в разводе                 1170\n",
      "вдовец / вдова             950\n",
      "Name: family_status, dtype: int64\n",
      "\n",
      "gender\n",
      "F      14074\n",
      "M       7127\n",
      "XNA        1\n",
      "Name: gender, dtype: int64\n",
      "\n",
      "income_type\n",
      "сотрудник          10991\n",
      "компаньон           4949\n",
      "пенсионер           3817\n",
      "госслужащий         1439\n",
      "предприниматель        2\n",
      "безработный            2\n",
      "в декрете              1\n",
      "студент                1\n",
      "Name: income_type, dtype: int64\n",
      "\n",
      "purpose\n",
      "свадьба                                   786\n",
      "сыграть свадьбу                           765\n",
      "на проведение свадьбы                     762\n",
      "операции с недвижимостью                  666\n",
      "покупка коммерческой недвижимости         652\n",
      "покупка жилья для сдачи                   645\n",
      "операции с коммерческой недвижимостью     640\n",
      "операции с жильем                         636\n",
      "покупка жилья                             634\n",
      "жилье                                     634\n",
      "покупка жилья для семьи                   632\n",
      "строительство собственной недвижимости    630\n",
      "недвижимость                              625\n",
      "операции со своей недвижимостью           621\n",
      "строительство жилой недвижимости          614\n",
      "покупка недвижимости                      614\n",
      "строительство недвижимости                613\n",
      "покупка своего жилья                      610\n",
      "ремонт жилью                              604\n",
      "покупка жилой недвижимости                596\n",
      "на покупку своего автомобиля              498\n",
      "заняться высшим образованием              492\n",
      "автомобиль                                485\n",
      "сделка с подержанным автомобилем          484\n",
      "на покупку подержанного автомобиля        474\n",
      "свой автомобиль                           473\n",
      "автомобили                                472\n",
      "на покупку автомобиля                     460\n",
      "дополнительное образование                457\n",
      "приобретение автомобиля                   456\n",
      "сделка с автомобилем                      451\n",
      "высшее образование                        445\n",
      "образование                               442\n",
      "получение дополнительного образования     442\n",
      "получение образования                     438\n",
      "профильное образование                    430\n",
      "получение высшего образования             419\n",
      "заняться образованием                     405\n",
      "Name: purpose, dtype: int64\n"
     ]
    }
   ],
   "source": [
    "# Характеристика категориальных значений в датасэте\n",
    "for i in df.columns: \n",
    "    if df[i].dtype == object: \n",
    "        print()\n",
    "        print(i)\n",
    "        print(df[i].value_counts())"
   ]
  },
  {
   "cell_type": "markdown",
   "id": "cb8fc0e7",
   "metadata": {},
   "source": [
    "В колонке пола появилось неожиданное значение XNА, что это значит предположить трудно. Может быть сбой в программе, а может быть так обозначается промежуточный пол, люди бывают разные. Но такое значение всего одно на весь дата-сэт, что не сильно влияет на качество данных.  \n",
    "\n",
    "В колонке с образованием одно и то же написано в разном регистре, необходимо привести к одному регистру \n",
    "\n",
    "В целях покупки написано одно и то же, но разными словами \n"
   ]
  },
  {
   "cell_type": "code",
   "execution_count": 24,
   "id": "f9f514c2",
   "metadata": {},
   "outputs": [
    {
     "data": {
      "text/plain": [
       "среднее                15100\n",
       "высшее                  5083\n",
       "неоконченное высшее      731\n",
       "начальное                282\n",
       "ученая степень             6\n",
       "Name: education, dtype: int64"
      ]
     },
     "execution_count": 24,
     "metadata": {},
     "output_type": "execute_result"
    }
   ],
   "source": [
    "#Приведение к одному регистру \n",
    "df['education'] = df['education'].str.lower()\n",
    "df['education'].value_counts()"
   ]
  },
  {
   "cell_type": "code",
   "execution_count": 25,
   "id": "39f9513d",
   "metadata": {},
   "outputs": [
    {
     "name": "stdout",
     "output_type": "stream",
     "text": [
      "количество 71\n"
     ]
    },
    {
     "data": {
      "text/plain": [
       "0"
      ]
     },
     "execution_count": 25,
     "metadata": {},
     "output_type": "execute_result"
    }
   ],
   "source": [
    "# Обработка дубликатов \n",
    "print('количество', df.duplicated().sum())\n",
    "df = df.drop_duplicates().reset_index(drop=True) \n",
    "df.duplicated().sum()"
   ]
  },
  {
   "cell_type": "markdown",
   "id": "43b43c61",
   "metadata": {},
   "source": [
    "Я думаю, что главная причина появления подобных дубликатов это человеческий фактор и отсутствие конкретных критериев для заполнения полей\n",
    "Для поиска и удаления явных дубликатов был использован метод duplicated() и drop_duplicates().reset_index(drop=True) \n",
    "Для поиска неявных дубликатов необходимо было выделить уникальные значения колонки и привести их к одному регистру. "
   ]
  },
  {
   "cell_type": "code",
   "execution_count": 26,
   "id": "2a32ffdb",
   "metadata": {},
   "outputs": [
    {
     "data": {
      "text/html": [
       "<div>\n",
       "<style scoped>\n",
       "    .dataframe tbody tr th:only-of-type {\n",
       "        vertical-align: middle;\n",
       "    }\n",
       "\n",
       "    .dataframe tbody tr th {\n",
       "        vertical-align: top;\n",
       "    }\n",
       "\n",
       "    .dataframe thead th {\n",
       "        text-align: right;\n",
       "    }\n",
       "</style>\n",
       "<table border=\"1\" class=\"dataframe\">\n",
       "  <thead>\n",
       "    <tr style=\"text-align: right;\">\n",
       "      <th></th>\n",
       "      <th>children</th>\n",
       "      <th>days_employed</th>\n",
       "      <th>dob_years</th>\n",
       "      <th>education</th>\n",
       "      <th>education_id</th>\n",
       "      <th>family_status</th>\n",
       "      <th>family_status_id</th>\n",
       "      <th>gender</th>\n",
       "      <th>income_type</th>\n",
       "      <th>debt</th>\n",
       "      <th>total_income</th>\n",
       "      <th>purpose</th>\n",
       "    </tr>\n",
       "  </thead>\n",
       "  <tbody>\n",
       "    <tr>\n",
       "      <th>0</th>\n",
       "      <td>1</td>\n",
       "      <td>8437.673028</td>\n",
       "      <td>42</td>\n",
       "      <td>высшее</td>\n",
       "      <td>0</td>\n",
       "      <td>женат / замужем</td>\n",
       "      <td>0</td>\n",
       "      <td>F</td>\n",
       "      <td>сотрудник</td>\n",
       "      <td>0</td>\n",
       "      <td>253875</td>\n",
       "      <td>покупка жилья</td>\n",
       "    </tr>\n",
       "    <tr>\n",
       "      <th>1</th>\n",
       "      <td>1</td>\n",
       "      <td>4024.803754</td>\n",
       "      <td>36</td>\n",
       "      <td>среднее</td>\n",
       "      <td>1</td>\n",
       "      <td>женат / замужем</td>\n",
       "      <td>0</td>\n",
       "      <td>F</td>\n",
       "      <td>сотрудник</td>\n",
       "      <td>0</td>\n",
       "      <td>112080</td>\n",
       "      <td>приобретение автомобиля</td>\n",
       "    </tr>\n",
       "    <tr>\n",
       "      <th>2</th>\n",
       "      <td>0</td>\n",
       "      <td>5623.422610</td>\n",
       "      <td>33</td>\n",
       "      <td>среднее</td>\n",
       "      <td>1</td>\n",
       "      <td>женат / замужем</td>\n",
       "      <td>0</td>\n",
       "      <td>M</td>\n",
       "      <td>сотрудник</td>\n",
       "      <td>0</td>\n",
       "      <td>145885</td>\n",
       "      <td>покупка жилья</td>\n",
       "    </tr>\n",
       "    <tr>\n",
       "      <th>3</th>\n",
       "      <td>3</td>\n",
       "      <td>4124.747207</td>\n",
       "      <td>32</td>\n",
       "      <td>среднее</td>\n",
       "      <td>1</td>\n",
       "      <td>женат / замужем</td>\n",
       "      <td>0</td>\n",
       "      <td>M</td>\n",
       "      <td>сотрудник</td>\n",
       "      <td>0</td>\n",
       "      <td>267628</td>\n",
       "      <td>дополнительное образование</td>\n",
       "    </tr>\n",
       "    <tr>\n",
       "      <th>4</th>\n",
       "      <td>0</td>\n",
       "      <td>340266.072047</td>\n",
       "      <td>53</td>\n",
       "      <td>среднее</td>\n",
       "      <td>1</td>\n",
       "      <td>гражданский брак</td>\n",
       "      <td>1</td>\n",
       "      <td>F</td>\n",
       "      <td>пенсионер</td>\n",
       "      <td>0</td>\n",
       "      <td>158616</td>\n",
       "      <td>сыграть свадьбу</td>\n",
       "    </tr>\n",
       "  </tbody>\n",
       "</table>\n",
       "</div>"
      ],
      "text/plain": [
       "   children  days_employed  dob_years education  education_id  \\\n",
       "0         1    8437.673028         42    высшее             0   \n",
       "1         1    4024.803754         36   среднее             1   \n",
       "2         0    5623.422610         33   среднее             1   \n",
       "3         3    4124.747207         32   среднее             1   \n",
       "4         0  340266.072047         53   среднее             1   \n",
       "\n",
       "      family_status  family_status_id gender income_type  debt  total_income  \\\n",
       "0   женат / замужем                 0      F   сотрудник     0        253875   \n",
       "1   женат / замужем                 0      F   сотрудник     0        112080   \n",
       "2   женат / замужем                 0      M   сотрудник     0        145885   \n",
       "3   женат / замужем                 0      M   сотрудник     0        267628   \n",
       "4  гражданский брак                 1      F   пенсионер     0        158616   \n",
       "\n",
       "                      purpose  \n",
       "0               покупка жилья  \n",
       "1     приобретение автомобиля  \n",
       "2               покупка жилья  \n",
       "3  дополнительное образование  \n",
       "4             сыграть свадьбу  "
      ]
     },
     "execution_count": 26,
     "metadata": {},
     "output_type": "execute_result"
    }
   ],
   "source": [
    "df.head()"
   ]
  },
  {
   "cell_type": "markdown",
   "id": "6ee4cf93",
   "metadata": {},
   "source": [
    "#### Итоги предобработки \n",
    "\n",
    "1. Значение опыта работы из отрицательных привела к положительным\n",
    "2. Заполнила пропуски в опыта работы и доходе медианными значениями. \n",
    "3. Изменила количество детей: -1 ребенок стал 1Б а 20 детей превратились в 2 \n",
    "4. Удалила выбросы в колонке с возрастом и доходом. \n",
    "5. Привела значения в образовании к одному регистру \n",
    "6. Удалила дубликаты "
   ]
  },
  {
   "cell_type": "markdown",
   "id": "5ce5fe07",
   "metadata": {},
   "source": [
    "## Обработка данных "
   ]
  },
  {
   "cell_type": "markdown",
   "id": "737f8900",
   "metadata": {},
   "source": [
    "### Создание словарей"
   ]
  },
  {
   "cell_type": "code",
   "execution_count": 27,
   "id": "36915d18",
   "metadata": {},
   "outputs": [
    {
     "data": {
      "text/html": [
       "<div>\n",
       "<style scoped>\n",
       "    .dataframe tbody tr th:only-of-type {\n",
       "        vertical-align: middle;\n",
       "    }\n",
       "\n",
       "    .dataframe tbody tr th {\n",
       "        vertical-align: top;\n",
       "    }\n",
       "\n",
       "    .dataframe thead th {\n",
       "        text-align: right;\n",
       "    }\n",
       "</style>\n",
       "<table border=\"1\" class=\"dataframe\">\n",
       "  <thead>\n",
       "    <tr style=\"text-align: right;\">\n",
       "      <th></th>\n",
       "      <th>education_id</th>\n",
       "      <th>education</th>\n",
       "    </tr>\n",
       "  </thead>\n",
       "  <tbody>\n",
       "    <tr>\n",
       "      <th>0</th>\n",
       "      <td>0</td>\n",
       "      <td>высшее</td>\n",
       "    </tr>\n",
       "    <tr>\n",
       "      <th>1</th>\n",
       "      <td>1</td>\n",
       "      <td>среднее</td>\n",
       "    </tr>\n",
       "    <tr>\n",
       "      <th>2</th>\n",
       "      <td>2</td>\n",
       "      <td>неоконченное высшее</td>\n",
       "    </tr>\n",
       "    <tr>\n",
       "      <th>3</th>\n",
       "      <td>3</td>\n",
       "      <td>начальное</td>\n",
       "    </tr>\n",
       "    <tr>\n",
       "      <th>4</th>\n",
       "      <td>4</td>\n",
       "      <td>ученая степень</td>\n",
       "    </tr>\n",
       "  </tbody>\n",
       "</table>\n",
       "</div>"
      ],
      "text/plain": [
       "   education_id            education\n",
       "0             0               высшее\n",
       "1             1              среднее\n",
       "2             2  неоконченное высшее\n",
       "3             3            начальное\n",
       "4             4       ученая степень"
      ]
     },
     "metadata": {},
     "output_type": "display_data"
    },
    {
     "data": {
      "text/html": [
       "<div>\n",
       "<style scoped>\n",
       "    .dataframe tbody tr th:only-of-type {\n",
       "        vertical-align: middle;\n",
       "    }\n",
       "\n",
       "    .dataframe tbody tr th {\n",
       "        vertical-align: top;\n",
       "    }\n",
       "\n",
       "    .dataframe thead th {\n",
       "        text-align: right;\n",
       "    }\n",
       "</style>\n",
       "<table border=\"1\" class=\"dataframe\">\n",
       "  <thead>\n",
       "    <tr style=\"text-align: right;\">\n",
       "      <th></th>\n",
       "      <th>family_status_id</th>\n",
       "      <th>family_status</th>\n",
       "    </tr>\n",
       "  </thead>\n",
       "  <tbody>\n",
       "    <tr>\n",
       "      <th>0</th>\n",
       "      <td>0</td>\n",
       "      <td>женат / замужем</td>\n",
       "    </tr>\n",
       "    <tr>\n",
       "      <th>1</th>\n",
       "      <td>1</td>\n",
       "      <td>гражданский брак</td>\n",
       "    </tr>\n",
       "    <tr>\n",
       "      <th>2</th>\n",
       "      <td>2</td>\n",
       "      <td>вдовец / вдова</td>\n",
       "    </tr>\n",
       "    <tr>\n",
       "      <th>3</th>\n",
       "      <td>3</td>\n",
       "      <td>в разводе</td>\n",
       "    </tr>\n",
       "    <tr>\n",
       "      <th>4</th>\n",
       "      <td>4</td>\n",
       "      <td>Не женат / не замужем</td>\n",
       "    </tr>\n",
       "  </tbody>\n",
       "</table>\n",
       "</div>"
      ],
      "text/plain": [
       "   family_status_id          family_status\n",
       "0                 0        женат / замужем\n",
       "1                 1       гражданский брак\n",
       "2                 2         вдовец / вдова\n",
       "3                 3              в разводе\n",
       "4                 4  Не женат / не замужем"
      ]
     },
     "metadata": {},
     "output_type": "display_data"
    }
   ],
   "source": [
    "#Создание словарей \n",
    "education_dict = df[['education_id', 'education']].drop_duplicates().reset_index(drop=True)\n",
    "family_dict = df[['family_status_id', 'family_status']].drop_duplicates().reset_index(drop=True)\n",
    "display(education_dict)\n",
    "display(family_dict)"
   ]
  },
  {
   "cell_type": "code",
   "execution_count": 28,
   "id": "24e892fe",
   "metadata": {},
   "outputs": [
    {
     "data": {
      "text/html": [
       "<div>\n",
       "<style scoped>\n",
       "    .dataframe tbody tr th:only-of-type {\n",
       "        vertical-align: middle;\n",
       "    }\n",
       "\n",
       "    .dataframe tbody tr th {\n",
       "        vertical-align: top;\n",
       "    }\n",
       "\n",
       "    .dataframe thead th {\n",
       "        text-align: right;\n",
       "    }\n",
       "</style>\n",
       "<table border=\"1\" class=\"dataframe\">\n",
       "  <thead>\n",
       "    <tr style=\"text-align: right;\">\n",
       "      <th></th>\n",
       "      <th>children</th>\n",
       "      <th>days_employed</th>\n",
       "      <th>dob_years</th>\n",
       "      <th>education_id</th>\n",
       "      <th>family_status_id</th>\n",
       "      <th>gender</th>\n",
       "      <th>income_type</th>\n",
       "      <th>debt</th>\n",
       "      <th>total_income</th>\n",
       "      <th>purpose</th>\n",
       "    </tr>\n",
       "  </thead>\n",
       "  <tbody>\n",
       "    <tr>\n",
       "      <th>0</th>\n",
       "      <td>1</td>\n",
       "      <td>8437.673028</td>\n",
       "      <td>42</td>\n",
       "      <td>0</td>\n",
       "      <td>0</td>\n",
       "      <td>F</td>\n",
       "      <td>сотрудник</td>\n",
       "      <td>0</td>\n",
       "      <td>253875</td>\n",
       "      <td>покупка жилья</td>\n",
       "    </tr>\n",
       "    <tr>\n",
       "      <th>1</th>\n",
       "      <td>1</td>\n",
       "      <td>4024.803754</td>\n",
       "      <td>36</td>\n",
       "      <td>1</td>\n",
       "      <td>0</td>\n",
       "      <td>F</td>\n",
       "      <td>сотрудник</td>\n",
       "      <td>0</td>\n",
       "      <td>112080</td>\n",
       "      <td>приобретение автомобиля</td>\n",
       "    </tr>\n",
       "    <tr>\n",
       "      <th>2</th>\n",
       "      <td>0</td>\n",
       "      <td>5623.422610</td>\n",
       "      <td>33</td>\n",
       "      <td>1</td>\n",
       "      <td>0</td>\n",
       "      <td>M</td>\n",
       "      <td>сотрудник</td>\n",
       "      <td>0</td>\n",
       "      <td>145885</td>\n",
       "      <td>покупка жилья</td>\n",
       "    </tr>\n",
       "    <tr>\n",
       "      <th>3</th>\n",
       "      <td>3</td>\n",
       "      <td>4124.747207</td>\n",
       "      <td>32</td>\n",
       "      <td>1</td>\n",
       "      <td>0</td>\n",
       "      <td>M</td>\n",
       "      <td>сотрудник</td>\n",
       "      <td>0</td>\n",
       "      <td>267628</td>\n",
       "      <td>дополнительное образование</td>\n",
       "    </tr>\n",
       "    <tr>\n",
       "      <th>4</th>\n",
       "      <td>0</td>\n",
       "      <td>340266.072047</td>\n",
       "      <td>53</td>\n",
       "      <td>1</td>\n",
       "      <td>1</td>\n",
       "      <td>F</td>\n",
       "      <td>пенсионер</td>\n",
       "      <td>0</td>\n",
       "      <td>158616</td>\n",
       "      <td>сыграть свадьбу</td>\n",
       "    </tr>\n",
       "  </tbody>\n",
       "</table>\n",
       "</div>"
      ],
      "text/plain": [
       "   children  days_employed  dob_years  education_id  family_status_id gender  \\\n",
       "0         1    8437.673028         42             0                 0      F   \n",
       "1         1    4024.803754         36             1                 0      F   \n",
       "2         0    5623.422610         33             1                 0      M   \n",
       "3         3    4124.747207         32             1                 0      M   \n",
       "4         0  340266.072047         53             1                 1      F   \n",
       "\n",
       "  income_type  debt  total_income                     purpose  \n",
       "0   сотрудник     0        253875               покупка жилья  \n",
       "1   сотрудник     0        112080     приобретение автомобиля  \n",
       "2   сотрудник     0        145885               покупка жилья  \n",
       "3   сотрудник     0        267628  дополнительное образование  \n",
       "4   пенсионер     0        158616             сыграть свадьбу  "
      ]
     },
     "execution_count": 28,
     "metadata": {},
     "output_type": "execute_result"
    }
   ],
   "source": [
    "df = df.drop(columns = ['education', 'family_status'])\n",
    "df.head()"
   ]
  },
  {
   "cell_type": "markdown",
   "id": "4cc9b6cf",
   "metadata": {},
   "source": [
    "### Разбиение уровня дохода по категориям "
   ]
  },
  {
   "cell_type": "code",
   "execution_count": 29,
   "id": "85a849a9",
   "metadata": {},
   "outputs": [
    {
     "data": {
      "text/plain": [
       "<AxesSubplot:xlabel='total_income', ylabel='Density'>"
      ]
     },
     "execution_count": 29,
     "metadata": {},
     "output_type": "execute_result"
    },
    {
     "data": {
      "image/png": "[encoded data removed]",
      "text/plain": [
       "<Figure size 432x288 with 1 Axes>"
      ]
     },
     "metadata": {
      "needs_background": "light"
     },
     "output_type": "display_data"
    }
   ],
   "source": [
    "# График доходов\n",
    "sns.distplot(df['total_income'])"
   ]
  },
  {
   "cell_type": "code",
   "execution_count": 30,
   "id": "482bd1c5",
   "metadata": {},
   "outputs": [
    {
     "data": {
      "text/html": [
       "<div>\n",
       "<style scoped>\n",
       "    .dataframe tbody tr th:only-of-type {\n",
       "        vertical-align: middle;\n",
       "    }\n",
       "\n",
       "    .dataframe tbody tr th {\n",
       "        vertical-align: top;\n",
       "    }\n",
       "\n",
       "    .dataframe thead th {\n",
       "        text-align: right;\n",
       "    }\n",
       "</style>\n",
       "<table border=\"1\" class=\"dataframe\">\n",
       "  <thead>\n",
       "    <tr style=\"text-align: right;\">\n",
       "      <th></th>\n",
       "      <th>mean</th>\n",
       "      <th>count</th>\n",
       "    </tr>\n",
       "    <tr>\n",
       "      <th>income_category</th>\n",
       "      <th></th>\n",
       "      <th></th>\n",
       "    </tr>\n",
       "  </thead>\n",
       "  <tbody>\n",
       "    <tr>\n",
       "      <th>E, низкий доход</th>\n",
       "      <td>86329.866729</td>\n",
       "      <td>6453</td>\n",
       "    </tr>\n",
       "    <tr>\n",
       "      <th>D, доход ниже среднего</th>\n",
       "      <td>155772.652488</td>\n",
       "      <td>10532</td>\n",
       "    </tr>\n",
       "    <tr>\n",
       "      <th>C, средний доход</th>\n",
       "      <td>250655.831221</td>\n",
       "      <td>2998</td>\n",
       "    </tr>\n",
       "    <tr>\n",
       "      <th>B, доход выше среднего</th>\n",
       "      <td>347756.120370</td>\n",
       "      <td>864</td>\n",
       "    </tr>\n",
       "    <tr>\n",
       "      <th>A, высокий доход</th>\n",
       "      <td>444643.250000</td>\n",
       "      <td>284</td>\n",
       "    </tr>\n",
       "  </tbody>\n",
       "</table>\n",
       "</div>"
      ],
      "text/plain": [
       "                                 mean  count\n",
       "income_category                             \n",
       "E, низкий доход          86329.866729   6453\n",
       "D, доход ниже среднего  155772.652488  10532\n",
       "C, средний доход        250655.831221   2998\n",
       "B, доход выше среднего  347756.120370    864\n",
       "A, высокий доход        444643.250000    284"
      ]
     },
     "metadata": {},
     "output_type": "display_data"
    },
    {
     "data": {
      "text/html": [
       "<div>\n",
       "<style scoped>\n",
       "    .dataframe tbody tr th:only-of-type {\n",
       "        vertical-align: middle;\n",
       "    }\n",
       "\n",
       "    .dataframe tbody tr th {\n",
       "        vertical-align: top;\n",
       "    }\n",
       "\n",
       "    .dataframe thead th {\n",
       "        text-align: right;\n",
       "    }\n",
       "</style>\n",
       "<table border=\"1\" class=\"dataframe\">\n",
       "  <thead>\n",
       "    <tr style=\"text-align: right;\">\n",
       "      <th></th>\n",
       "      <th>children</th>\n",
       "      <th>days_employed</th>\n",
       "      <th>dob_years</th>\n",
       "      <th>education_id</th>\n",
       "      <th>family_status_id</th>\n",
       "      <th>gender</th>\n",
       "      <th>income_type</th>\n",
       "      <th>debt</th>\n",
       "      <th>total_income</th>\n",
       "      <th>purpose</th>\n",
       "      <th>income_category</th>\n",
       "    </tr>\n",
       "  </thead>\n",
       "  <tbody>\n",
       "    <tr>\n",
       "      <th>0</th>\n",
       "      <td>1</td>\n",
       "      <td>8437.673028</td>\n",
       "      <td>42</td>\n",
       "      <td>0</td>\n",
       "      <td>0</td>\n",
       "      <td>F</td>\n",
       "      <td>сотрудник</td>\n",
       "      <td>0</td>\n",
       "      <td>253875</td>\n",
       "      <td>покупка жилья</td>\n",
       "      <td>C, средний доход</td>\n",
       "    </tr>\n",
       "    <tr>\n",
       "      <th>1</th>\n",
       "      <td>1</td>\n",
       "      <td>4024.803754</td>\n",
       "      <td>36</td>\n",
       "      <td>1</td>\n",
       "      <td>0</td>\n",
       "      <td>F</td>\n",
       "      <td>сотрудник</td>\n",
       "      <td>0</td>\n",
       "      <td>112080</td>\n",
       "      <td>приобретение автомобиля</td>\n",
       "      <td>E, низкий доход</td>\n",
       "    </tr>\n",
       "    <tr>\n",
       "      <th>2</th>\n",
       "      <td>0</td>\n",
       "      <td>5623.422610</td>\n",
       "      <td>33</td>\n",
       "      <td>1</td>\n",
       "      <td>0</td>\n",
       "      <td>M</td>\n",
       "      <td>сотрудник</td>\n",
       "      <td>0</td>\n",
       "      <td>145885</td>\n",
       "      <td>покупка жилья</td>\n",
       "      <td>D, доход ниже среднего</td>\n",
       "    </tr>\n",
       "    <tr>\n",
       "      <th>3</th>\n",
       "      <td>3</td>\n",
       "      <td>4124.747207</td>\n",
       "      <td>32</td>\n",
       "      <td>1</td>\n",
       "      <td>0</td>\n",
       "      <td>M</td>\n",
       "      <td>сотрудник</td>\n",
       "      <td>0</td>\n",
       "      <td>267628</td>\n",
       "      <td>дополнительное образование</td>\n",
       "      <td>C, средний доход</td>\n",
       "    </tr>\n",
       "    <tr>\n",
       "      <th>4</th>\n",
       "      <td>0</td>\n",
       "      <td>340266.072047</td>\n",
       "      <td>53</td>\n",
       "      <td>1</td>\n",
       "      <td>1</td>\n",
       "      <td>F</td>\n",
       "      <td>пенсионер</td>\n",
       "      <td>0</td>\n",
       "      <td>158616</td>\n",
       "      <td>сыграть свадьбу</td>\n",
       "      <td>D, доход ниже среднего</td>\n",
       "    </tr>\n",
       "  </tbody>\n",
       "</table>\n",
       "</div>"
      ],
      "text/plain": [
       "   children  days_employed  dob_years  education_id  family_status_id gender  \\\n",
       "0         1    8437.673028         42             0                 0      F   \n",
       "1         1    4024.803754         36             1                 0      F   \n",
       "2         0    5623.422610         33             1                 0      M   \n",
       "3         3    4124.747207         32             1                 0      M   \n",
       "4         0  340266.072047         53             1                 1      F   \n",
       "\n",
       "  income_type  debt  total_income                     purpose  \\\n",
       "0   сотрудник     0        253875               покупка жилья   \n",
       "1   сотрудник     0        112080     приобретение автомобиля   \n",
       "2   сотрудник     0        145885               покупка жилья   \n",
       "3   сотрудник     0        267628  дополнительное образование   \n",
       "4   пенсионер     0        158616             сыграть свадьбу   \n",
       "\n",
       "          income_category  \n",
       "0        C, средний доход  \n",
       "1         E, низкий доход  \n",
       "2  D, доход ниже среднего  \n",
       "3        C, средний доход  \n",
       "4  D, доход ниже среднего  "
      ]
     },
     "execution_count": 30,
     "metadata": {},
     "output_type": "execute_result"
    }
   ],
   "source": [
    "# Разбиение на группы в зависимости от дохода\n",
    "df['income_category'] = pd.cut(df['total_income'], 5, \n",
    "                                labels = ['E, низкий доход', 'D, доход ниже среднего', 'C, средний доход',\n",
    "                                         'B, доход выше среднего', 'A, высокий доход'])\n",
    "display(df.groupby('income_category')['total_income'].agg(['mean', 'count']))\n",
    "df.head()"
   ]
  },
  {
   "cell_type": "markdown",
   "id": "c6f823f1",
   "metadata": {},
   "source": [
    "### Разбиение целей по группам "
   ]
  },
  {
   "cell_type": "code",
   "execution_count": 31,
   "id": "588b166a",
   "metadata": {},
   "outputs": [
    {
     "data": {
      "text/plain": [
       "array(['автомобили', 'автомобиль', 'высшее образование',\n",
       "       'дополнительное образование', 'жилье',\n",
       "       'заняться высшим образованием', 'заняться образованием',\n",
       "       'на покупку автомобиля', 'на покупку подержанного автомобиля',\n",
       "       'на покупку своего автомобиля', 'на проведение свадьбы',\n",
       "       'недвижимость', 'образование', 'операции с жильем',\n",
       "       'операции с коммерческой недвижимостью',\n",
       "       'операции с недвижимостью', 'операции со своей недвижимостью',\n",
       "       'покупка жилой недвижимости', 'покупка жилья',\n",
       "       'покупка жилья для сдачи', 'покупка жилья для семьи',\n",
       "       'покупка коммерческой недвижимости', 'покупка недвижимости',\n",
       "       'покупка своего жилья', 'получение высшего образования',\n",
       "       'получение дополнительного образования', 'получение образования',\n",
       "       'приобретение автомобиля', 'профильное образование',\n",
       "       'ремонт жилью', 'свадьба', 'свой автомобиль',\n",
       "       'сделка с автомобилем', 'сделка с подержанным автомобилем',\n",
       "       'строительство жилой недвижимости', 'строительство недвижимости',\n",
       "       'строительство собственной недвижимости', 'сыграть свадьбу'],\n",
       "      dtype=object)"
      ]
     },
     "execution_count": 31,
     "metadata": {},
     "output_type": "execute_result"
    }
   ],
   "source": [
    "df['purpose'].sort_values().unique()"
   ]
  },
  {
   "cell_type": "code",
   "execution_count": 32,
   "id": "ece07ec4",
   "metadata": {},
   "outputs": [
    {
     "data": {
      "text/html": [
       "<div>\n",
       "<style scoped>\n",
       "    .dataframe tbody tr th:only-of-type {\n",
       "        vertical-align: middle;\n",
       "    }\n",
       "\n",
       "    .dataframe tbody tr th {\n",
       "        vertical-align: top;\n",
       "    }\n",
       "\n",
       "    .dataframe thead th {\n",
       "        text-align: right;\n",
       "    }\n",
       "</style>\n",
       "<table border=\"1\" class=\"dataframe\">\n",
       "  <thead>\n",
       "    <tr style=\"text-align: right;\">\n",
       "      <th></th>\n",
       "      <th>children</th>\n",
       "      <th>days_employed</th>\n",
       "      <th>dob_years</th>\n",
       "      <th>education_id</th>\n",
       "      <th>family_status_id</th>\n",
       "      <th>gender</th>\n",
       "      <th>income_type</th>\n",
       "      <th>debt</th>\n",
       "      <th>total_income</th>\n",
       "      <th>purpose</th>\n",
       "      <th>income_category</th>\n",
       "      <th>purpose_category</th>\n",
       "    </tr>\n",
       "  </thead>\n",
       "  <tbody>\n",
       "    <tr>\n",
       "      <th>0</th>\n",
       "      <td>1</td>\n",
       "      <td>8437.673028</td>\n",
       "      <td>42</td>\n",
       "      <td>0</td>\n",
       "      <td>0</td>\n",
       "      <td>F</td>\n",
       "      <td>сотрудник</td>\n",
       "      <td>0</td>\n",
       "      <td>253875</td>\n",
       "      <td>покупка жилья</td>\n",
       "      <td>C, средний доход</td>\n",
       "      <td>операции с недвижимостью</td>\n",
       "    </tr>\n",
       "    <tr>\n",
       "      <th>1</th>\n",
       "      <td>1</td>\n",
       "      <td>4024.803754</td>\n",
       "      <td>36</td>\n",
       "      <td>1</td>\n",
       "      <td>0</td>\n",
       "      <td>F</td>\n",
       "      <td>сотрудник</td>\n",
       "      <td>0</td>\n",
       "      <td>112080</td>\n",
       "      <td>приобретение автомобиля</td>\n",
       "      <td>E, низкий доход</td>\n",
       "      <td>операции с автомобилем</td>\n",
       "    </tr>\n",
       "    <tr>\n",
       "      <th>2</th>\n",
       "      <td>0</td>\n",
       "      <td>5623.422610</td>\n",
       "      <td>33</td>\n",
       "      <td>1</td>\n",
       "      <td>0</td>\n",
       "      <td>M</td>\n",
       "      <td>сотрудник</td>\n",
       "      <td>0</td>\n",
       "      <td>145885</td>\n",
       "      <td>покупка жилья</td>\n",
       "      <td>D, доход ниже среднего</td>\n",
       "      <td>операции с недвижимостью</td>\n",
       "    </tr>\n",
       "    <tr>\n",
       "      <th>3</th>\n",
       "      <td>3</td>\n",
       "      <td>4124.747207</td>\n",
       "      <td>32</td>\n",
       "      <td>1</td>\n",
       "      <td>0</td>\n",
       "      <td>M</td>\n",
       "      <td>сотрудник</td>\n",
       "      <td>0</td>\n",
       "      <td>267628</td>\n",
       "      <td>дополнительное образование</td>\n",
       "      <td>C, средний доход</td>\n",
       "      <td>получение образования</td>\n",
       "    </tr>\n",
       "    <tr>\n",
       "      <th>4</th>\n",
       "      <td>0</td>\n",
       "      <td>340266.072047</td>\n",
       "      <td>53</td>\n",
       "      <td>1</td>\n",
       "      <td>1</td>\n",
       "      <td>F</td>\n",
       "      <td>пенсионер</td>\n",
       "      <td>0</td>\n",
       "      <td>158616</td>\n",
       "      <td>сыграть свадьбу</td>\n",
       "      <td>D, доход ниже среднего</td>\n",
       "      <td>проведение свадьбы</td>\n",
       "    </tr>\n",
       "  </tbody>\n",
       "</table>\n",
       "</div>"
      ],
      "text/plain": [
       "   children  days_employed  dob_years  education_id  family_status_id gender  \\\n",
       "0         1    8437.673028         42             0                 0      F   \n",
       "1         1    4024.803754         36             1                 0      F   \n",
       "2         0    5623.422610         33             1                 0      M   \n",
       "3         3    4124.747207         32             1                 0      M   \n",
       "4         0  340266.072047         53             1                 1      F   \n",
       "\n",
       "  income_type  debt  total_income                     purpose  \\\n",
       "0   сотрудник     0        253875               покупка жилья   \n",
       "1   сотрудник     0        112080     приобретение автомобиля   \n",
       "2   сотрудник     0        145885               покупка жилья   \n",
       "3   сотрудник     0        267628  дополнительное образование   \n",
       "4   пенсионер     0        158616             сыграть свадьбу   \n",
       "\n",
       "          income_category          purpose_category  \n",
       "0        C, средний доход  операции с недвижимостью  \n",
       "1         E, низкий доход    операции с автомобилем  \n",
       "2  D, доход ниже среднего  операции с недвижимостью  \n",
       "3        C, средний доход     получение образования  \n",
       "4  D, доход ниже среднего        проведение свадьбы  "
      ]
     },
     "metadata": {},
     "output_type": "display_data"
    },
    {
     "data": {
      "text/plain": [
       "операции с недвижимостью    10637\n",
       "операции с автомобилем       4244\n",
       "получение образования        3961\n",
       "проведение свадьбы           2289\n",
       "Name: purpose_category, dtype: int64"
      ]
     },
     "execution_count": 32,
     "metadata": {},
     "output_type": "execute_result"
    }
   ],
   "source": [
    "# Создание и применение функции\n",
    "def purpose_category(purpose):\n",
    "    if 'автомобил' in purpose:\n",
    "        return 'операции с автомобилем'\n",
    "    if 'образован' in purpose:\n",
    "        return 'получение образования'\n",
    "    if 'недвижимост' in purpose:\n",
    "        return 'операции с недвижимостью'\n",
    "    if 'жиль' in purpose:\n",
    "        return 'операции с недвижимостью'\n",
    "    return 'проведение свадьбы'\n",
    "df['purpose_category'] = df['purpose'].apply(purpose_category)\n",
    "display(df.head())\n",
    "df['purpose_category'].value_counts()"
   ]
  },
  {
   "cell_type": "markdown",
   "id": "7a7cfa3b",
   "metadata": {},
   "source": [
    "## Проверка гипотез "
   ]
  },
  {
   "cell_type": "markdown",
   "id": "3ba93fee",
   "metadata": {},
   "source": [
    "### Влияние количества детей на погашение кредита "
   ]
  },
  {
   "cell_type": "code",
   "execution_count": 33,
   "id": "6a3316ab",
   "metadata": {},
   "outputs": [
    {
     "data": {
      "text/html": [
       "<div>\n",
       "<style scoped>\n",
       "    .dataframe tbody tr th:only-of-type {\n",
       "        vertical-align: middle;\n",
       "    }\n",
       "\n",
       "    .dataframe tbody tr th {\n",
       "        vertical-align: top;\n",
       "    }\n",
       "\n",
       "    .dataframe thead th {\n",
       "        text-align: right;\n",
       "    }\n",
       "</style>\n",
       "<table border=\"1\" class=\"dataframe\">\n",
       "  <thead>\n",
       "    <tr style=\"text-align: right;\">\n",
       "      <th></th>\n",
       "      <th>mean</th>\n",
       "      <th>sum</th>\n",
       "    </tr>\n",
       "    <tr>\n",
       "      <th>children</th>\n",
       "      <th></th>\n",
       "      <th></th>\n",
       "    </tr>\n",
       "  </thead>\n",
       "  <tbody>\n",
       "    <tr>\n",
       "      <th>0</th>\n",
       "      <td>0.075517</td>\n",
       "      <td>1049</td>\n",
       "    </tr>\n",
       "    <tr>\n",
       "      <th>1</th>\n",
       "      <td>0.091764</td>\n",
       "      <td>439</td>\n",
       "    </tr>\n",
       "    <tr>\n",
       "      <th>2</th>\n",
       "      <td>0.095969</td>\n",
       "      <td>200</td>\n",
       "    </tr>\n",
       "    <tr>\n",
       "      <th>3</th>\n",
       "      <td>0.083851</td>\n",
       "      <td>27</td>\n",
       "    </tr>\n",
       "    <tr>\n",
       "      <th>4</th>\n",
       "      <td>0.097561</td>\n",
       "      <td>4</td>\n",
       "    </tr>\n",
       "    <tr>\n",
       "      <th>5</th>\n",
       "      <td>0.000000</td>\n",
       "      <td>0</td>\n",
       "    </tr>\n",
       "  </tbody>\n",
       "</table>\n",
       "</div>"
      ],
      "text/plain": [
       "              mean   sum\n",
       "children                \n",
       "0         0.075517  1049\n",
       "1         0.091764   439\n",
       "2         0.095969   200\n",
       "3         0.083851    27\n",
       "4         0.097561     4\n",
       "5         0.000000     0"
      ]
     },
     "execution_count": 33,
     "metadata": {},
     "output_type": "execute_result"
    }
   ],
   "source": [
    "df.groupby('children')['debt'].agg(['mean', 'sum'])"
   ]
  },
  {
   "cell_type": "markdown",
   "id": "8791e818",
   "metadata": {},
   "source": [
    "Логика такая, что если True == 1 это была задолженность. То если мы все сложим и разделим на общее количество себй (т.е. найдем среднее), то получим процент неуплаты в зависимот от категории "
   ]
  },
  {
   "cell_type": "markdown",
   "id": "e02907c9",
   "metadata": {},
   "source": [
    "Судя по данным, нужно выдавать кредиты семьям, где 5 детей, у них 100%  но выборка очень мала. Потом идут семьи без детей и тремя детьми, а вероятность неуплаты у семей с 1, 2, 4 детьми примерно одинакова. "
   ]
  },
  {
   "cell_type": "markdown",
   "id": "142899b3",
   "metadata": {},
   "source": [
    "### Зависимость неуплаты кредита и семейного положения."
   ]
  },
  {
   "cell_type": "code",
   "execution_count": 34,
   "id": "86d0afa7",
   "metadata": {},
   "outputs": [
    {
     "data": {
      "text/html": [
       "<div>\n",
       "<style scoped>\n",
       "    .dataframe tbody tr th:only-of-type {\n",
       "        vertical-align: middle;\n",
       "    }\n",
       "\n",
       "    .dataframe tbody tr th {\n",
       "        vertical-align: top;\n",
       "    }\n",
       "\n",
       "    .dataframe thead th {\n",
       "        text-align: right;\n",
       "    }\n",
       "</style>\n",
       "<table border=\"1\" class=\"dataframe\">\n",
       "  <thead>\n",
       "    <tr style=\"text-align: right;\">\n",
       "      <th></th>\n",
       "      <th>family_status_id</th>\n",
       "      <th>family_status</th>\n",
       "    </tr>\n",
       "  </thead>\n",
       "  <tbody>\n",
       "    <tr>\n",
       "      <th>0</th>\n",
       "      <td>0</td>\n",
       "      <td>женат / замужем</td>\n",
       "    </tr>\n",
       "    <tr>\n",
       "      <th>1</th>\n",
       "      <td>1</td>\n",
       "      <td>гражданский брак</td>\n",
       "    </tr>\n",
       "    <tr>\n",
       "      <th>2</th>\n",
       "      <td>2</td>\n",
       "      <td>вдовец / вдова</td>\n",
       "    </tr>\n",
       "    <tr>\n",
       "      <th>3</th>\n",
       "      <td>3</td>\n",
       "      <td>в разводе</td>\n",
       "    </tr>\n",
       "    <tr>\n",
       "      <th>4</th>\n",
       "      <td>4</td>\n",
       "      <td>Не женат / не замужем</td>\n",
       "    </tr>\n",
       "  </tbody>\n",
       "</table>\n",
       "</div>"
      ],
      "text/plain": [
       "   family_status_id          family_status\n",
       "0                 0        женат / замужем\n",
       "1                 1       гражданский брак\n",
       "2                 2         вдовец / вдова\n",
       "3                 3              в разводе\n",
       "4                 4  Не женат / не замужем"
      ]
     },
     "execution_count": 34,
     "metadata": {},
     "output_type": "execute_result"
    }
   ],
   "source": [
    "family_dict"
   ]
  },
  {
   "cell_type": "code",
   "execution_count": 35,
   "id": "944f7ea0",
   "metadata": {},
   "outputs": [
    {
     "data": {
      "text/html": [
       "<div>\n",
       "<style scoped>\n",
       "    .dataframe tbody tr th:only-of-type {\n",
       "        vertical-align: middle;\n",
       "    }\n",
       "\n",
       "    .dataframe tbody tr th {\n",
       "        vertical-align: top;\n",
       "    }\n",
       "\n",
       "    .dataframe thead th {\n",
       "        text-align: right;\n",
       "    }\n",
       "</style>\n",
       "<table border=\"1\" class=\"dataframe\">\n",
       "  <thead>\n",
       "    <tr style=\"text-align: right;\">\n",
       "      <th></th>\n",
       "      <th>mean</th>\n",
       "      <th>sum</th>\n",
       "    </tr>\n",
       "    <tr>\n",
       "      <th>family_status_id</th>\n",
       "      <th></th>\n",
       "      <th></th>\n",
       "    </tr>\n",
       "  </thead>\n",
       "  <tbody>\n",
       "    <tr>\n",
       "      <th>0</th>\n",
       "      <td>0.075733</td>\n",
       "      <td>920</td>\n",
       "    </tr>\n",
       "    <tr>\n",
       "      <th>1</th>\n",
       "      <td>0.093284</td>\n",
       "      <td>382</td>\n",
       "    </tr>\n",
       "    <tr>\n",
       "      <th>2</th>\n",
       "      <td>0.065332</td>\n",
       "      <td>62</td>\n",
       "    </tr>\n",
       "    <tr>\n",
       "      <th>3</th>\n",
       "      <td>0.071795</td>\n",
       "      <td>84</td>\n",
       "    </tr>\n",
       "    <tr>\n",
       "      <th>4</th>\n",
       "      <td>0.097869</td>\n",
       "      <td>271</td>\n",
       "    </tr>\n",
       "  </tbody>\n",
       "</table>\n",
       "</div>"
      ],
      "text/plain": [
       "                      mean  sum\n",
       "family_status_id               \n",
       "0                 0.075733  920\n",
       "1                 0.093284  382\n",
       "2                 0.065332   62\n",
       "3                 0.071795   84\n",
       "4                 0.097869  271"
      ]
     },
     "execution_count": 35,
     "metadata": {},
     "output_type": "execute_result"
    }
   ],
   "source": [
    "df.groupby('family_status_id')['debt'].agg(['mean', 'sum'])\n"
   ]
  },
  {
   "cell_type": "markdown",
   "id": "05b93644",
   "metadata": {},
   "source": [
    "Наиболее надежные плательщики это вдовцы, а наиболее часто не возвращают кредиты люди в гражданоском браке и те, кто не состоит в браке. "
   ]
  },
  {
   "cell_type": "markdown",
   "id": "467e5ee9",
   "metadata": {},
   "source": [
    "### Влияние уровня дохода на возвращение кредита в срок."
   ]
  },
  {
   "cell_type": "code",
   "execution_count": 36,
   "id": "8fff8387",
   "metadata": {},
   "outputs": [
    {
     "data": {
      "text/html": [
       "<div>\n",
       "<style scoped>\n",
       "    .dataframe tbody tr th:only-of-type {\n",
       "        vertical-align: middle;\n",
       "    }\n",
       "\n",
       "    .dataframe tbody tr th {\n",
       "        vertical-align: top;\n",
       "    }\n",
       "\n",
       "    .dataframe thead th {\n",
       "        text-align: right;\n",
       "    }\n",
       "</style>\n",
       "<table border=\"1\" class=\"dataframe\">\n",
       "  <thead>\n",
       "    <tr style=\"text-align: right;\">\n",
       "      <th></th>\n",
       "      <th>mean</th>\n",
       "      <th>sum</th>\n",
       "    </tr>\n",
       "    <tr>\n",
       "      <th>income_category</th>\n",
       "      <th></th>\n",
       "      <th></th>\n",
       "    </tr>\n",
       "  </thead>\n",
       "  <tbody>\n",
       "    <tr>\n",
       "      <th>E, низкий доход</th>\n",
       "      <td>0.081203</td>\n",
       "      <td>524</td>\n",
       "    </tr>\n",
       "    <tr>\n",
       "      <th>D, доход ниже среднего</th>\n",
       "      <td>0.085359</td>\n",
       "      <td>899</td>\n",
       "    </tr>\n",
       "    <tr>\n",
       "      <th>C, средний доход</th>\n",
       "      <td>0.071381</td>\n",
       "      <td>214</td>\n",
       "    </tr>\n",
       "    <tr>\n",
       "      <th>B, доход выше среднего</th>\n",
       "      <td>0.076389</td>\n",
       "      <td>66</td>\n",
       "    </tr>\n",
       "    <tr>\n",
       "      <th>A, высокий доход</th>\n",
       "      <td>0.056338</td>\n",
       "      <td>16</td>\n",
       "    </tr>\n",
       "  </tbody>\n",
       "</table>\n",
       "</div>"
      ],
      "text/plain": [
       "                            mean  sum\n",
       "income_category                      \n",
       "E, низкий доход         0.081203  524\n",
       "D, доход ниже среднего  0.085359  899\n",
       "C, средний доход        0.071381  214\n",
       "B, доход выше среднего  0.076389   66\n",
       "A, высокий доход        0.056338   16"
      ]
     },
     "execution_count": 36,
     "metadata": {},
     "output_type": "execute_result"
    }
   ],
   "source": [
    "df.groupby('income_category')['debt'].agg(['mean', 'sum'])\n"
   ]
  },
  {
   "cell_type": "markdown",
   "id": "13d3f27f",
   "metadata": {},
   "source": [
    "Логично, что, чем меньше доход, тем больше вероятность, что будет задолженность по кредиту"
   ]
  },
  {
   "cell_type": "markdown",
   "id": "a3803135",
   "metadata": {},
   "source": [
    "### Влияние цели кредита на возвращение кредита в срок."
   ]
  },
  {
   "cell_type": "code",
   "execution_count": 37,
   "id": "4d02380c",
   "metadata": {},
   "outputs": [
    {
     "data": {
      "text/html": [
       "<div>\n",
       "<style scoped>\n",
       "    .dataframe tbody tr th:only-of-type {\n",
       "        vertical-align: middle;\n",
       "    }\n",
       "\n",
       "    .dataframe tbody tr th {\n",
       "        vertical-align: top;\n",
       "    }\n",
       "\n",
       "    .dataframe thead th {\n",
       "        text-align: right;\n",
       "    }\n",
       "</style>\n",
       "<table border=\"1\" class=\"dataframe\">\n",
       "  <thead>\n",
       "    <tr style=\"text-align: right;\">\n",
       "      <th></th>\n",
       "      <th>mean</th>\n",
       "      <th>sum</th>\n",
       "    </tr>\n",
       "    <tr>\n",
       "      <th>purpose_category</th>\n",
       "      <th></th>\n",
       "      <th></th>\n",
       "    </tr>\n",
       "  </thead>\n",
       "  <tbody>\n",
       "    <tr>\n",
       "      <th>операции с автомобилем</th>\n",
       "      <td>0.093544</td>\n",
       "      <td>397</td>\n",
       "    </tr>\n",
       "    <tr>\n",
       "      <th>операции с недвижимостью</th>\n",
       "      <td>0.072671</td>\n",
       "      <td>773</td>\n",
       "    </tr>\n",
       "    <tr>\n",
       "      <th>получение образования</th>\n",
       "      <td>0.092401</td>\n",
       "      <td>366</td>\n",
       "    </tr>\n",
       "    <tr>\n",
       "      <th>проведение свадьбы</th>\n",
       "      <td>0.079948</td>\n",
       "      <td>183</td>\n",
       "    </tr>\n",
       "  </tbody>\n",
       "</table>\n",
       "</div>"
      ],
      "text/plain": [
       "                              mean  sum\n",
       "purpose_category                       \n",
       "операции с автомобилем    0.093544  397\n",
       "операции с недвижимостью  0.072671  773\n",
       "получение образования     0.092401  366\n",
       "проведение свадьбы        0.079948  183"
      ]
     },
     "execution_count": 37,
     "metadata": {},
     "output_type": "execute_result"
    }
   ],
   "source": [
    "df.groupby('purpose_category')['debt'].agg(['mean', 'sum'])\n"
   ]
  },
  {
   "cell_type": "markdown",
   "id": "3d78ae91",
   "metadata": {},
   "source": [
    "Лучше всего возвращают кредиты, взятые для покупки недвижимости.  "
   ]
  },
  {
   "cell_type": "markdown",
   "id": "3d0e0570",
   "metadata": {},
   "source": [
    "# Вывод"
   ]
  },
  {
   "cell_type": "markdown",
   "id": "d3208372",
   "metadata": {},
   "source": [
    "В таблице 12 столбцов.\n",
    "В столбцах days_employed, total_income имеются пропуски.\n",
    "\n",
    "В начальных данных:\n",
    "* В данных имелись отрицательные значения в трудовом стаже\n",
    "* Были положительные значения большие для изменения трудового стажа в днях ( в 4 строчке 340000 дней = 931 год\n",
    "* Пропуски в столбцах days_employed и total_income в одних и тех же строках.\n",
    "* В колонке пола было значение XNА.Но такое значение всего одно на весь дата-сэт, что не сильно влияет на качество данных.\n",
    "* В колонке с количеством детей тоже были аномальные значения: появились значение с -1 ребенком и с 20 детьми. В России по данным 2017 года число семей с 11 и более детьми составляет 929, поэтому вероятнее, что это данные по семьям, где 2 ребенка. А -1 ребенка довольно сложно предстваить. \n",
    "\n",
    "Отрицательные значения в данных со стажем можно связать с ошибкой в программе.\n",
    "\n",
    "Всего строк 21525б, пропущенных значений 2174, доля пропущенных значений 10%\n",
    "\n",
    "Орицательные значения в трудовом стаже были приведены к положительным по модулю, пропуски не были заполненные так как данные максимально непонятные. \n",
    "\n",
    "В колонке с данными доходов пропуски были заполнены медианными значениями, чтобы не было сильно влияния очень низких и очень высоких доходов \n",
    "\n",
    "В колонке образования все значения были приведены к регистру, после этого сброшены дубликаты (71), созданы словари к идентификаторам семейного статуса и статуса образования. \n",
    "\n",
    "Значения в колонке с целями из множества были приведены к 4:\n",
    "        * операции с недвижимостью    \n",
    "        * операции с автомобилем       \n",
    "        * получение образования        \n",
    "        * проведение свадьбы          \n",
    "\n",
    "Заменила количество детей с -1 на 1, с 20 на 2. \n",
    "\n",
    "Влияние разных факторов на погашение кредита в срок:  \n",
    "    * Вдовцы реже имебт задолженности по выплате кредита.   \n",
    "    * Люди без детей более платежеспособны   \n",
    "    * Лучше возвращают кредиты, взятые на недвижимость.   \n",
    "    * Чем меньше задолженность, тем меньше вероятность задолженностей"
   ]
  }
 ],
 "metadata": {
  "ExecuteTimeLog": [
   {
    "duration": 1246,
    "start_time": "2022-02-23T22:47:24.795Z"
   },
   {
    "duration": 10,
    "start_time": "2022-02-23T22:47:26.043Z"
   },
   {
    "duration": 14,
    "start_time": "2022-02-23T22:47:26.056Z"
   },
   {
    "duration": 9,
    "start_time": "2022-02-23T22:47:26.071Z"
   },
   {
    "duration": 4,
    "start_time": "2022-02-23T22:47:26.082Z"
   },
   {
    "duration": 52,
    "start_time": "2022-02-23T22:47:26.087Z"
   },
   {
    "duration": 13,
    "start_time": "2022-02-23T22:47:26.140Z"
   },
   {
    "duration": 8,
    "start_time": "2022-02-23T22:47:26.154Z"
   },
   {
    "duration": 4,
    "start_time": "2022-02-23T22:47:26.165Z"
   },
   {
    "duration": 6,
    "start_time": "2022-02-23T22:47:26.172Z"
   },
   {
    "duration": 4,
    "start_time": "2022-02-23T22:47:26.180Z"
   },
   {
    "duration": 5,
    "start_time": "2022-02-23T22:47:26.185Z"
   },
   {
    "duration": 16,
    "start_time": "2022-02-23T22:47:26.230Z"
   },
   {
    "duration": 18,
    "start_time": "2022-02-23T22:47:26.248Z"
   },
   {
    "duration": 20,
    "start_time": "2022-02-23T22:47:26.267Z"
   },
   {
    "duration": 6,
    "start_time": "2022-02-23T22:47:26.289Z"
   },
   {
    "duration": 37,
    "start_time": "2022-02-23T22:47:26.297Z"
   },
   {
    "duration": 8,
    "start_time": "2022-02-23T22:47:26.335Z"
   },
   {
    "duration": 17,
    "start_time": "2022-02-23T22:47:26.345Z"
   },
   {
    "duration": 7,
    "start_time": "2022-02-23T22:47:26.363Z"
   },
   {
    "duration": 8,
    "start_time": "2022-02-23T22:47:26.372Z"
   },
   {
    "duration": 277,
    "start_time": "2022-02-23T22:47:26.381Z"
   },
   {
    "duration": 3,
    "start_time": "2022-02-23T22:47:26.659Z"
   },
   {
    "duration": 28,
    "start_time": "2022-02-23T22:47:26.664Z"
   },
   {
    "duration": 36,
    "start_time": "2022-02-23T22:47:26.694Z"
   },
   {
    "duration": 3,
    "start_time": "2022-02-23T22:47:26.732Z"
   },
   {
    "duration": 28,
    "start_time": "2022-02-23T22:47:26.738Z"
   },
   {
    "duration": 4,
    "start_time": "2022-02-23T22:47:26.767Z"
   },
   {
    "duration": 9,
    "start_time": "2022-02-23T22:47:26.772Z"
   },
   {
    "duration": 12,
    "start_time": "2022-02-23T22:47:26.782Z"
   },
   {
    "duration": 4,
    "start_time": "2022-02-23T22:47:26.795Z"
   },
   {
    "duration": 37,
    "start_time": "2022-02-23T22:47:26.800Z"
   },
   {
    "duration": 5,
    "start_time": "2022-02-23T22:47:26.839Z"
   },
   {
    "duration": 8,
    "start_time": "2022-02-23T22:47:26.845Z"
   },
   {
    "duration": 11,
    "start_time": "2022-02-23T22:47:26.855Z"
   },
   {
    "duration": 7,
    "start_time": "2022-02-23T22:47:26.867Z"
   },
   {
    "duration": 11,
    "start_time": "2022-02-23T22:47:26.875Z"
   },
   {
    "duration": 3,
    "start_time": "2022-02-23T22:47:26.887Z"
   },
   {
    "duration": 10,
    "start_time": "2022-02-23T22:47:26.931Z"
   },
   {
    "duration": 66,
    "start_time": "2022-02-23T22:48:35.816Z"
   },
   {
    "duration": 22,
    "start_time": "2022-02-23T23:00:18.979Z"
   },
   {
    "duration": 59,
    "start_time": "2022-02-23T23:01:42.336Z"
   },
   {
    "duration": 80,
    "start_time": "2022-02-23T23:02:46.650Z"
   },
   {
    "duration": 10,
    "start_time": "2022-02-23T23:02:55.495Z"
   },
   {
    "duration": 445,
    "start_time": "2022-02-23T23:04:37.753Z"
   },
   {
    "duration": 17,
    "start_time": "2022-02-23T23:04:46.797Z"
   },
   {
    "duration": 64,
    "start_time": "2022-02-23T23:05:42.414Z"
   },
   {
    "duration": 1223,
    "start_time": "2022-02-23T23:07:12.350Z"
   },
   {
    "duration": 11,
    "start_time": "2022-02-23T23:07:13.575Z"
   },
   {
    "duration": 15,
    "start_time": "2022-02-23T23:07:13.588Z"
   },
   {
    "duration": 9,
    "start_time": "2022-02-23T23:07:13.604Z"
   },
   {
    "duration": 3,
    "start_time": "2022-02-23T23:07:13.614Z"
   },
   {
    "duration": 33,
    "start_time": "2022-02-23T23:07:13.618Z"
   },
   {
    "duration": 13,
    "start_time": "2022-02-23T23:07:13.652Z"
   },
   {
    "duration": 6,
    "start_time": "2022-02-23T23:07:13.666Z"
   },
   {
    "duration": 4,
    "start_time": "2022-02-23T23:07:13.674Z"
   },
   {
    "duration": 5,
    "start_time": "2022-02-23T23:07:13.680Z"
   },
   {
    "duration": 3,
    "start_time": "2022-02-23T23:07:13.686Z"
   },
   {
    "duration": 39,
    "start_time": "2022-02-23T23:07:13.691Z"
   },
   {
    "duration": 17,
    "start_time": "2022-02-23T23:07:13.732Z"
   },
   {
    "duration": 17,
    "start_time": "2022-02-23T23:07:13.750Z"
   },
   {
    "duration": 18,
    "start_time": "2022-02-23T23:07:13.769Z"
   },
   {
    "duration": 6,
    "start_time": "2022-02-23T23:07:13.788Z"
   },
   {
    "duration": 43,
    "start_time": "2022-02-23T23:07:13.795Z"
   },
   {
    "duration": 5,
    "start_time": "2022-02-23T23:07:13.840Z"
   },
   {
    "duration": 19,
    "start_time": "2022-02-23T23:07:13.847Z"
   },
   {
    "duration": 7,
    "start_time": "2022-02-23T23:07:13.867Z"
   },
   {
    "duration": 6,
    "start_time": "2022-02-23T23:07:13.876Z"
   },
   {
    "duration": 277,
    "start_time": "2022-02-23T23:07:13.884Z"
   },
   {
    "duration": 3,
    "start_time": "2022-02-23T23:07:14.163Z"
   },
   {
    "duration": 28,
    "start_time": "2022-02-23T23:07:14.167Z"
   },
   {
    "duration": 35,
    "start_time": "2022-02-23T23:07:14.196Z"
   },
   {
    "duration": 3,
    "start_time": "2022-02-23T23:07:14.232Z"
   },
   {
    "duration": 25,
    "start_time": "2022-02-23T23:07:14.238Z"
   },
   {
    "duration": 3,
    "start_time": "2022-02-23T23:07:14.265Z"
   },
   {
    "duration": 7,
    "start_time": "2022-02-23T23:07:14.270Z"
   },
   {
    "duration": 11,
    "start_time": "2022-02-23T23:07:14.278Z"
   },
   {
    "duration": 4,
    "start_time": "2022-02-23T23:07:14.291Z"
   },
   {
    "duration": 36,
    "start_time": "2022-02-23T23:07:14.297Z"
   },
   {
    "duration": 6,
    "start_time": "2022-02-23T23:07:14.335Z"
   },
   {
    "duration": 7,
    "start_time": "2022-02-23T23:07:14.343Z"
   },
   {
    "duration": 9,
    "start_time": "2022-02-23T23:07:14.352Z"
   },
   {
    "duration": 7,
    "start_time": "2022-02-23T23:07:14.363Z"
   },
   {
    "duration": 11,
    "start_time": "2022-02-23T23:07:14.371Z"
   },
   {
    "duration": 48,
    "start_time": "2022-02-23T23:07:14.383Z"
   },
   {
    "duration": 13,
    "start_time": "2022-02-23T23:07:14.432Z"
   },
   {
    "duration": 458,
    "start_time": "2022-02-23T23:07:14.446Z"
   },
   {
    "duration": 229,
    "start_time": "2022-03-01T18:23:25.068Z"
   },
   {
    "duration": 1280,
    "start_time": "2022-03-01T18:23:47.410Z"
   },
   {
    "duration": 12,
    "start_time": "2022-03-01T18:23:48.692Z"
   },
   {
    "duration": 29,
    "start_time": "2022-03-01T18:23:48.706Z"
   },
   {
    "duration": 20,
    "start_time": "2022-03-01T18:23:48.736Z"
   },
   {
    "duration": 3,
    "start_time": "2022-03-01T18:23:48.758Z"
   },
   {
    "duration": 35,
    "start_time": "2022-03-01T18:23:48.763Z"
   },
   {
    "duration": 15,
    "start_time": "2022-03-01T18:23:48.800Z"
   },
   {
    "duration": 8,
    "start_time": "2022-03-01T18:23:48.818Z"
   },
   {
    "duration": 34,
    "start_time": "2022-03-01T18:23:48.828Z"
   },
   {
    "duration": 5,
    "start_time": "2022-03-01T18:23:48.863Z"
   },
   {
    "duration": 3,
    "start_time": "2022-03-01T18:23:48.870Z"
   },
   {
    "duration": 5,
    "start_time": "2022-03-01T18:23:48.875Z"
   },
   {
    "duration": 89,
    "start_time": "2022-03-01T18:23:48.882Z"
   },
   {
    "duration": -3630,
    "start_time": "2022-03-01T18:23:52.603Z"
   },
   {
    "duration": -3643,
    "start_time": "2022-03-01T18:23:52.617Z"
   },
   {
    "duration": -3647,
    "start_time": "2022-03-01T18:23:52.622Z"
   },
   {
    "duration": -3651,
    "start_time": "2022-03-01T18:23:52.627Z"
   },
   {
    "duration": -3849,
    "start_time": "2022-03-01T18:23:52.826Z"
   },
   {
    "duration": -3859,
    "start_time": "2022-03-01T18:23:52.838Z"
   },
   {
    "duration": -3879,
    "start_time": "2022-03-01T18:23:52.859Z"
   },
   {
    "duration": -3883,
    "start_time": "2022-03-01T18:23:52.864Z"
   },
   {
    "duration": -3887,
    "start_time": "2022-03-01T18:23:52.869Z"
   },
   {
    "duration": -3903,
    "start_time": "2022-03-01T18:23:52.886Z"
   },
   {
    "duration": -3906,
    "start_time": "2022-03-01T18:23:52.890Z"
   },
   {
    "duration": -3910,
    "start_time": "2022-03-01T18:23:52.896Z"
   },
   {
    "duration": -4063,
    "start_time": "2022-03-01T18:23:53.050Z"
   },
   {
    "duration": -4068,
    "start_time": "2022-03-01T18:23:53.056Z"
   },
   {
    "duration": -4074,
    "start_time": "2022-03-01T18:23:53.063Z"
   },
   {
    "duration": -4078,
    "start_time": "2022-03-01T18:23:53.068Z"
   },
   {
    "duration": -4085,
    "start_time": "2022-03-01T18:23:53.076Z"
   },
   {
    "duration": -4096,
    "start_time": "2022-03-01T18:23:53.088Z"
   },
   {
    "duration": -4100,
    "start_time": "2022-03-01T18:23:53.093Z"
   },
   {
    "duration": -4103,
    "start_time": "2022-03-01T18:23:53.097Z"
   },
   {
    "duration": -4105,
    "start_time": "2022-03-01T18:23:53.100Z"
   },
   {
    "duration": -4106,
    "start_time": "2022-03-01T18:23:53.103Z"
   },
   {
    "duration": -4112,
    "start_time": "2022-03-01T18:23:53.110Z"
   },
   {
    "duration": -4202,
    "start_time": "2022-03-01T18:23:53.201Z"
   },
   {
    "duration": -4210,
    "start_time": "2022-03-01T18:23:53.210Z"
   },
   {
    "duration": -4263,
    "start_time": "2022-03-01T18:23:53.264Z"
   },
   {
    "duration": -4279,
    "start_time": "2022-03-01T18:23:53.281Z"
   },
   {
    "duration": -4285,
    "start_time": "2022-03-01T18:23:53.288Z"
   },
   {
    "duration": 7,
    "start_time": "2022-03-01T18:29:48.361Z"
   },
   {
    "duration": 6,
    "start_time": "2022-03-01T18:33:05.493Z"
   },
   {
    "duration": 5,
    "start_time": "2022-03-01T18:37:49.844Z"
   },
   {
    "duration": 13,
    "start_time": "2022-03-01T18:38:05.670Z"
   },
   {
    "duration": 6,
    "start_time": "2022-03-01T18:38:08.787Z"
   },
   {
    "duration": 6,
    "start_time": "2022-03-01T18:38:14.438Z"
   },
   {
    "duration": 16,
    "start_time": "2022-03-01T18:39:06.430Z"
   },
   {
    "duration": 16,
    "start_time": "2022-03-01T18:39:42.946Z"
   },
   {
    "duration": 15,
    "start_time": "2022-03-01T18:39:46.728Z"
   },
   {
    "duration": 1268,
    "start_time": "2022-03-01T18:39:54.179Z"
   },
   {
    "duration": 11,
    "start_time": "2022-03-01T18:39:55.449Z"
   },
   {
    "duration": 18,
    "start_time": "2022-03-01T18:39:55.462Z"
   },
   {
    "duration": 10,
    "start_time": "2022-03-01T18:39:55.482Z"
   },
   {
    "duration": 5,
    "start_time": "2022-03-01T18:39:55.494Z"
   },
   {
    "duration": 29,
    "start_time": "2022-03-01T18:39:55.501Z"
   },
   {
    "duration": 30,
    "start_time": "2022-03-01T18:39:55.532Z"
   },
   {
    "duration": 15,
    "start_time": "2022-03-01T18:39:55.565Z"
   },
   {
    "duration": 7,
    "start_time": "2022-03-01T18:39:55.581Z"
   },
   {
    "duration": 11,
    "start_time": "2022-03-01T18:39:55.590Z"
   },
   {
    "duration": 9,
    "start_time": "2022-03-01T18:39:55.602Z"
   },
   {
    "duration": 5,
    "start_time": "2022-03-01T18:39:55.612Z"
   },
   {
    "duration": 7,
    "start_time": "2022-03-01T18:39:55.619Z"
   },
   {
    "duration": 33,
    "start_time": "2022-03-01T18:39:55.627Z"
   },
   {
    "duration": 19,
    "start_time": "2022-03-01T18:39:55.661Z"
   },
   {
    "duration": 5,
    "start_time": "2022-03-01T18:39:55.681Z"
   },
   {
    "duration": 12,
    "start_time": "2022-03-01T18:39:55.687Z"
   },
   {
    "duration": 8,
    "start_time": "2022-03-01T18:39:55.701Z"
   },
   {
    "duration": 15,
    "start_time": "2022-03-01T18:39:55.710Z"
   },
   {
    "duration": 48,
    "start_time": "2022-03-01T18:39:55.727Z"
   },
   {
    "duration": 18,
    "start_time": "2022-03-01T18:39:55.777Z"
   },
   {
    "duration": 8,
    "start_time": "2022-03-01T18:39:55.797Z"
   },
   {
    "duration": 9,
    "start_time": "2022-03-01T18:39:55.809Z"
   },
   {
    "duration": 321,
    "start_time": "2022-03-01T18:39:55.819Z"
   },
   {
    "duration": 3,
    "start_time": "2022-03-01T18:39:56.142Z"
   },
   {
    "duration": 35,
    "start_time": "2022-03-01T18:39:56.159Z"
   },
   {
    "duration": 27,
    "start_time": "2022-03-01T18:39:56.196Z"
   },
   {
    "duration": 4,
    "start_time": "2022-03-01T18:39:56.224Z"
   },
   {
    "duration": 42,
    "start_time": "2022-03-01T18:39:56.229Z"
   },
   {
    "duration": 4,
    "start_time": "2022-03-01T18:39:56.273Z"
   },
   {
    "duration": 9,
    "start_time": "2022-03-01T18:39:56.278Z"
   },
   {
    "duration": 19,
    "start_time": "2022-03-01T18:39:56.289Z"
   },
   {
    "duration": 11,
    "start_time": "2022-03-01T18:39:56.310Z"
   },
   {
    "duration": 14,
    "start_time": "2022-03-01T18:39:56.323Z"
   },
   {
    "duration": 21,
    "start_time": "2022-03-01T18:39:56.339Z"
   },
   {
    "duration": 8,
    "start_time": "2022-03-01T18:39:56.361Z"
   },
   {
    "duration": 14,
    "start_time": "2022-03-01T18:39:56.370Z"
   },
   {
    "duration": 13,
    "start_time": "2022-03-01T18:39:56.386Z"
   },
   {
    "duration": 22,
    "start_time": "2022-03-01T18:39:56.401Z"
   },
   {
    "duration": 15,
    "start_time": "2022-03-01T18:39:56.425Z"
   },
   {
    "duration": 17,
    "start_time": "2022-03-01T18:39:56.442Z"
   },
   {
    "duration": 282,
    "start_time": "2022-03-01T18:39:56.461Z"
   },
   {
    "duration": 73,
    "start_time": "2022-03-01T18:42:34.770Z"
   },
   {
    "duration": 26,
    "start_time": "2022-03-01T18:42:50.541Z"
   },
   {
    "duration": 23,
    "start_time": "2022-03-01T18:42:59.063Z"
   },
   {
    "duration": 312,
    "start_time": "2022-03-01T18:45:05.748Z"
   },
   {
    "duration": 198,
    "start_time": "2022-03-01T18:45:16.010Z"
   },
   {
    "duration": 492,
    "start_time": "2022-03-01T18:46:21.340Z"
   },
   {
    "duration": 25,
    "start_time": "2022-03-01T18:47:01.548Z"
   },
   {
    "duration": 22,
    "start_time": "2022-03-01T18:47:53.593Z"
   },
   {
    "duration": 10,
    "start_time": "2022-03-01T18:48:51.637Z"
   },
   {
    "duration": 9,
    "start_time": "2022-03-01T18:49:10.471Z"
   },
   {
    "duration": 191,
    "start_time": "2022-03-01T18:50:37.160Z"
   },
   {
    "duration": 15,
    "start_time": "2022-03-01T18:50:45.050Z"
   },
   {
    "duration": 7,
    "start_time": "2022-03-01T18:50:47.177Z"
   },
   {
    "duration": 7,
    "start_time": "2022-03-01T18:50:57.524Z"
   },
   {
    "duration": 27,
    "start_time": "2022-03-01T18:53:07.706Z"
   },
   {
    "duration": 7,
    "start_time": "2022-03-01T18:53:15.066Z"
   },
   {
    "duration": 286,
    "start_time": "2022-03-02T18:21:07.203Z"
   },
   {
    "duration": 1904,
    "start_time": "2022-03-02T18:21:13.683Z"
   },
   {
    "duration": 24,
    "start_time": "2022-03-02T18:21:15.591Z"
   },
   {
    "duration": 50,
    "start_time": "2022-03-02T18:21:15.619Z"
   },
   {
    "duration": 18,
    "start_time": "2022-03-02T18:21:15.673Z"
   },
   {
    "duration": 5,
    "start_time": "2022-03-02T18:21:15.695Z"
   },
   {
    "duration": 82,
    "start_time": "2022-03-02T18:21:15.703Z"
   },
   {
    "duration": 24,
    "start_time": "2022-03-02T18:21:15.788Z"
   },
   {
    "duration": 35,
    "start_time": "2022-03-02T18:21:15.816Z"
   },
   {
    "duration": 5,
    "start_time": "2022-03-02T18:21:15.854Z"
   },
   {
    "duration": 9,
    "start_time": "2022-03-02T18:21:15.862Z"
   },
   {
    "duration": 4,
    "start_time": "2022-03-02T18:21:15.874Z"
   },
   {
    "duration": 6,
    "start_time": "2022-03-02T18:21:15.881Z"
   },
   {
    "duration": 61,
    "start_time": "2022-03-02T18:21:15.890Z"
   },
   {
    "duration": 23,
    "start_time": "2022-03-02T18:21:15.953Z"
   },
   {
    "duration": 32,
    "start_time": "2022-03-02T18:21:15.979Z"
   },
   {
    "duration": 38,
    "start_time": "2022-03-02T18:21:16.014Z"
   },
   {
    "duration": 19,
    "start_time": "2022-03-02T18:21:16.055Z"
   },
   {
    "duration": 11,
    "start_time": "2022-03-02T18:21:16.077Z"
   },
   {
    "duration": 24,
    "start_time": "2022-03-02T18:21:16.090Z"
   },
   {
    "duration": 60,
    "start_time": "2022-03-02T18:21:16.116Z"
   },
   {
    "duration": 18,
    "start_time": "2022-03-02T18:21:16.179Z"
   },
   {
    "duration": 10,
    "start_time": "2022-03-02T18:21:16.199Z"
   },
   {
    "duration": 40,
    "start_time": "2022-03-02T18:21:16.215Z"
   },
   {
    "duration": 8,
    "start_time": "2022-03-02T18:21:16.258Z"
   },
   {
    "duration": 451,
    "start_time": "2022-03-02T18:21:16.269Z"
   },
   {
    "duration": 5,
    "start_time": "2022-03-02T18:21:16.722Z"
   },
   {
    "duration": 55,
    "start_time": "2022-03-02T18:21:16.729Z"
   },
   {
    "duration": 25,
    "start_time": "2022-03-02T18:21:16.786Z"
   },
   {
    "duration": 4,
    "start_time": "2022-03-02T18:21:16.813Z"
   },
   {
    "duration": 62,
    "start_time": "2022-03-02T18:21:16.819Z"
   },
   {
    "duration": 11,
    "start_time": "2022-03-02T18:21:16.883Z"
   },
   {
    "duration": 17,
    "start_time": "2022-03-02T18:21:16.897Z"
   },
   {
    "duration": 39,
    "start_time": "2022-03-02T18:21:16.917Z"
   },
   {
    "duration": 12,
    "start_time": "2022-03-02T18:21:16.959Z"
   },
   {
    "duration": 24,
    "start_time": "2022-03-02T18:21:16.974Z"
   },
   {
    "duration": 14,
    "start_time": "2022-03-02T18:21:17.001Z"
   },
   {
    "duration": 21,
    "start_time": "2022-03-02T18:21:17.018Z"
   },
   {
    "duration": 5815,
    "start_time": "2022-03-02T18:21:17.042Z"
   },
   {
    "duration": -163,
    "start_time": "2022-03-02T18:21:23.023Z"
   },
   {
    "duration": -167,
    "start_time": "2022-03-02T18:21:23.029Z"
   },
   {
    "duration": -170,
    "start_time": "2022-03-02T18:21:23.034Z"
   },
   {
    "duration": -174,
    "start_time": "2022-03-02T18:21:23.040Z"
   },
   {
    "duration": -176,
    "start_time": "2022-03-02T18:21:23.045Z"
   },
   {
    "duration": -180,
    "start_time": "2022-03-02T18:21:23.051Z"
   },
   {
    "duration": -184,
    "start_time": "2022-03-02T18:21:23.056Z"
   },
   {
    "duration": 7,
    "start_time": "2022-03-02T18:21:44.785Z"
   },
   {
    "duration": 5501,
    "start_time": "2022-03-02T18:23:49.715Z"
   },
   {
    "duration": -270,
    "start_time": "2022-03-02T18:23:55.489Z"
   },
   {
    "duration": -276,
    "start_time": "2022-03-02T18:23:55.496Z"
   },
   {
    "duration": -281,
    "start_time": "2022-03-02T18:23:55.503Z"
   },
   {
    "duration": -286,
    "start_time": "2022-03-02T18:23:55.509Z"
   },
   {
    "duration": -290,
    "start_time": "2022-03-02T18:23:55.514Z"
   },
   {
    "duration": -294,
    "start_time": "2022-03-02T18:23:55.520Z"
   },
   {
    "duration": 11,
    "start_time": "2022-03-02T18:25:12.395Z"
   },
   {
    "duration": 16,
    "start_time": "2022-03-02T18:25:13.178Z"
   },
   {
    "duration": 4,
    "start_time": "2022-03-02T18:25:14.716Z"
   },
   {
    "duration": 14,
    "start_time": "2022-03-02T18:25:15.222Z"
   },
   {
    "duration": 661,
    "start_time": "2022-03-02T18:25:17.371Z"
   },
   {
    "duration": 240,
    "start_time": "2022-03-02T18:25:34.881Z"
   },
   {
    "duration": 237,
    "start_time": "2022-03-02T18:25:36.621Z"
   },
   {
    "duration": 1580,
    "start_time": "2022-03-02T18:27:34.305Z"
   },
   {
    "duration": 15,
    "start_time": "2022-03-02T18:27:35.888Z"
   },
   {
    "duration": 23,
    "start_time": "2022-03-02T18:27:35.906Z"
   },
   {
    "duration": 29,
    "start_time": "2022-03-02T18:27:35.932Z"
   },
   {
    "duration": 4,
    "start_time": "2022-03-02T18:27:35.963Z"
   },
   {
    "duration": 38,
    "start_time": "2022-03-02T18:27:35.970Z"
   },
   {
    "duration": 53,
    "start_time": "2022-03-02T18:27:36.011Z"
   },
   {
    "duration": 12,
    "start_time": "2022-03-02T18:27:36.068Z"
   },
   {
    "duration": 6,
    "start_time": "2022-03-02T18:27:36.083Z"
   },
   {
    "duration": 6,
    "start_time": "2022-03-02T18:27:36.092Z"
   },
   {
    "duration": 5,
    "start_time": "2022-03-02T18:27:36.101Z"
   },
   {
    "duration": 44,
    "start_time": "2022-03-02T18:27:36.108Z"
   },
   {
    "duration": 10,
    "start_time": "2022-03-02T18:27:36.154Z"
   },
   {
    "duration": 22,
    "start_time": "2022-03-02T18:27:36.166Z"
   },
   {
    "duration": 62,
    "start_time": "2022-03-02T18:27:36.190Z"
   },
   {
    "duration": 6,
    "start_time": "2022-03-02T18:27:36.255Z"
   },
   {
    "duration": 15,
    "start_time": "2022-03-02T18:27:36.264Z"
   },
   {
    "duration": 10,
    "start_time": "2022-03-02T18:27:36.282Z"
   },
   {
    "duration": 64,
    "start_time": "2022-03-02T18:27:36.294Z"
   },
   {
    "duration": 26,
    "start_time": "2022-03-02T18:27:36.360Z"
   },
   {
    "duration": 15,
    "start_time": "2022-03-02T18:27:36.388Z"
   },
   {
    "duration": 8,
    "start_time": "2022-03-02T18:27:36.405Z"
   },
   {
    "duration": 36,
    "start_time": "2022-03-02T18:27:36.418Z"
   },
   {
    "duration": 444,
    "start_time": "2022-03-02T18:27:36.457Z"
   },
   {
    "duration": 5,
    "start_time": "2022-03-02T18:27:36.904Z"
   },
   {
    "duration": 79,
    "start_time": "2022-03-02T18:27:36.911Z"
   },
   {
    "duration": 37,
    "start_time": "2022-03-02T18:27:36.993Z"
   },
   {
    "duration": 23,
    "start_time": "2022-03-02T18:27:37.033Z"
   },
   {
    "duration": 44,
    "start_time": "2022-03-02T18:27:37.059Z"
   },
   {
    "duration": 10,
    "start_time": "2022-03-02T18:27:37.106Z"
   },
   {
    "duration": 35,
    "start_time": "2022-03-02T18:27:37.120Z"
   },
   {
    "duration": 17,
    "start_time": "2022-03-02T18:27:37.158Z"
   },
   {
    "duration": 12,
    "start_time": "2022-03-02T18:27:37.177Z"
   },
   {
    "duration": 6,
    "start_time": "2022-03-02T18:27:37.192Z"
   },
   {
    "duration": 51,
    "start_time": "2022-03-02T18:27:37.200Z"
   },
   {
    "duration": 8,
    "start_time": "2022-03-02T18:27:37.253Z"
   },
   {
    "duration": 378,
    "start_time": "2022-03-02T18:27:37.263Z"
   },
   {
    "duration": -19,
    "start_time": "2022-03-02T18:27:37.663Z"
   },
   {
    "duration": -23,
    "start_time": "2022-03-02T18:27:37.668Z"
   },
   {
    "duration": -36,
    "start_time": "2022-03-02T18:27:37.682Z"
   },
   {
    "duration": -39,
    "start_time": "2022-03-02T18:27:37.687Z"
   },
   {
    "duration": -43,
    "start_time": "2022-03-02T18:27:37.693Z"
   },
   {
    "duration": -46,
    "start_time": "2022-03-02T18:27:37.698Z"
   },
   {
    "duration": 16,
    "start_time": "2022-03-02T18:28:22.407Z"
   },
   {
    "duration": 7,
    "start_time": "2022-03-02T18:28:43.412Z"
   },
   {
    "duration": 1652,
    "start_time": "2022-03-02T18:28:48.560Z"
   },
   {
    "duration": 18,
    "start_time": "2022-03-02T18:28:50.215Z"
   },
   {
    "duration": 35,
    "start_time": "2022-03-02T18:28:50.237Z"
   },
   {
    "duration": 14,
    "start_time": "2022-03-02T18:28:50.276Z"
   },
   {
    "duration": 5,
    "start_time": "2022-03-02T18:28:50.293Z"
   },
   {
    "duration": 77,
    "start_time": "2022-03-02T18:28:50.301Z"
   },
   {
    "duration": 21,
    "start_time": "2022-03-02T18:28:50.381Z"
   },
   {
    "duration": 9,
    "start_time": "2022-03-02T18:28:50.405Z"
   },
   {
    "duration": 36,
    "start_time": "2022-03-02T18:28:50.418Z"
   },
   {
    "duration": 7,
    "start_time": "2022-03-02T18:28:50.457Z"
   },
   {
    "duration": 5,
    "start_time": "2022-03-02T18:28:50.466Z"
   },
   {
    "duration": 10,
    "start_time": "2022-03-02T18:28:50.473Z"
   },
   {
    "duration": 11,
    "start_time": "2022-03-02T18:28:50.485Z"
   },
   {
    "duration": 65,
    "start_time": "2022-03-02T18:28:50.498Z"
   },
   {
    "duration": 35,
    "start_time": "2022-03-02T18:28:50.565Z"
   },
   {
    "duration": 7,
    "start_time": "2022-03-02T18:28:50.603Z"
   },
   {
    "duration": 50,
    "start_time": "2022-03-02T18:28:50.612Z"
   },
   {
    "duration": 9,
    "start_time": "2022-03-02T18:28:50.664Z"
   },
   {
    "duration": 23,
    "start_time": "2022-03-02T18:28:50.676Z"
   },
   {
    "duration": 61,
    "start_time": "2022-03-02T18:28:50.701Z"
   },
   {
    "duration": 16,
    "start_time": "2022-03-02T18:28:50.764Z"
   },
   {
    "duration": 9,
    "start_time": "2022-03-02T18:28:50.783Z"
   },
   {
    "duration": 14,
    "start_time": "2022-03-02T18:28:50.795Z"
   },
   {
    "duration": 40,
    "start_time": "2022-03-02T18:28:50.812Z"
   },
   {
    "duration": 597,
    "start_time": "2022-03-02T18:28:50.854Z"
   },
   {
    "duration": 5,
    "start_time": "2022-03-02T18:28:51.453Z"
   },
   {
    "duration": 41,
    "start_time": "2022-03-02T18:28:51.463Z"
   },
   {
    "duration": 55,
    "start_time": "2022-03-02T18:28:51.507Z"
   },
   {
    "duration": 4,
    "start_time": "2022-03-02T18:28:51.565Z"
   },
   {
    "duration": 38,
    "start_time": "2022-03-02T18:28:51.572Z"
   },
   {
    "duration": 41,
    "start_time": "2022-03-02T18:28:51.613Z"
   },
   {
    "duration": 8,
    "start_time": "2022-03-02T18:28:51.657Z"
   },
   {
    "duration": 10,
    "start_time": "2022-03-02T18:28:51.668Z"
   },
   {
    "duration": 9,
    "start_time": "2022-03-02T18:28:51.680Z"
   },
   {
    "duration": 6,
    "start_time": "2022-03-02T18:28:51.691Z"
   },
   {
    "duration": 15,
    "start_time": "2022-03-02T18:28:51.751Z"
   },
   {
    "duration": 5516,
    "start_time": "2022-03-02T18:28:51.768Z"
   },
   {
    "duration": -171,
    "start_time": "2022-03-02T18:28:57.458Z"
   },
   {
    "duration": -182,
    "start_time": "2022-03-02T18:28:57.470Z"
   },
   {
    "duration": -187,
    "start_time": "2022-03-02T18:28:57.477Z"
   },
   {
    "duration": -192,
    "start_time": "2022-03-02T18:28:57.483Z"
   },
   {
    "duration": -196,
    "start_time": "2022-03-02T18:28:57.488Z"
   },
   {
    "duration": -200,
    "start_time": "2022-03-02T18:28:57.493Z"
   },
   {
    "duration": 225,
    "start_time": "2022-03-02T18:29:09.348Z"
   },
   {
    "duration": 72,
    "start_time": "2022-03-02T18:36:30.457Z"
   },
   {
    "duration": 1596,
    "start_time": "2022-03-02T18:36:52.921Z"
   },
   {
    "duration": 15,
    "start_time": "2022-03-02T18:36:54.519Z"
   },
   {
    "duration": 22,
    "start_time": "2022-03-02T18:36:54.537Z"
   },
   {
    "duration": 12,
    "start_time": "2022-03-02T18:36:54.562Z"
   },
   {
    "duration": 4,
    "start_time": "2022-03-02T18:36:54.576Z"
   },
   {
    "duration": 38,
    "start_time": "2022-03-02T18:36:54.583Z"
   },
   {
    "duration": 20,
    "start_time": "2022-03-02T18:36:54.652Z"
   },
   {
    "duration": 9,
    "start_time": "2022-03-02T18:36:54.676Z"
   },
   {
    "duration": 5,
    "start_time": "2022-03-02T18:36:54.688Z"
   },
   {
    "duration": 7,
    "start_time": "2022-03-02T18:36:54.696Z"
   },
   {
    "duration": 45,
    "start_time": "2022-03-02T18:36:54.706Z"
   },
   {
    "duration": 4,
    "start_time": "2022-03-02T18:36:54.754Z"
   },
   {
    "duration": 11,
    "start_time": "2022-03-02T18:36:54.760Z"
   },
   {
    "duration": 23,
    "start_time": "2022-03-02T18:36:54.773Z"
   },
   {
    "duration": 73,
    "start_time": "2022-03-02T18:36:54.798Z"
   },
   {
    "duration": 6,
    "start_time": "2022-03-02T18:36:54.874Z"
   },
   {
    "duration": 15,
    "start_time": "2022-03-02T18:36:54.883Z"
   },
   {
    "duration": 11,
    "start_time": "2022-03-02T18:36:54.900Z"
   },
   {
    "duration": 55,
    "start_time": "2022-03-02T18:36:54.914Z"
   },
   {
    "duration": 25,
    "start_time": "2022-03-02T18:36:54.971Z"
   },
   {
    "duration": 15,
    "start_time": "2022-03-02T18:36:54.998Z"
   },
   {
    "duration": 39,
    "start_time": "2022-03-02T18:36:55.015Z"
   },
   {
    "duration": 9,
    "start_time": "2022-03-02T18:36:55.059Z"
   },
   {
    "duration": 7,
    "start_time": "2022-03-02T18:36:55.071Z"
   },
   {
    "duration": 443,
    "start_time": "2022-03-02T18:36:55.081Z"
   },
   {
    "duration": 4,
    "start_time": "2022-03-02T18:36:55.526Z"
   },
   {
    "duration": 50,
    "start_time": "2022-03-02T18:36:55.532Z"
   },
   {
    "duration": 26,
    "start_time": "2022-03-02T18:36:55.585Z"
   },
   {
    "duration": 4,
    "start_time": "2022-03-02T18:36:55.613Z"
   },
   {
    "duration": 38,
    "start_time": "2022-03-02T18:36:55.651Z"
   },
   {
    "duration": 10,
    "start_time": "2022-03-02T18:36:55.692Z"
   },
   {
    "duration": 7,
    "start_time": "2022-03-02T18:36:55.704Z"
   },
   {
    "duration": 41,
    "start_time": "2022-03-02T18:36:55.714Z"
   },
   {
    "duration": 8,
    "start_time": "2022-03-02T18:36:55.757Z"
   },
   {
    "duration": 6,
    "start_time": "2022-03-02T18:36:55.768Z"
   },
   {
    "duration": 12,
    "start_time": "2022-03-02T18:36:55.777Z"
   },
   {
    "duration": 9,
    "start_time": "2022-03-02T18:36:55.791Z"
   },
   {
    "duration": 59,
    "start_time": "2022-03-02T18:36:55.803Z"
   },
   {
    "duration": 4,
    "start_time": "2022-03-02T18:36:55.864Z"
   },
   {
    "duration": 15,
    "start_time": "2022-03-02T18:36:55.870Z"
   },
   {
    "duration": 728,
    "start_time": "2022-03-02T18:36:55.887Z"
   },
   {
    "duration": 7,
    "start_time": "2022-03-02T18:39:45.938Z"
   },
   {
    "duration": 13,
    "start_time": "2022-03-02T18:39:49.623Z"
   },
   {
    "duration": 1734,
    "start_time": "2022-03-02T18:40:13.722Z"
   },
   {
    "duration": 24,
    "start_time": "2022-03-02T18:40:15.460Z"
   },
   {
    "duration": 35,
    "start_time": "2022-03-02T18:40:15.489Z"
   },
   {
    "duration": 41,
    "start_time": "2022-03-02T18:40:15.528Z"
   },
   {
    "duration": 5,
    "start_time": "2022-03-02T18:40:15.572Z"
   },
   {
    "duration": 81,
    "start_time": "2022-03-02T18:40:15.580Z"
   },
   {
    "duration": 21,
    "start_time": "2022-03-02T18:40:15.664Z"
   },
   {
    "duration": 10,
    "start_time": "2022-03-02T18:40:15.687Z"
   },
   {
    "duration": 10,
    "start_time": "2022-03-02T18:40:15.700Z"
   },
   {
    "duration": 43,
    "start_time": "2022-03-02T18:40:15.713Z"
   },
   {
    "duration": 7,
    "start_time": "2022-03-02T18:40:15.758Z"
   },
   {
    "duration": 13,
    "start_time": "2022-03-02T18:40:15.767Z"
   },
   {
    "duration": 18,
    "start_time": "2022-03-02T18:40:15.782Z"
   },
   {
    "duration": 24,
    "start_time": "2022-03-02T18:40:15.803Z"
   },
   {
    "duration": 34,
    "start_time": "2022-03-02T18:40:15.851Z"
   },
   {
    "duration": 30,
    "start_time": "2022-03-02T18:40:15.887Z"
   },
   {
    "duration": 16,
    "start_time": "2022-03-02T18:40:15.920Z"
   },
   {
    "duration": 19,
    "start_time": "2022-03-02T18:40:15.938Z"
   },
   {
    "duration": 33,
    "start_time": "2022-03-02T18:40:15.960Z"
   },
   {
    "duration": 61,
    "start_time": "2022-03-02T18:40:15.997Z"
   },
   {
    "duration": 23,
    "start_time": "2022-03-02T18:40:16.062Z"
   },
   {
    "duration": 12,
    "start_time": "2022-03-02T18:40:16.089Z"
   },
   {
    "duration": 14,
    "start_time": "2022-03-02T18:40:16.104Z"
   },
   {
    "duration": 12,
    "start_time": "2022-03-02T18:40:16.152Z"
   },
   {
    "duration": 455,
    "start_time": "2022-03-02T18:40:16.167Z"
   },
   {
    "duration": 5,
    "start_time": "2022-03-02T18:40:16.625Z"
   },
   {
    "duration": 51,
    "start_time": "2022-03-02T18:40:16.635Z"
   },
   {
    "duration": 25,
    "start_time": "2022-03-02T18:40:16.688Z"
   },
   {
    "duration": 4,
    "start_time": "2022-03-02T18:40:16.715Z"
   },
   {
    "duration": 59,
    "start_time": "2022-03-02T18:40:16.721Z"
   },
   {
    "duration": 9,
    "start_time": "2022-03-02T18:40:16.783Z"
   },
   {
    "duration": 13,
    "start_time": "2022-03-02T18:40:16.794Z"
   },
   {
    "duration": 42,
    "start_time": "2022-03-02T18:40:16.809Z"
   },
   {
    "duration": 8,
    "start_time": "2022-03-02T18:40:16.853Z"
   },
   {
    "duration": 7,
    "start_time": "2022-03-02T18:40:16.864Z"
   },
   {
    "duration": 13,
    "start_time": "2022-03-02T18:40:16.873Z"
   },
   {
    "duration": 6,
    "start_time": "2022-03-02T18:40:16.889Z"
   },
   {
    "duration": 55,
    "start_time": "2022-03-02T18:40:16.898Z"
   },
   {
    "duration": 11,
    "start_time": "2022-03-02T18:40:16.955Z"
   },
   {
    "duration": 18,
    "start_time": "2022-03-02T18:40:16.969Z"
   },
   {
    "duration": 5,
    "start_time": "2022-03-02T18:40:16.990Z"
   },
   {
    "duration": 62,
    "start_time": "2022-03-02T18:40:16.998Z"
   },
   {
    "duration": 692,
    "start_time": "2022-03-02T18:40:17.063Z"
   },
   {
    "duration": 1319,
    "start_time": "2022-09-27T12:30:31.357Z"
   },
   {
    "duration": 1772,
    "start_time": "2023-03-16T10:16:09.909Z"
   },
   {
    "duration": 122,
    "start_time": "2023-03-16T10:16:37.198Z"
   },
   {
    "duration": 47,
    "start_time": "2023-03-16T10:16:46.101Z"
   },
   {
    "duration": 52,
    "start_time": "2023-03-16T10:17:30.022Z"
   },
   {
    "duration": 51,
    "start_time": "2023-03-16T10:17:32.843Z"
   },
   {
    "duration": 46,
    "start_time": "2023-03-16T10:18:15.181Z"
   },
   {
    "duration": 16,
    "start_time": "2023-03-16T10:18:44.220Z"
   },
   {
    "duration": 13,
    "start_time": "2023-03-16T10:19:14.714Z"
   },
   {
    "duration": 18,
    "start_time": "2023-03-16T10:20:13.825Z"
   },
   {
    "duration": 4,
    "start_time": "2023-03-16T10:24:47.395Z"
   },
   {
    "duration": 36,
    "start_time": "2023-03-16T10:24:50.376Z"
   },
   {
    "duration": 49,
    "start_time": "2023-03-16T10:25:41.952Z"
   },
   {
    "duration": 24,
    "start_time": "2023-03-16T10:25:46.893Z"
   },
   {
    "duration": 44,
    "start_time": "2023-03-16T10:39:08.057Z"
   },
   {
    "duration": 31,
    "start_time": "2023-03-16T10:39:30.896Z"
   },
   {
    "duration": 27,
    "start_time": "2023-03-16T10:39:38.874Z"
   },
   {
    "duration": 19,
    "start_time": "2023-03-16T10:42:14.780Z"
   },
   {
    "duration": 16,
    "start_time": "2023-03-16T10:42:27.896Z"
   },
   {
    "duration": 2138,
    "start_time": "2023-03-16T10:46:02.751Z"
   },
   {
    "duration": 282,
    "start_time": "2023-03-16T10:46:15.873Z"
   },
   {
    "duration": 211,
    "start_time": "2023-03-16T10:48:25.290Z"
   },
   {
    "duration": 558,
    "start_time": "2023-03-16T10:48:29.049Z"
   },
   {
    "duration": 517,
    "start_time": "2023-03-16T10:49:42.226Z"
   },
   {
    "duration": 917,
    "start_time": "2023-03-16T10:50:04.194Z"
   },
   {
    "duration": 201,
    "start_time": "2023-03-16T10:51:09.359Z"
   },
   {
    "duration": 837,
    "start_time": "2023-03-16T10:51:22.143Z"
   },
   {
    "duration": 591,
    "start_time": "2023-03-16T10:51:42.358Z"
   },
   {
    "duration": 512,
    "start_time": "2023-03-16T10:52:08.608Z"
   },
   {
    "duration": 562,
    "start_time": "2023-03-16T10:52:20.404Z"
   },
   {
    "duration": 495,
    "start_time": "2023-03-16T10:52:23.028Z"
   },
   {
    "duration": 27,
    "start_time": "2023-03-16T10:52:38.391Z"
   },
   {
    "duration": 570,
    "start_time": "2023-03-16T10:52:41.988Z"
   },
   {
    "duration": 537,
    "start_time": "2023-03-16T10:52:44.116Z"
   },
   {
    "duration": 177,
    "start_time": "2023-03-16T10:55:26.580Z"
   },
   {
    "duration": 202,
    "start_time": "2023-03-16T10:55:31.192Z"
   },
   {
    "duration": 19,
    "start_time": "2023-03-16T11:01:26.588Z"
   },
   {
    "duration": 12,
    "start_time": "2023-03-16T11:03:12.216Z"
   },
   {
    "duration": 13,
    "start_time": "2023-03-16T11:03:41.379Z"
   },
   {
    "duration": 5,
    "start_time": "2023-03-16T13:24:44.119Z"
   },
   {
    "duration": 8,
    "start_time": "2023-03-16T13:24:49.247Z"
   },
   {
    "duration": 14,
    "start_time": "2023-03-16T13:25:15.550Z"
   },
   {
    "duration": 7,
    "start_time": "2023-03-16T13:25:28.553Z"
   },
   {
    "duration": 448,
    "start_time": "2023-03-16T13:26:24.704Z"
   },
   {
    "duration": 408,
    "start_time": "2023-03-16T13:28:05.447Z"
   },
   {
    "duration": 389,
    "start_time": "2023-03-16T13:28:09.375Z"
   },
   {
    "duration": 7,
    "start_time": "2023-03-16T13:29:28.418Z"
   },
   {
    "duration": 7,
    "start_time": "2023-03-16T13:30:21.687Z"
   },
   {
    "duration": 36,
    "start_time": "2023-03-16T13:37:25.127Z"
   },
   {
    "duration": 34,
    "start_time": "2023-03-16T13:37:41.731Z"
   },
   {
    "duration": 33,
    "start_time": "2023-03-16T13:37:51.679Z"
   },
   {
    "duration": 21,
    "start_time": "2023-03-16T13:37:51.849Z"
   },
   {
    "duration": 25,
    "start_time": "2023-03-16T13:38:17.400Z"
   },
   {
    "duration": 20,
    "start_time": "2023-03-16T13:38:25.086Z"
   },
   {
    "duration": 20,
    "start_time": "2023-03-16T13:47:28.496Z"
   },
   {
    "duration": 122,
    "start_time": "2023-03-16T13:47:57.325Z"
   },
   {
    "duration": 50,
    "start_time": "2023-03-16T13:47:58.976Z"
   },
   {
    "duration": 26,
    "start_time": "2023-03-16T13:48:06.018Z"
   },
   {
    "duration": 21,
    "start_time": "2023-03-16T13:49:39.427Z"
   },
   {
    "duration": 18,
    "start_time": "2023-03-16T13:49:48.293Z"
   },
   {
    "duration": 33,
    "start_time": "2023-03-16T13:52:03.690Z"
   },
   {
    "duration": 447,
    "start_time": "2023-03-16T13:52:12.847Z"
   },
   {
    "duration": 430,
    "start_time": "2023-03-16T13:52:16.275Z"
   },
   {
    "duration": 7,
    "start_time": "2023-03-16T13:52:28.792Z"
   },
   {
    "duration": 15,
    "start_time": "2023-03-16T13:56:48.960Z"
   },
   {
    "duration": 4,
    "start_time": "2023-03-16T13:59:35.652Z"
   },
   {
    "duration": 7,
    "start_time": "2023-03-16T13:59:43.702Z"
   },
   {
    "duration": 28,
    "start_time": "2023-03-16T14:00:55.553Z"
   },
   {
    "duration": 10,
    "start_time": "2023-03-16T14:04:51.442Z"
   },
   {
    "duration": 138,
    "start_time": "2023-03-16T14:07:57.908Z"
   },
   {
    "duration": 4,
    "start_time": "2023-03-16T14:08:13.707Z"
   },
   {
    "duration": 9,
    "start_time": "2023-03-16T14:08:38.589Z"
   },
   {
    "duration": 3,
    "start_time": "2023-03-16T14:11:11.735Z"
   },
   {
    "duration": 9,
    "start_time": "2023-03-16T14:11:32.012Z"
   },
   {
    "duration": 7,
    "start_time": "2023-03-16T14:11:37.311Z"
   },
   {
    "duration": 90,
    "start_time": "2023-03-16T14:11:56.740Z"
   },
   {
    "duration": 7,
    "start_time": "2023-03-16T14:13:24.175Z"
   },
   {
    "duration": 12,
    "start_time": "2023-03-16T14:13:27.002Z"
   },
   {
    "duration": 6,
    "start_time": "2023-03-16T14:13:41.950Z"
   },
   {
    "duration": 76,
    "start_time": "2023-03-16T14:13:52.493Z"
   },
   {
    "duration": 45,
    "start_time": "2023-03-16T14:13:56.947Z"
   },
   {
    "duration": 6,
    "start_time": "2023-03-16T14:14:00.748Z"
   },
   {
    "duration": 44,
    "start_time": "2023-03-16T14:14:13.172Z"
   },
   {
    "duration": 16,
    "start_time": "2023-03-16T14:15:48.899Z"
   },
   {
    "duration": 13,
    "start_time": "2023-03-16T14:15:56.719Z"
   },
   {
    "duration": 13,
    "start_time": "2023-03-16T14:16:06.988Z"
   },
   {
    "duration": 7,
    "start_time": "2023-03-16T14:16:11.076Z"
   },
   {
    "duration": 4,
    "start_time": "2023-03-16T14:16:53.870Z"
   },
   {
    "duration": 8,
    "start_time": "2023-03-16T14:17:34.826Z"
   },
   {
    "duration": 3,
    "start_time": "2023-03-16T14:17:37.960Z"
   },
   {
    "duration": 8,
    "start_time": "2023-03-16T14:17:38.855Z"
   },
   {
    "duration": 4,
    "start_time": "2023-03-16T14:17:46.367Z"
   },
   {
    "duration": 6,
    "start_time": "2023-03-16T14:17:48.106Z"
   },
   {
    "duration": 3,
    "start_time": "2023-03-16T14:18:32.984Z"
   },
   {
    "duration": 28,
    "start_time": "2023-03-16T14:18:40.941Z"
   },
   {
    "duration": 605,
    "start_time": "2023-03-16T14:22:40.650Z"
   },
   {
    "duration": 395,
    "start_time": "2023-03-16T14:22:43.558Z"
   },
   {
    "duration": 7,
    "start_time": "2023-03-16T14:22:51.254Z"
   },
   {
    "duration": 6,
    "start_time": "2023-03-16T14:23:02.908Z"
   },
   {
    "duration": 7,
    "start_time": "2023-03-16T14:23:25.006Z"
   },
   {
    "duration": 32,
    "start_time": "2023-03-16T14:23:33.028Z"
   },
   {
    "duration": 22,
    "start_time": "2023-03-16T14:28:13.465Z"
   },
   {
    "duration": 22,
    "start_time": "2023-03-16T14:28:38.511Z"
   },
   {
    "duration": 24,
    "start_time": "2023-03-16T14:29:12.680Z"
   },
   {
    "duration": 492,
    "start_time": "2023-03-16T14:29:40.435Z"
   },
   {
    "duration": 173,
    "start_time": "2023-03-16T14:30:18.220Z"
   },
   {
    "duration": 420,
    "start_time": "2023-03-16T14:30:34.405Z"
   },
   {
    "duration": 23,
    "start_time": "2023-03-16T14:30:58.084Z"
   },
   {
    "duration": 33,
    "start_time": "2023-03-16T14:32:09.035Z"
   },
   {
    "duration": 42,
    "start_time": "2023-03-16T14:32:24.551Z"
   },
   {
    "duration": 12,
    "start_time": "2023-03-16T14:37:14.890Z"
   },
   {
    "duration": 15,
    "start_time": "2023-03-16T14:37:32.414Z"
   },
   {
    "duration": 13,
    "start_time": "2023-03-16T14:37:57.593Z"
   },
   {
    "duration": 41,
    "start_time": "2023-03-16T14:49:12.426Z"
   },
   {
    "duration": 41,
    "start_time": "2023-03-16T14:49:35.320Z"
   },
   {
    "duration": 14,
    "start_time": "2023-03-16T14:50:24.000Z"
   },
   {
    "duration": 36,
    "start_time": "2023-03-16T14:50:29.286Z"
   },
   {
    "duration": 11,
    "start_time": "2023-03-16T14:51:07.861Z"
   },
   {
    "duration": 75,
    "start_time": "2023-03-16T14:52:09.985Z"
   },
   {
    "duration": 72,
    "start_time": "2023-03-16T14:52:35.491Z"
   },
   {
    "duration": 5,
    "start_time": "2023-03-16T14:53:45.124Z"
   },
   {
    "duration": 7,
    "start_time": "2023-03-16T14:53:56.317Z"
   },
   {
    "duration": 37,
    "start_time": "2023-03-16T14:54:13.643Z"
   },
   {
    "duration": 7,
    "start_time": "2023-03-16T14:54:50.141Z"
   },
   {
    "duration": 75,
    "start_time": "2023-03-17T08:10:08.094Z"
   },
   {
    "duration": 45,
    "start_time": "2023-03-17T08:10:15.777Z"
   },
   {
    "duration": 1658,
    "start_time": "2023-03-17T08:10:23.787Z"
   },
   {
    "duration": 63,
    "start_time": "2023-03-17T08:10:26.203Z"
   },
   {
    "duration": 15,
    "start_time": "2023-03-17T08:10:28.443Z"
   },
   {
    "duration": 10,
    "start_time": "2023-03-17T08:10:30.099Z"
   },
   {
    "duration": 18,
    "start_time": "2023-03-17T08:10:31.326Z"
   },
   {
    "duration": 3,
    "start_time": "2023-03-17T08:10:32.492Z"
   },
   {
    "duration": 3,
    "start_time": "2023-03-17T08:10:32.913Z"
   },
   {
    "duration": 29,
    "start_time": "2023-03-17T08:10:33.492Z"
   },
   {
    "duration": 476,
    "start_time": "2023-03-17T08:10:34.868Z"
   },
   {
    "duration": 460,
    "start_time": "2023-03-17T08:10:36.150Z"
   },
   {
    "duration": 8,
    "start_time": "2023-03-17T08:10:37.859Z"
   },
   {
    "duration": 69,
    "start_time": "2023-03-17T08:10:40.010Z"
   },
   {
    "duration": 34,
    "start_time": "2023-03-17T08:11:05.095Z"
   },
   {
    "duration": 349,
    "start_time": "2023-03-17T08:11:13.130Z"
   },
   {
    "duration": 22,
    "start_time": "2023-03-17T08:11:15.171Z"
   },
   {
    "duration": 35,
    "start_time": "2023-03-17T08:11:18.143Z"
   },
   {
    "duration": 6,
    "start_time": "2023-03-17T08:11:19.153Z"
   },
   {
    "duration": 6,
    "start_time": "2023-03-17T08:11:21.192Z"
   },
   {
    "duration": 5,
    "start_time": "2023-03-17T08:11:24.609Z"
   },
   {
    "duration": 23,
    "start_time": "2023-03-17T08:11:51.407Z"
   },
   {
    "duration": 20,
    "start_time": "2023-03-17T08:12:04.917Z"
   },
   {
    "duration": 16,
    "start_time": "2023-03-17T08:15:36.347Z"
   },
   {
    "duration": 13,
    "start_time": "2023-03-17T08:15:51.065Z"
   },
   {
    "duration": 20,
    "start_time": "2023-03-17T08:16:04.206Z"
   },
   {
    "duration": 19,
    "start_time": "2023-03-17T08:16:38.578Z"
   },
   {
    "duration": 505,
    "start_time": "2023-03-17T08:18:34.129Z"
   },
   {
    "duration": 21,
    "start_time": "2023-03-17T08:19:20.005Z"
   },
   {
    "duration": 457,
    "start_time": "2023-03-17T08:26:54.466Z"
   },
   {
    "duration": 351,
    "start_time": "2023-03-17T08:31:54.243Z"
   },
   {
    "duration": 19,
    "start_time": "2023-03-17T08:32:07.592Z"
   },
   {
    "duration": 11,
    "start_time": "2023-03-17T08:32:12.638Z"
   },
   {
    "duration": 20,
    "start_time": "2023-03-17T08:32:22.348Z"
   },
   {
    "duration": 16,
    "start_time": "2023-03-17T08:33:06.503Z"
   },
   {
    "duration": 21,
    "start_time": "2023-03-17T08:33:51.168Z"
   },
   {
    "duration": 20,
    "start_time": "2023-03-17T08:33:56.800Z"
   },
   {
    "duration": 18,
    "start_time": "2023-03-17T08:33:59.779Z"
   },
   {
    "duration": 39,
    "start_time": "2023-03-17T08:34:38.899Z"
   },
   {
    "duration": 52,
    "start_time": "2023-03-17T08:34:51.358Z"
   },
   {
    "duration": 21,
    "start_time": "2023-03-17T08:38:17.160Z"
   },
   {
    "duration": 18,
    "start_time": "2023-03-17T08:38:35.381Z"
   },
   {
    "duration": 16,
    "start_time": "2023-03-17T08:38:52.547Z"
   },
   {
    "duration": 11,
    "start_time": "2023-03-17T08:39:08.702Z"
   },
   {
    "duration": 101,
    "start_time": "2023-03-17T08:42:35.195Z"
   },
   {
    "duration": 8,
    "start_time": "2023-03-17T08:43:43.494Z"
   },
   {
    "duration": 103,
    "start_time": "2023-03-17T08:43:45.856Z"
   },
   {
    "duration": 737,
    "start_time": "2023-03-17T08:44:35.598Z"
   },
   {
    "duration": 102,
    "start_time": "2023-03-17T08:45:22.254Z"
   },
   {
    "duration": 10,
    "start_time": "2023-03-17T08:46:14.911Z"
   },
   {
    "duration": 10,
    "start_time": "2023-03-17T08:46:27.022Z"
   },
   {
    "duration": 9,
    "start_time": "2023-03-17T08:47:58.739Z"
   },
   {
    "duration": 227,
    "start_time": "2023-03-17T08:50:10.408Z"
   },
   {
    "duration": 102,
    "start_time": "2023-03-17T08:51:02.990Z"
   },
   {
    "duration": 106,
    "start_time": "2023-03-17T08:51:39.391Z"
   },
   {
    "duration": 92,
    "start_time": "2023-03-17T08:51:47.324Z"
   },
   {
    "duration": 9,
    "start_time": "2023-03-17T08:54:16.818Z"
   },
   {
    "duration": 24,
    "start_time": "2023-03-17T08:55:11.556Z"
   },
   {
    "duration": 109,
    "start_time": "2023-03-17T08:55:23.422Z"
   },
   {
    "duration": 180,
    "start_time": "2023-03-17T08:55:30.619Z"
   },
   {
    "duration": 13,
    "start_time": "2023-03-17T09:00:35.588Z"
   },
   {
    "duration": 12,
    "start_time": "2023-03-17T09:00:42.388Z"
   },
   {
    "duration": 12,
    "start_time": "2023-03-17T09:00:43.050Z"
   },
   {
    "duration": 434,
    "start_time": "2023-03-17T09:02:51.448Z"
   },
   {
    "duration": 25,
    "start_time": "2023-03-17T09:03:45.825Z"
   },
   {
    "duration": 16,
    "start_time": "2023-03-17T09:03:57.714Z"
   },
   {
    "duration": 19,
    "start_time": "2023-03-17T09:04:04.394Z"
   },
   {
    "duration": 13,
    "start_time": "2023-03-17T10:01:13.757Z"
   },
   {
    "duration": 8,
    "start_time": "2023-03-17T10:01:40.176Z"
   },
   {
    "duration": 30,
    "start_time": "2023-03-17T10:01:43.415Z"
   },
   {
    "duration": 27,
    "start_time": "2023-03-17T10:02:44.268Z"
   },
   {
    "duration": 3,
    "start_time": "2023-03-17T10:03:44.475Z"
   },
   {
    "duration": 29,
    "start_time": "2023-03-17T10:03:51.237Z"
   },
   {
    "duration": 34,
    "start_time": "2023-03-17T10:04:16.035Z"
   },
   {
    "duration": 25,
    "start_time": "2023-03-17T10:04:29.646Z"
   },
   {
    "duration": 4,
    "start_time": "2023-03-17T10:05:02.081Z"
   },
   {
    "duration": 6,
    "start_time": "2023-03-17T10:05:18.427Z"
   },
   {
    "duration": 7,
    "start_time": "2023-03-17T10:05:22.098Z"
   },
   {
    "duration": 8,
    "start_time": "2023-03-17T10:06:08.047Z"
   },
   {
    "duration": 14,
    "start_time": "2023-03-17T10:06:31.233Z"
   },
   {
    "duration": 1355,
    "start_time": "2023-03-17T10:09:22.126Z"
   },
   {
    "duration": 53,
    "start_time": "2023-03-17T10:09:23.483Z"
   },
   {
    "duration": 14,
    "start_time": "2023-03-17T10:09:23.537Z"
   },
   {
    "duration": 12,
    "start_time": "2023-03-17T10:09:23.553Z"
   },
   {
    "duration": 42,
    "start_time": "2023-03-17T10:09:23.567Z"
   },
   {
    "duration": 3,
    "start_time": "2023-03-17T10:09:23.611Z"
   },
   {
    "duration": 5,
    "start_time": "2023-03-17T10:09:23.616Z"
   },
   {
    "duration": 35,
    "start_time": "2023-03-17T10:09:23.623Z"
   },
   {
    "duration": 452,
    "start_time": "2023-03-17T10:09:23.660Z"
   },
   {
    "duration": 15,
    "start_time": "2023-03-17T10:09:24.115Z"
   },
   {
    "duration": 498,
    "start_time": "2023-03-17T10:09:24.132Z"
   },
   {
    "duration": 8,
    "start_time": "2023-03-17T10:09:24.632Z"
   },
   {
    "duration": 53,
    "start_time": "2023-03-17T10:09:24.642Z"
   },
   {
    "duration": 504,
    "start_time": "2023-03-17T10:09:24.697Z"
   },
   {
    "duration": 107,
    "start_time": "2023-03-17T10:09:25.202Z"
   },
   {
    "duration": 24,
    "start_time": "2023-03-17T10:09:25.311Z"
   },
   {
    "duration": 57,
    "start_time": "2023-03-17T10:09:25.337Z"
   },
   {
    "duration": 6,
    "start_time": "2023-03-17T10:09:25.396Z"
   },
   {
    "duration": 8,
    "start_time": "2023-03-17T10:09:25.404Z"
   },
   {
    "duration": 377,
    "start_time": "2023-03-17T10:09:25.414Z"
   },
   {
    "duration": 121,
    "start_time": "2023-03-17T10:09:25.793Z"
   },
   {
    "duration": 217,
    "start_time": "2023-03-17T10:09:25.916Z"
   },
   {
    "duration": 23,
    "start_time": "2023-03-17T10:09:26.135Z"
   },
   {
    "duration": 38,
    "start_time": "2023-03-17T10:09:26.160Z"
   },
   {
    "duration": 70,
    "start_time": "2023-03-17T10:09:26.201Z"
   },
   {
    "duration": 17,
    "start_time": "2023-03-17T10:09:26.290Z"
   },
   {
    "duration": 40,
    "start_time": "2023-03-17T10:09:26.309Z"
   },
   {
    "duration": 16,
    "start_time": "2023-03-17T10:09:26.353Z"
   },
   {
    "duration": 618,
    "start_time": "2023-03-17T10:09:26.372Z"
   },
   {
    "duration": 19,
    "start_time": "2023-03-17T10:09:26.991Z"
   },
   {
    "duration": 27,
    "start_time": "2023-03-17T10:09:27.012Z"
   },
   {
    "duration": 54,
    "start_time": "2023-03-17T10:09:27.041Z"
   },
   {
    "duration": 14,
    "start_time": "2023-03-17T10:09:27.097Z"
   },
   {
    "duration": 5,
    "start_time": "2023-03-17T10:09:27.112Z"
   },
   {
    "duration": 11,
    "start_time": "2023-03-17T10:09:27.119Z"
   },
   {
    "duration": 9,
    "start_time": "2023-03-17T10:09:27.133Z"
   },
   {
    "duration": 47,
    "start_time": "2023-03-17T10:09:27.144Z"
   },
   {
    "duration": 3,
    "start_time": "2023-03-17T10:09:27.193Z"
   },
   {
    "duration": 20,
    "start_time": "2023-03-17T10:09:27.199Z"
   },
   {
    "duration": 75,
    "start_time": "2023-03-17T10:09:27.221Z"
   },
   {
    "duration": 33,
    "start_time": "2023-03-17T10:10:34.529Z"
   },
   {
    "duration": 113,
    "start_time": "2023-03-17T10:13:17.479Z"
   },
   {
    "duration": 8,
    "start_time": "2023-03-17T10:13:37.954Z"
   },
   {
    "duration": 26,
    "start_time": "2023-03-17T10:13:41.735Z"
   },
   {
    "duration": 12,
    "start_time": "2023-03-17T10:14:42.127Z"
   },
   {
    "duration": 16,
    "start_time": "2023-03-17T10:15:41.366Z"
   },
   {
    "duration": 13,
    "start_time": "2023-03-17T10:16:28.741Z"
   },
   {
    "duration": 14,
    "start_time": "2023-03-17T10:16:36.599Z"
   },
   {
    "duration": 11,
    "start_time": "2023-03-17T10:16:43.459Z"
   },
   {
    "duration": 12,
    "start_time": "2023-03-17T10:17:47.726Z"
   },
   {
    "duration": 14,
    "start_time": "2023-03-17T10:17:59.415Z"
   },
   {
    "duration": 19,
    "start_time": "2023-03-17T10:19:29.955Z"
   },
   {
    "duration": 19,
    "start_time": "2023-03-17T10:19:39.356Z"
   },
   {
    "duration": 12,
    "start_time": "2023-03-17T10:21:50.968Z"
   },
   {
    "duration": 23,
    "start_time": "2023-03-17T10:22:32.905Z"
   },
   {
    "duration": 23,
    "start_time": "2023-03-17T10:23:04.902Z"
   },
   {
    "duration": 27,
    "start_time": "2023-03-17T10:23:21.309Z"
   },
   {
    "duration": 9,
    "start_time": "2023-03-17T10:26:51.821Z"
   },
   {
    "duration": 11,
    "start_time": "2023-03-17T10:28:55.164Z"
   },
   {
    "duration": 12,
    "start_time": "2023-03-17T10:30:10.515Z"
   },
   {
    "duration": 15,
    "start_time": "2023-03-17T10:31:58.505Z"
   },
   {
    "duration": 1375,
    "start_time": "2023-03-17T11:06:01.879Z"
   },
   {
    "duration": 55,
    "start_time": "2023-03-17T11:06:03.256Z"
   },
   {
    "duration": 14,
    "start_time": "2023-03-17T11:06:03.314Z"
   },
   {
    "duration": 17,
    "start_time": "2023-03-17T11:06:03.330Z"
   },
   {
    "duration": 24,
    "start_time": "2023-03-17T11:06:03.348Z"
   },
   {
    "duration": 17,
    "start_time": "2023-03-17T11:06:03.373Z"
   },
   {
    "duration": 6,
    "start_time": "2023-03-17T11:06:03.392Z"
   },
   {
    "duration": 35,
    "start_time": "2023-03-17T11:06:03.399Z"
   },
   {
    "duration": 486,
    "start_time": "2023-03-17T11:06:03.436Z"
   },
   {
    "duration": 12,
    "start_time": "2023-03-17T11:06:03.926Z"
   },
   {
    "duration": 466,
    "start_time": "2023-03-17T11:06:03.940Z"
   },
   {
    "duration": 7,
    "start_time": "2023-03-17T11:06:04.408Z"
   },
   {
    "duration": 59,
    "start_time": "2023-03-17T11:06:04.418Z"
   },
   {
    "duration": 432,
    "start_time": "2023-03-17T11:06:04.479Z"
   },
   {
    "duration": 117,
    "start_time": "2023-03-17T11:06:04.912Z"
   },
   {
    "duration": 26,
    "start_time": "2023-03-17T11:06:05.031Z"
   },
   {
    "duration": 67,
    "start_time": "2023-03-17T11:06:05.059Z"
   },
   {
    "duration": 9,
    "start_time": "2023-03-17T11:06:05.128Z"
   },
   {
    "duration": 6,
    "start_time": "2023-03-17T11:06:05.139Z"
   },
   {
    "duration": 403,
    "start_time": "2023-03-17T11:06:05.147Z"
   },
   {
    "duration": 111,
    "start_time": "2023-03-17T11:06:05.551Z"
   },
   {
    "duration": 215,
    "start_time": "2023-03-17T11:06:05.664Z"
   },
   {
    "duration": 26,
    "start_time": "2023-03-17T11:06:05.881Z"
   },
   {
    "duration": 32,
    "start_time": "2023-03-17T11:06:05.909Z"
   },
   {
    "duration": 59,
    "start_time": "2023-03-17T11:06:05.943Z"
   },
   {
    "duration": 12,
    "start_time": "2023-03-17T11:06:06.003Z"
   },
   {
    "duration": 22,
    "start_time": "2023-03-17T11:06:06.017Z"
   },
   {
    "duration": 18,
    "start_time": "2023-03-17T11:06:06.042Z"
   },
   {
    "duration": 589,
    "start_time": "2023-03-17T11:06:06.062Z"
   },
   {
    "duration": 21,
    "start_time": "2023-03-17T11:06:06.653Z"
   },
   {
    "duration": 18,
    "start_time": "2023-03-17T11:06:06.689Z"
   },
   {
    "duration": 34,
    "start_time": "2023-03-17T11:06:06.709Z"
   },
   {
    "duration": 14,
    "start_time": "2023-03-17T11:06:06.745Z"
   },
   {
    "duration": 20,
    "start_time": "2023-03-17T11:06:06.760Z"
   },
   {
    "duration": 14,
    "start_time": "2023-03-17T11:06:06.781Z"
   },
   {
    "duration": 14,
    "start_time": "2023-03-17T11:06:06.796Z"
   },
   {
    "duration": 13,
    "start_time": "2023-03-17T11:06:06.812Z"
   },
   {
    "duration": 74,
    "start_time": "2023-03-28T14:52:09.959Z"
   },
   {
    "duration": 1707,
    "start_time": "2023-03-28T14:52:15.103Z"
   },
   {
    "duration": 1207,
    "start_time": "2023-03-28T14:52:24.774Z"
   },
   {
    "duration": 51,
    "start_time": "2023-03-28T14:52:25.983Z"
   },
   {
    "duration": 13,
    "start_time": "2023-03-28T14:52:26.035Z"
   },
   {
    "duration": 26,
    "start_time": "2023-03-28T14:52:26.050Z"
   },
   {
    "duration": 32,
    "start_time": "2023-03-28T14:52:26.077Z"
   },
   {
    "duration": 24,
    "start_time": "2023-03-28T14:52:26.111Z"
   },
   {
    "duration": 11,
    "start_time": "2023-03-28T14:52:26.136Z"
   },
   {
    "duration": 53,
    "start_time": "2023-03-28T14:52:26.149Z"
   },
   {
    "duration": 437,
    "start_time": "2023-03-28T14:52:26.204Z"
   },
   {
    "duration": 16,
    "start_time": "2023-03-28T14:52:26.643Z"
   },
   {
    "duration": 473,
    "start_time": "2023-03-28T14:52:26.661Z"
   },
   {
    "duration": 9,
    "start_time": "2023-03-28T14:52:27.136Z"
   },
   {
    "duration": 37,
    "start_time": "2023-03-28T14:52:27.146Z"
   },
   {
    "duration": 438,
    "start_time": "2023-03-28T14:52:27.186Z"
   },
   {
    "duration": 113,
    "start_time": "2023-03-28T14:52:27.631Z"
   },
   {
    "duration": 23,
    "start_time": "2023-03-28T14:52:27.747Z"
   },
   {
    "duration": 65,
    "start_time": "2023-03-28T14:52:27.772Z"
   },
   {
    "duration": 7,
    "start_time": "2023-03-28T14:52:27.838Z"
   },
   {
    "duration": 16,
    "start_time": "2023-03-28T14:52:27.847Z"
   },
   {
    "duration": 378,
    "start_time": "2023-03-28T14:52:27.865Z"
   },
   {
    "duration": 116,
    "start_time": "2023-03-28T14:52:28.245Z"
   },
   {
    "duration": 206,
    "start_time": "2023-03-28T14:52:28.363Z"
   },
   {
    "duration": 19,
    "start_time": "2023-03-28T14:52:28.571Z"
   },
   {
    "duration": 41,
    "start_time": "2023-03-28T14:52:28.592Z"
   },
   {
    "duration": 51,
    "start_time": "2023-03-28T14:52:28.635Z"
   },
   {
    "duration": 12,
    "start_time": "2023-03-28T14:52:28.688Z"
   },
   {
    "duration": 58,
    "start_time": "2023-03-28T14:52:28.702Z"
   },
   {
    "duration": 11,
    "start_time": "2023-03-28T14:52:28.761Z"
   },
   {
    "duration": 560,
    "start_time": "2023-03-28T14:52:28.774Z"
   },
   {
    "duration": 24,
    "start_time": "2023-03-28T14:52:29.336Z"
   },
   {
    "duration": 19,
    "start_time": "2023-03-28T14:52:29.362Z"
   },
   {
    "duration": 60,
    "start_time": "2023-03-28T14:52:29.383Z"
   },
   {
    "duration": 36,
    "start_time": "2023-03-28T14:52:29.445Z"
   },
   {
    "duration": 31,
    "start_time": "2023-03-28T14:52:29.483Z"
   },
   {
    "duration": 51,
    "start_time": "2023-03-28T14:52:29.515Z"
   },
   {
    "duration": 33,
    "start_time": "2023-03-28T14:52:29.568Z"
   },
   {
    "duration": 18,
    "start_time": "2023-03-28T14:52:29.603Z"
   }
  ],
  "kernelspec": {
   "display_name": "Python 3 (ipykernel)",
   "language": "python",
   "name": "python3"
  },
  "language_info": {
   "codemirror_mode": {
    "name": "ipython",
    "version": 3
   },
   "file_extension": ".py",
   "mimetype": "text/x-python",
   "name": "python",
   "nbconvert_exporter": "python",
   "pygments_lexer": "ipython3",
   "version": "3.9.5"
  },
  "toc": {
   "base_numbering": 1,
   "nav_menu": {},
   "number_sections": true,
   "sideBar": true,
   "skip_h1_title": true,
   "title_cell": "Table of Contents",
   "title_sidebar": "Contents",
   "toc_cell": false,
   "toc_position": {},
   "toc_section_display": true,
   "toc_window_display": false
  }
 },
 "nbformat": 4,
 "nbformat_minor": 5
}
