{
 "cells": [
  {
   "cell_type": "markdown",
   "metadata": {
    "id": "E0vqbgi9ay0H"
   },
   "source": [
    "# Яндекс.Музыка"
   ]
  },
  {
   "cell_type": "markdown",
   "metadata": {
    "id": "VUC88oWjTJw2"
   },
   "source": [
    "Сравнение Москвы и Петербурга окружено мифами. Например:\n",
    " * Москва — мегаполис, подчинённый жёсткому ритму рабочей недели;\n",
    " * Петербург — культурная столица, со своими вкусами.\n",
    "\n",
    "На данных Яндекс.Музыки вы сравните поведение пользователей двух столиц.\n",
    "\n",
    "**Цель исследования** — проверьте три гипотезы:\n",
    "1. Активность пользователей зависит от дня недели. Причём в Москве и Петербурге это проявляется по-разному.\n",
    "2. В понедельник утром в Москве преобладают одни жанры, а в Петербурге — другие. Так же и вечером пятницы преобладают разные жанры — в зависимости от города. \n",
    "3. Москва и Петербург предпочитают разные жанры музыки. В Москве чаще слушают поп-музыку, в Петербурге — русский рэп.\n",
    "\n",
    "**Ход исследования**\n",
    "\n",
    "Данные о поведении пользователей вы получите из файла `yandex_music_project.csv`. О качестве данных ничего не известно. Поэтому перед проверкой гипотез понадобится обзор данных. \n",
    "\n",
    "Вы проверите данные на ошибки и оцените их влияние на исследование. Затем, на этапе предобработки вы поищете возможность исправить самые критичные ошибки данных.\n",
    " \n",
    "Таким образом, исследование пройдёт в три этапа:\n",
    " 1. Обзор данных.\n",
    " 2. Предобработка данных.\n",
    " 3. Проверка гипотез.\n",
    "\n"
   ]
  },
  {
   "cell_type": "markdown",
   "metadata": {
    "id": "Ml1hmfXC_Zcs"
   },
   "source": [
    "## Обзор данных\n",
    "\n",
    "Составьте первое представление о данных Яндекс.Музыки.\n",
    "\n",
    "\n"
   ]
  },
  {
   "cell_type": "markdown",
   "metadata": {
    "id": "57eAOGIz_Zcs"
   },
   "source": [
    "Основной инструмент аналитика — `pandas`. Импортируйте эту библиотеку."
   ]
  },
  {
   "cell_type": "code",
   "execution_count": 1,
   "metadata": {
    "id": "AXN7PHPN_Zcs"
   },
   "outputs": [],
   "source": [
    "# импорт библиотеки pandas\n",
    "import pandas as pd"
   ]
  },
  {
   "cell_type": "markdown",
   "metadata": {
    "id": "SG23P8tt_Zcs"
   },
   "source": [
    "Прочитайте файл `yandex_music_project.csv` из папки `/datasets` и сохраните его в переменной `df`:"
   ]
  },
  {
   "cell_type": "code",
   "execution_count": 2,
   "metadata": {
    "id": "fFVu7vqh_Zct",
    "scrolled": true
   },
   "outputs": [],
   "source": [
    "# чтение файла с данными и сохранение в df\n",
    "df = pd.read_csv('/datasets/yandex_music_project.csv')"
   ]
  },
  {
   "cell_type": "markdown",
   "metadata": {
    "id": "rDoOMd3uTqnZ"
   },
   "source": [
    "Выведите на экран первые десять строк таблицы:"
   ]
  },
  {
   "cell_type": "code",
   "execution_count": 3,
   "metadata": {
    "id": "oWTVX3gW_Zct"
   },
   "outputs": [
    {
     "data": {
      "text/html": [
       "<div>\n",
       "<style scoped>\n",
       "    .dataframe tbody tr th:only-of-type {\n",
       "        vertical-align: middle;\n",
       "    }\n",
       "\n",
       "    .dataframe tbody tr th {\n",
       "        vertical-align: top;\n",
       "    }\n",
       "\n",
       "    .dataframe thead th {\n",
       "        text-align: right;\n",
       "    }\n",
       "</style>\n",
       "<table border=\"1\" class=\"dataframe\">\n",
       "  <thead>\n",
       "    <tr style=\"text-align: right;\">\n",
       "      <th></th>\n",
       "      <th>userID</th>\n",
       "      <th>Track</th>\n",
       "      <th>artist</th>\n",
       "      <th>genre</th>\n",
       "      <th>City</th>\n",
       "      <th>time</th>\n",
       "      <th>Day</th>\n",
       "    </tr>\n",
       "  </thead>\n",
       "  <tbody>\n",
       "    <tr>\n",
       "      <th>0</th>\n",
       "      <td>FFB692EC</td>\n",
       "      <td>Kamigata To Boots</td>\n",
       "      <td>The Mass Missile</td>\n",
       "      <td>rock</td>\n",
       "      <td>Saint-Petersburg</td>\n",
       "      <td>20:28:33</td>\n",
       "      <td>Wednesday</td>\n",
       "    </tr>\n",
       "    <tr>\n",
       "      <th>1</th>\n",
       "      <td>55204538</td>\n",
       "      <td>Delayed Because of Accident</td>\n",
       "      <td>Andreas Rönnberg</td>\n",
       "      <td>rock</td>\n",
       "      <td>Moscow</td>\n",
       "      <td>14:07:09</td>\n",
       "      <td>Friday</td>\n",
       "    </tr>\n",
       "    <tr>\n",
       "      <th>2</th>\n",
       "      <td>20EC38</td>\n",
       "      <td>Funiculì funiculà</td>\n",
       "      <td>Mario Lanza</td>\n",
       "      <td>pop</td>\n",
       "      <td>Saint-Petersburg</td>\n",
       "      <td>20:58:07</td>\n",
       "      <td>Wednesday</td>\n",
       "    </tr>\n",
       "    <tr>\n",
       "      <th>3</th>\n",
       "      <td>A3DD03C9</td>\n",
       "      <td>Dragons in the Sunset</td>\n",
       "      <td>Fire + Ice</td>\n",
       "      <td>folk</td>\n",
       "      <td>Saint-Petersburg</td>\n",
       "      <td>08:37:09</td>\n",
       "      <td>Monday</td>\n",
       "    </tr>\n",
       "    <tr>\n",
       "      <th>4</th>\n",
       "      <td>E2DC1FAE</td>\n",
       "      <td>Soul People</td>\n",
       "      <td>Space Echo</td>\n",
       "      <td>dance</td>\n",
       "      <td>Moscow</td>\n",
       "      <td>08:34:34</td>\n",
       "      <td>Monday</td>\n",
       "    </tr>\n",
       "    <tr>\n",
       "      <th>5</th>\n",
       "      <td>842029A1</td>\n",
       "      <td>Преданная</td>\n",
       "      <td>IMPERVTOR</td>\n",
       "      <td>rusrap</td>\n",
       "      <td>Saint-Petersburg</td>\n",
       "      <td>13:09:41</td>\n",
       "      <td>Friday</td>\n",
       "    </tr>\n",
       "    <tr>\n",
       "      <th>6</th>\n",
       "      <td>4CB90AA5</td>\n",
       "      <td>True</td>\n",
       "      <td>Roman Messer</td>\n",
       "      <td>dance</td>\n",
       "      <td>Moscow</td>\n",
       "      <td>13:00:07</td>\n",
       "      <td>Wednesday</td>\n",
       "    </tr>\n",
       "    <tr>\n",
       "      <th>7</th>\n",
       "      <td>F03E1C1F</td>\n",
       "      <td>Feeling This Way</td>\n",
       "      <td>Polina Griffith</td>\n",
       "      <td>dance</td>\n",
       "      <td>Moscow</td>\n",
       "      <td>20:47:49</td>\n",
       "      <td>Wednesday</td>\n",
       "    </tr>\n",
       "    <tr>\n",
       "      <th>8</th>\n",
       "      <td>8FA1D3BE</td>\n",
       "      <td>И вновь продолжается бой</td>\n",
       "      <td>NaN</td>\n",
       "      <td>ruspop</td>\n",
       "      <td>Moscow</td>\n",
       "      <td>09:17:40</td>\n",
       "      <td>Friday</td>\n",
       "    </tr>\n",
       "    <tr>\n",
       "      <th>9</th>\n",
       "      <td>E772D5C0</td>\n",
       "      <td>Pessimist</td>\n",
       "      <td>NaN</td>\n",
       "      <td>dance</td>\n",
       "      <td>Saint-Petersburg</td>\n",
       "      <td>21:20:49</td>\n",
       "      <td>Wednesday</td>\n",
       "    </tr>\n",
       "  </tbody>\n",
       "</table>\n",
       "</div>"
      ],
      "text/plain": [
       "     userID                        Track            artist   genre  \\\n",
       "0  FFB692EC            Kamigata To Boots  The Mass Missile    rock   \n",
       "1  55204538  Delayed Because of Accident  Andreas Rönnberg    rock   \n",
       "2    20EC38            Funiculì funiculà       Mario Lanza     pop   \n",
       "3  A3DD03C9        Dragons in the Sunset        Fire + Ice    folk   \n",
       "4  E2DC1FAE                  Soul People        Space Echo   dance   \n",
       "5  842029A1                    Преданная         IMPERVTOR  rusrap   \n",
       "6  4CB90AA5                         True      Roman Messer   dance   \n",
       "7  F03E1C1F             Feeling This Way   Polina Griffith   dance   \n",
       "8  8FA1D3BE     И вновь продолжается бой               NaN  ruspop   \n",
       "9  E772D5C0                    Pessimist               NaN   dance   \n",
       "\n",
       "             City        time        Day  \n",
       "0  Saint-Petersburg  20:28:33  Wednesday  \n",
       "1            Moscow  14:07:09     Friday  \n",
       "2  Saint-Petersburg  20:58:07  Wednesday  \n",
       "3  Saint-Petersburg  08:37:09     Monday  \n",
       "4            Moscow  08:34:34     Monday  \n",
       "5  Saint-Petersburg  13:09:41     Friday  \n",
       "6            Moscow  13:00:07  Wednesday  \n",
       "7            Moscow  20:47:49  Wednesday  \n",
       "8            Moscow  09:17:40     Friday  \n",
       "9  Saint-Petersburg  21:20:49  Wednesday  "
      ]
     },
     "metadata": {},
     "output_type": "display_data"
    }
   ],
   "source": [
    "# получение первых 10 строк таблицы df\n",
    "display(df.head(10))"
   ]
  },
  {
   "cell_type": "markdown",
   "metadata": {
    "id": "EO73Kwic_Zct"
   },
   "source": [
    "Одной командой получить общую информацию о таблице:"
   ]
  },
  {
   "cell_type": "code",
   "execution_count": 4,
   "metadata": {
    "id": "DSf2kIb-_Zct"
   },
   "outputs": [
    {
     "name": "stdout",
     "output_type": "stream",
     "text": [
      "<class 'pandas.core.frame.DataFrame'>\n",
      "RangeIndex: 65079 entries, 0 to 65078\n",
      "Data columns (total 7 columns):\n",
      " #   Column    Non-Null Count  Dtype \n",
      "---  ------    --------------  ----- \n",
      " 0     userID  65079 non-null  object\n",
      " 1   Track     63848 non-null  object\n",
      " 2   artist    57876 non-null  object\n",
      " 3   genre     63881 non-null  object\n",
      " 4     City    65079 non-null  object\n",
      " 5   time      65079 non-null  object\n",
      " 6   Day       65079 non-null  object\n",
      "dtypes: object(7)\n",
      "memory usage: 3.5+ MB\n"
     ]
    }
   ],
   "source": [
    "# получение общей информации о данных в таблице df\n",
    "df.info()"
   ]
  },
  {
   "cell_type": "markdown",
   "metadata": {
    "id": "TaQ2Iwbr_Zct"
   },
   "source": [
    "Итак, в таблице семь столбцов. Тип данных во всех столбцах — `object`.\n",
    "\n",
    "Согласно документации к данным:\n",
    "* `userID` — идентификатор пользователя;\n",
    "* `Track` — название трека;  \n",
    "* `artist` — имя исполнителя;\n",
    "* `genre` — название жанра;\n",
    "* `City` — город пользователя;\n",
    "* `time` — время начала прослушивания;\n",
    "* `Day` — день недели.\n",
    "\n",
    "В названиях колонок видны три нарушения стиля:\n",
    "1. Строчные буквы сочетаются с прописными.\n",
    "2. Встречаются пробелы.\n",
    "3. Отсутствует змеиный регистр в user_id\n",
    "\n",
    "\n",
    "\n",
    "Количество значений в столбцах различается. Значит, в данных есть пропущенные значения.\n"
   ]
  },
  {
   "cell_type": "markdown",
   "metadata": {
    "id": "MCB6-dXG_Zct"
   },
   "source": [
    "**Выводы**\n",
    "\n",
    "В каждой строке таблицы — данные о прослушанном треке. Часть колонок описывает саму композицию: название, исполнителя и жанр. Остальные данные рассказывают о пользователе: из какого он города, когда он слушал музыку. \n",
    "\n",
    "Предварительно можно утверждать, что, данных достаточно для проверки гипотез. Но встречаются пропуски в данных, а в названиях колонок — расхождения с хорошим стилем.\n",
    "\n",
    "Чтобы двигаться дальше, нужно устранить проблемы в данных."
   ]
  },
  {
   "cell_type": "markdown",
   "metadata": {
    "id": "SjYF6Ub9_Zct"
   },
   "source": [
    "## Предобработка данных\n",
    "Исправьте стиль в заголовках столбцов, исключите пропуски. Затем проверьте данные на дубликаты."
   ]
  },
  {
   "cell_type": "markdown",
   "metadata": {
    "id": "dIaKXr29_Zct"
   },
   "source": [
    "### Стиль заголовков\n",
    "Выведите на экран названия столбцов:"
   ]
  },
  {
   "cell_type": "code",
   "execution_count": 5,
   "metadata": {
    "id": "oKOTdF_Q_Zct"
   },
   "outputs": [
    {
     "data": {
      "text/plain": [
       "Index(['  userID', 'Track', 'artist', 'genre', '  City  ', 'time', 'Day'], dtype='object')"
      ]
     },
     "execution_count": 5,
     "metadata": {},
     "output_type": "execute_result"
    }
   ],
   "source": [
    "# перечень названий столбцов таблицы df\n",
    "df.columns"
   ]
  },
  {
   "cell_type": "markdown",
   "metadata": {
    "id": "zj5534cv_Zct"
   },
   "source": [
    "Приведите названия в соответствие с хорошим стилем:\n",
    "* несколько слов в названии запишите в «змеином_регистре»,\n",
    "* все символы сделайте строчными,\n",
    "* устраните пробелы.\n",
    "\n",
    "Для этого переименуйте колонки так:\n",
    "* `'  userID'` → `'user_id'`;\n",
    "* `'Track'` → `'track'`;\n",
    "* `'  City  '` → `'city'`;\n",
    "* `'Day'` → `'day'`."
   ]
  },
  {
   "cell_type": "code",
   "execution_count": 6,
   "metadata": {
    "id": "ISlFqs5y_Zct"
   },
   "outputs": [],
   "source": [
    "# переименование столбцов\n",
    "df = df.rename(columns = {'  userID':'user_id', 'Track':'track', '  City  ':'city', 'Day':'day'})"
   ]
  },
  {
   "cell_type": "markdown",
   "metadata": {
    "id": "1dqbh00J_Zct"
   },
   "source": [
    "Проверьте результат. Для этого ещё раз выведите на экран названия столбцов:"
   ]
  },
  {
   "cell_type": "code",
   "execution_count": 7,
   "metadata": {
    "id": "d4NOAmTW_Zct"
   },
   "outputs": [
    {
     "data": {
      "text/plain": [
       "Index(['user_id', 'track', 'artist', 'genre', 'city', 'time', 'day'], dtype='object')"
      ]
     },
     "execution_count": 7,
     "metadata": {},
     "output_type": "execute_result"
    }
   ],
   "source": [
    "# проверка результатов - перечень названий столбцов\n",
    "df.columns"
   ]
  },
  {
   "cell_type": "markdown",
   "metadata": {
    "id": "5ISfbcfY_Zct"
   },
   "source": [
    "### Пропуски значений\n",
    "Сначала посчитайте, сколько в таблице пропущенных значений. Для этого достаточно двух методов `pandas`:"
   ]
  },
  {
   "cell_type": "code",
   "execution_count": 8,
   "metadata": {
    "id": "RskX29qr_Zct"
   },
   "outputs": [
    {
     "data": {
      "text/plain": [
       "user_id       0\n",
       "track      1231\n",
       "artist     7203\n",
       "genre      1198\n",
       "city          0\n",
       "time          0\n",
       "day           0\n",
       "dtype: int64"
      ]
     },
     "execution_count": 8,
     "metadata": {},
     "output_type": "execute_result"
    }
   ],
   "source": [
    "# подсчёт пропусков\n",
    "df.isna().sum()"
   ]
  },
  {
   "cell_type": "markdown",
   "metadata": {
    "id": "qubhgnlO_Zct"
   },
   "source": [
    "Не все пропущенные значения влияют на исследование. Так в `track` и `artist` пропуски не важны для вашей работы. Достаточно заменить их явными обозначениями.\n",
    "\n",
    "Но пропуски в `genre` могут помешать сравнению музыкальных вкусов в Москве и Санкт-Петербурге. На практике было бы правильно установить причину пропусков и восстановить данные. Такой возможности нет в учебном проекте. Придётся:\n",
    "* заполнить и эти пропуски явными обозначениями,\n",
    "* оценить, насколько они повредят расчётам. "
   ]
  },
  {
   "cell_type": "markdown",
   "metadata": {
    "id": "fSv2laPA_Zct"
   },
   "source": [
    "Замените пропущенные значения в столбцах `track`, `artist` и `genre` на строку `'unknown'`. Для этого создайте список `columns_to_replace`, переберите его элементы циклом `for` и для каждого столбца выполните замену пропущенных значений:"
   ]
  },
  {
   "cell_type": "code",
   "execution_count": 9,
   "metadata": {
    "id": "KplB5qWs_Zct"
   },
   "outputs": [],
   "source": [
    "# перебор названий столбцов в цикле и замена пропущенных значений на 'unknown'\n",
    "columns_to_replace = ['track', 'artist', 'genre']\n",
    "for colum in columns_to_replace:\n",
    "    df[colum] = df[colum].fillna('unknown')"
   ]
  },
  {
   "cell_type": "markdown",
   "metadata": {
    "id": "Ilsm-MZo_Zct"
   },
   "source": [
    "Убедитесь, что в таблице не осталось пропусков. Для этого ещё раз посчитайте пропущенные значения."
   ]
  },
  {
   "cell_type": "code",
   "execution_count": 10,
   "metadata": {
    "id": "Tq4nYRX4_Zct"
   },
   "outputs": [
    {
     "data": {
      "text/plain": [
       "user_id    0\n",
       "track      0\n",
       "artist     0\n",
       "genre      0\n",
       "city       0\n",
       "time       0\n",
       "day        0\n",
       "dtype: int64"
      ]
     },
     "execution_count": 10,
     "metadata": {},
     "output_type": "execute_result"
    }
   ],
   "source": [
    "# подсчёт пропусков\n",
    "df.isna().sum()"
   ]
  },
  {
   "cell_type": "markdown",
   "metadata": {
    "id": "BWKRtBJ3_Zct"
   },
   "source": [
    "### Дубликаты\n",
    "Посчитайте явные дубликаты в таблице одной командой:"
   ]
  },
  {
   "cell_type": "code",
   "execution_count": 11,
   "metadata": {
    "id": "36eES_S0_Zct"
   },
   "outputs": [
    {
     "data": {
      "text/plain": [
       "3826"
      ]
     },
     "execution_count": 11,
     "metadata": {},
     "output_type": "execute_result"
    }
   ],
   "source": [
    "# подсчёт явных дубликатов\n",
    "df.duplicated().sum()"
   ]
  },
  {
   "cell_type": "markdown",
   "metadata": {
    "id": "Ot25h6XR_Zct"
   },
   "source": [
    "Вызовите специальный метод `pandas`, чтобы удалить явные дубликаты:"
   ]
  },
  {
   "cell_type": "code",
   "execution_count": 12,
   "metadata": {
    "id": "exFHq6tt_Zct"
   },
   "outputs": [
    {
     "data": {
      "text/html": [
       "<div>\n",
       "<style scoped>\n",
       "    .dataframe tbody tr th:only-of-type {\n",
       "        vertical-align: middle;\n",
       "    }\n",
       "\n",
       "    .dataframe tbody tr th {\n",
       "        vertical-align: top;\n",
       "    }\n",
       "\n",
       "    .dataframe thead th {\n",
       "        text-align: right;\n",
       "    }\n",
       "</style>\n",
       "<table border=\"1\" class=\"dataframe\">\n",
       "  <thead>\n",
       "    <tr style=\"text-align: right;\">\n",
       "      <th></th>\n",
       "      <th>user_id</th>\n",
       "      <th>track</th>\n",
       "      <th>artist</th>\n",
       "      <th>genre</th>\n",
       "      <th>city</th>\n",
       "      <th>time</th>\n",
       "      <th>day</th>\n",
       "    </tr>\n",
       "  </thead>\n",
       "  <tbody>\n",
       "    <tr>\n",
       "      <th>0</th>\n",
       "      <td>FFB692EC</td>\n",
       "      <td>Kamigata To Boots</td>\n",
       "      <td>The Mass Missile</td>\n",
       "      <td>rock</td>\n",
       "      <td>Saint-Petersburg</td>\n",
       "      <td>20:28:33</td>\n",
       "      <td>Wednesday</td>\n",
       "    </tr>\n",
       "    <tr>\n",
       "      <th>1</th>\n",
       "      <td>55204538</td>\n",
       "      <td>Delayed Because of Accident</td>\n",
       "      <td>Andreas Rönnberg</td>\n",
       "      <td>rock</td>\n",
       "      <td>Moscow</td>\n",
       "      <td>14:07:09</td>\n",
       "      <td>Friday</td>\n",
       "    </tr>\n",
       "    <tr>\n",
       "      <th>2</th>\n",
       "      <td>20EC38</td>\n",
       "      <td>Funiculì funiculà</td>\n",
       "      <td>Mario Lanza</td>\n",
       "      <td>pop</td>\n",
       "      <td>Saint-Petersburg</td>\n",
       "      <td>20:58:07</td>\n",
       "      <td>Wednesday</td>\n",
       "    </tr>\n",
       "    <tr>\n",
       "      <th>3</th>\n",
       "      <td>A3DD03C9</td>\n",
       "      <td>Dragons in the Sunset</td>\n",
       "      <td>Fire + Ice</td>\n",
       "      <td>folk</td>\n",
       "      <td>Saint-Petersburg</td>\n",
       "      <td>08:37:09</td>\n",
       "      <td>Monday</td>\n",
       "    </tr>\n",
       "    <tr>\n",
       "      <th>4</th>\n",
       "      <td>E2DC1FAE</td>\n",
       "      <td>Soul People</td>\n",
       "      <td>Space Echo</td>\n",
       "      <td>dance</td>\n",
       "      <td>Moscow</td>\n",
       "      <td>08:34:34</td>\n",
       "      <td>Monday</td>\n",
       "    </tr>\n",
       "    <tr>\n",
       "      <th>...</th>\n",
       "      <td>...</td>\n",
       "      <td>...</td>\n",
       "      <td>...</td>\n",
       "      <td>...</td>\n",
       "      <td>...</td>\n",
       "      <td>...</td>\n",
       "      <td>...</td>\n",
       "    </tr>\n",
       "    <tr>\n",
       "      <th>61248</th>\n",
       "      <td>729CBB09</td>\n",
       "      <td>My Name</td>\n",
       "      <td>McLean</td>\n",
       "      <td>rnb</td>\n",
       "      <td>Moscow</td>\n",
       "      <td>13:32:28</td>\n",
       "      <td>Wednesday</td>\n",
       "    </tr>\n",
       "    <tr>\n",
       "      <th>61249</th>\n",
       "      <td>D08D4A55</td>\n",
       "      <td>Maybe One Day (feat. Black Spade)</td>\n",
       "      <td>Blu &amp; Exile</td>\n",
       "      <td>hip</td>\n",
       "      <td>Saint-Petersburg</td>\n",
       "      <td>10:00:00</td>\n",
       "      <td>Monday</td>\n",
       "    </tr>\n",
       "    <tr>\n",
       "      <th>61250</th>\n",
       "      <td>C5E3A0D5</td>\n",
       "      <td>Jalopiina</td>\n",
       "      <td>unknown</td>\n",
       "      <td>industrial</td>\n",
       "      <td>Moscow</td>\n",
       "      <td>20:09:26</td>\n",
       "      <td>Friday</td>\n",
       "    </tr>\n",
       "    <tr>\n",
       "      <th>61251</th>\n",
       "      <td>321D0506</td>\n",
       "      <td>Freight Train</td>\n",
       "      <td>Chas McDevitt</td>\n",
       "      <td>rock</td>\n",
       "      <td>Moscow</td>\n",
       "      <td>21:43:59</td>\n",
       "      <td>Friday</td>\n",
       "    </tr>\n",
       "    <tr>\n",
       "      <th>61252</th>\n",
       "      <td>3A64EF84</td>\n",
       "      <td>Tell Me Sweet Little Lies</td>\n",
       "      <td>Monica Lopez</td>\n",
       "      <td>country</td>\n",
       "      <td>Moscow</td>\n",
       "      <td>21:59:46</td>\n",
       "      <td>Friday</td>\n",
       "    </tr>\n",
       "  </tbody>\n",
       "</table>\n",
       "<p>61253 rows × 7 columns</p>\n",
       "</div>"
      ],
      "text/plain": [
       "        user_id                              track            artist  \\\n",
       "0      FFB692EC                  Kamigata To Boots  The Mass Missile   \n",
       "1      55204538        Delayed Because of Accident  Andreas Rönnberg   \n",
       "2        20EC38                  Funiculì funiculà       Mario Lanza   \n",
       "3      A3DD03C9              Dragons in the Sunset        Fire + Ice   \n",
       "4      E2DC1FAE                        Soul People        Space Echo   \n",
       "...         ...                                ...               ...   \n",
       "61248  729CBB09                            My Name            McLean   \n",
       "61249  D08D4A55  Maybe One Day (feat. Black Spade)       Blu & Exile   \n",
       "61250  C5E3A0D5                          Jalopiina           unknown   \n",
       "61251  321D0506                      Freight Train     Chas McDevitt   \n",
       "61252  3A64EF84          Tell Me Sweet Little Lies      Monica Lopez   \n",
       "\n",
       "            genre              city      time        day  \n",
       "0            rock  Saint-Petersburg  20:28:33  Wednesday  \n",
       "1            rock            Moscow  14:07:09     Friday  \n",
       "2             pop  Saint-Petersburg  20:58:07  Wednesday  \n",
       "3            folk  Saint-Petersburg  08:37:09     Monday  \n",
       "4           dance            Moscow  08:34:34     Monday  \n",
       "...           ...               ...       ...        ...  \n",
       "61248         rnb            Moscow  13:32:28  Wednesday  \n",
       "61249         hip  Saint-Petersburg  10:00:00     Monday  \n",
       "61250  industrial            Moscow  20:09:26     Friday  \n",
       "61251        rock            Moscow  21:43:59     Friday  \n",
       "61252     country            Moscow  21:59:46     Friday  \n",
       "\n",
       "[61253 rows x 7 columns]"
      ]
     },
     "metadata": {},
     "output_type": "display_data"
    }
   ],
   "source": [
    "# удаление явных дубликатов (с удалением старых индексов и формированием новых)\n",
    "df = df.drop_duplicates().reset_index(drop=True)\n",
    "display(df)"
   ]
  },
  {
   "cell_type": "markdown",
   "metadata": {
    "id": "Im2YwBEG_Zct"
   },
   "source": [
    "Ещё раз посчитайте явные дубликаты в таблице — убедитесь, что полностью от них избавились:"
   ]
  },
  {
   "cell_type": "code",
   "execution_count": 13,
   "metadata": {
    "id": "-8PuNWQ0_Zct"
   },
   "outputs": [
    {
     "data": {
      "text/plain": [
       "0"
      ]
     },
     "execution_count": 13,
     "metadata": {},
     "output_type": "execute_result"
    }
   ],
   "source": [
    "# проверка на отсутствие дубликатов\n",
    "df.duplicated().sum()"
   ]
  },
  {
   "cell_type": "markdown",
   "metadata": {
    "id": "QlFBsxAr_Zct"
   },
   "source": [
    "Теперь избавьтесь от неявных дубликатов в колонке `genre`. Например, название одного и того же жанра может быть записано немного по-разному. Такие ошибки тоже повлияют на результат исследования."
   ]
  },
  {
   "cell_type": "markdown",
   "metadata": {
    "id": "eSjWwsOh_Zct"
   },
   "source": [
    "Выведите на экран список уникальных названий жанров, отсортированный в алфавитном порядке. Для этого:\n",
    "* извлеките нужный столбец датафрейма, \n",
    "* примените к нему метод сортировки,\n",
    "* для отсортированного столбца вызовите метод, который вернёт уникальные значения из столбца."
   ]
  },
  {
   "cell_type": "code",
   "execution_count": 14,
   "metadata": {
    "id": "JIUcqzZN_Zct"
   },
   "outputs": [
    {
     "name": "stdout",
     "output_type": "stream",
     "text": [
      "['acid' 'acoustic' 'action' 'adult' 'africa' 'afrikaans' 'alternative'\n",
      " 'alternativepunk' 'ambient' 'americana' 'animated' 'anime' 'arabesk'\n",
      " 'arabic' 'arena' 'argentinetango' 'art' 'audiobook' 'author' 'avantgarde'\n",
      " 'axé' 'baile' 'balkan' 'beats' 'bigroom' 'black' 'bluegrass' 'blues'\n",
      " 'bollywood' 'bossa' 'brazilian' 'breakbeat' 'breaks' 'broadway'\n",
      " 'cantautori' 'cantopop' 'canzone' 'caribbean' 'caucasian' 'celtic'\n",
      " 'chamber' 'chanson' 'children' 'chill' 'chinese' 'choral' 'christian'\n",
      " 'christmas' 'classical' 'classicmetal' 'club' 'colombian' 'comedy'\n",
      " 'conjazz' 'contemporary' 'country' 'cuban' 'dance' 'dancehall' 'dancepop'\n",
      " 'dark' 'death' 'deep' 'deutschrock' 'deutschspr' 'dirty' 'disco' 'dnb'\n",
      " 'documentary' 'downbeat' 'downtempo' 'drum' 'dub' 'dubstep' 'eastern'\n",
      " 'easy' 'electronic' 'electropop' 'emo' 'entehno' 'epicmetal' 'estrada'\n",
      " 'ethnic' 'eurofolk' 'european' 'experimental' 'extrememetal' 'fado'\n",
      " 'fairytail' 'film' 'fitness' 'flamenco' 'folk' 'folklore' 'folkmetal'\n",
      " 'folkrock' 'folktronica' 'forró' 'frankreich' 'französisch' 'french'\n",
      " 'funk' 'future' 'gangsta' 'garage' 'german' 'ghazal' 'gitarre' 'glitch'\n",
      " 'gospel' 'gothic' 'grime' 'grunge' 'gypsy' 'handsup' \"hard'n'heavy\"\n",
      " 'hardcore' 'hardstyle' 'hardtechno' 'hip' 'hip-hop' 'hiphop' 'historisch'\n",
      " 'holiday' 'hop' 'horror' 'house' 'hymn' 'idm' 'independent' 'indian'\n",
      " 'indie' 'indipop' 'industrial' 'inspirational' 'instrumental'\n",
      " 'international' 'irish' 'jam' 'japanese' 'jazz' 'jewish' 'jpop' 'jungle'\n",
      " 'k-pop' 'karadeniz' 'karaoke' 'kayokyoku' 'korean' 'laiko' 'latin'\n",
      " 'latino' 'leftfield' 'local' 'lounge' 'loungeelectronic' 'lovers'\n",
      " 'malaysian' 'mandopop' 'marschmusik' 'meditative' 'mediterranean'\n",
      " 'melodic' 'metal' 'metalcore' 'mexican' 'middle' 'minimal'\n",
      " 'miscellaneous' 'modern' 'mood' 'mpb' 'muslim' 'native' 'neoklassik'\n",
      " 'neue' 'new' 'newage' 'newwave' 'nu' 'nujazz' 'numetal' 'oceania' 'old'\n",
      " 'opera' 'orchestral' 'other' 'piano' 'podcasts' 'pop' 'popdance'\n",
      " 'popelectronic' 'popeurodance' 'poprussian' 'post' 'posthardcore'\n",
      " 'postrock' 'power' 'progmetal' 'progressive' 'psychedelic' 'punjabi'\n",
      " 'punk' 'quebecois' 'ragga' 'ram' 'rancheras' 'rap' 'rave' 'reggae'\n",
      " 'reggaeton' 'regional' 'relax' 'religious' 'retro' 'rhythm' 'rnb' 'rnr'\n",
      " 'rock' 'rockabilly' 'rockalternative' 'rockindie' 'rockother' 'romance'\n",
      " 'roots' 'ruspop' 'rusrap' 'rusrock' 'russian' 'salsa' 'samba' 'scenic'\n",
      " 'schlager' 'self' 'sertanejo' 'shanson' 'shoegazing' 'showtunes' 'singer'\n",
      " 'ska' 'skarock' 'slow' 'smooth' 'soft' 'soul' 'soulful' 'sound'\n",
      " 'soundtrack' 'southern' 'specialty' 'speech' 'spiritual' 'sport'\n",
      " 'stonerrock' 'surf' 'swing' 'synthpop' 'synthrock' 'sängerportrait'\n",
      " 'tango' 'tanzorchester' 'taraftar' 'tatar' 'tech' 'techno' 'teen'\n",
      " 'thrash' 'top' 'traditional' 'tradjazz' 'trance' 'tribal' 'trip'\n",
      " 'triphop' 'tropical' 'türk' 'türkçe' 'ukrrock' 'unknown' 'urban' 'uzbek'\n",
      " 'variété' 'vi' 'videogame' 'vocal' 'western' 'world' 'worldbeat' 'ïîï'\n",
      " 'электроника']\n"
     ]
    }
   ],
   "source": [
    "# Просмотр уникальных названий жанров\n",
    "print(df['genre'].sort_values().unique())"
   ]
  },
  {
   "cell_type": "markdown",
   "metadata": {
    "id": "qej-Qmuo_Zct"
   },
   "source": [
    "Просмотрите список и найдите неявные дубликаты названия `hiphop`. Это могут быть названия с ошибками или альтернативные названия того же жанра.\n",
    "\n",
    "Вы увидите следующие неявные дубликаты:\n",
    "* *hip*,\n",
    "* *hop*,\n",
    "* *hip-hop*.\n",
    "\n",
    "Чтобы очистить от них таблицу, напишите функцию `replace_wrong_genres()` с двумя параметрами: \n",
    "* `wrong_genres` — список дубликатов,\n",
    "* `correct_genre` — строка с правильным значением.\n",
    "\n",
    "Функция должна исправить колонку `genre` в таблице `df`: заменить каждое значение из списка `wrong_genres` на значение из `correct_genre`."
   ]
  },
  {
   "cell_type": "code",
   "execution_count": 15,
   "metadata": {
    "id": "ErNDkmns_Zct"
   },
   "outputs": [],
   "source": [
    "# Функция для замены неявных дубликатов\n",
    "def replace_wrong_genres(wrong_genres, correct_genre):\n",
    "    for wrong_genre in wrong_genres:\n",
    "        df['genre'] = df['genre'].replace(wrong_genres, correct_genre)\n",
    "    \n",
    "wrong_genres = ['hip', 'hop', 'hip-hop']\n",
    "correct_genre = 'hiphop'\n"
   ]
  },
  {
   "cell_type": "markdown",
   "metadata": {
    "id": "aDoBJxbA_Zct"
   },
   "source": [
    "Вызовите `replace_wrong_genres()` и передайте ей такие аргументы, чтобы она устранила неявные дубликаты: вместо `hip`, `hop` и `hip-hop` в таблице должно быть значение `hiphop`:"
   ]
  },
  {
   "cell_type": "code",
   "execution_count": 16,
   "metadata": {
    "id": "YN5i2hpmSo09"
   },
   "outputs": [],
   "source": [
    "# Устранение неявных дубликатов\n",
    "replace_wrong_genres(wrong_genres, correct_genre)"
   ]
  },
  {
   "cell_type": "markdown",
   "metadata": {
    "id": "zQKF16_RG15m"
   },
   "source": [
    "Проверьте, что заменили неправильные названия:\n",
    "\n",
    "*   hip\n",
    "*   hop\n",
    "*   hip-hop\n",
    "\n",
    "Выведите отсортированный список уникальных значений столбца `genre`:"
   ]
  },
  {
   "cell_type": "code",
   "execution_count": 17,
   "metadata": {
    "id": "wvixALnFG15m"
   },
   "outputs": [
    {
     "data": {
      "text/plain": [
       "['acid',\n",
       " 'acoustic',\n",
       " 'action',\n",
       " 'adult',\n",
       " 'africa',\n",
       " 'afrikaans',\n",
       " 'alternative',\n",
       " 'alternativepunk',\n",
       " 'ambient',\n",
       " 'americana',\n",
       " 'animated',\n",
       " 'anime',\n",
       " 'arabesk',\n",
       " 'arabic',\n",
       " 'arena',\n",
       " 'argentinetango',\n",
       " 'art',\n",
       " 'audiobook',\n",
       " 'author',\n",
       " 'avantgarde',\n",
       " 'axé',\n",
       " 'baile',\n",
       " 'balkan',\n",
       " 'beats',\n",
       " 'bigroom',\n",
       " 'black',\n",
       " 'bluegrass',\n",
       " 'blues',\n",
       " 'bollywood',\n",
       " 'bossa',\n",
       " 'brazilian',\n",
       " 'breakbeat',\n",
       " 'breaks',\n",
       " 'broadway',\n",
       " 'cantautori',\n",
       " 'cantopop',\n",
       " 'canzone',\n",
       " 'caribbean',\n",
       " 'caucasian',\n",
       " 'celtic',\n",
       " 'chamber',\n",
       " 'chanson',\n",
       " 'children',\n",
       " 'chill',\n",
       " 'chinese',\n",
       " 'choral',\n",
       " 'christian',\n",
       " 'christmas',\n",
       " 'classical',\n",
       " 'classicmetal',\n",
       " 'club',\n",
       " 'colombian',\n",
       " 'comedy',\n",
       " 'conjazz',\n",
       " 'contemporary',\n",
       " 'country',\n",
       " 'cuban',\n",
       " 'dance',\n",
       " 'dancehall',\n",
       " 'dancepop',\n",
       " 'dark',\n",
       " 'death',\n",
       " 'deep',\n",
       " 'deutschrock',\n",
       " 'deutschspr',\n",
       " 'dirty',\n",
       " 'disco',\n",
       " 'dnb',\n",
       " 'documentary',\n",
       " 'downbeat',\n",
       " 'downtempo',\n",
       " 'drum',\n",
       " 'dub',\n",
       " 'dubstep',\n",
       " 'eastern',\n",
       " 'easy',\n",
       " 'electronic',\n",
       " 'electropop',\n",
       " 'emo',\n",
       " 'entehno',\n",
       " 'epicmetal',\n",
       " 'estrada',\n",
       " 'ethnic',\n",
       " 'eurofolk',\n",
       " 'european',\n",
       " 'experimental',\n",
       " 'extrememetal',\n",
       " 'fado',\n",
       " 'fairytail',\n",
       " 'film',\n",
       " 'fitness',\n",
       " 'flamenco',\n",
       " 'folk',\n",
       " 'folklore',\n",
       " 'folkmetal',\n",
       " 'folkrock',\n",
       " 'folktronica',\n",
       " 'forró',\n",
       " 'frankreich',\n",
       " 'französisch',\n",
       " 'french',\n",
       " 'funk',\n",
       " 'future',\n",
       " 'gangsta',\n",
       " 'garage',\n",
       " 'german',\n",
       " 'ghazal',\n",
       " 'gitarre',\n",
       " 'glitch',\n",
       " 'gospel',\n",
       " 'gothic',\n",
       " 'grime',\n",
       " 'grunge',\n",
       " 'gypsy',\n",
       " 'handsup',\n",
       " \"hard'n'heavy\",\n",
       " 'hardcore',\n",
       " 'hardstyle',\n",
       " 'hardtechno',\n",
       " 'hiphop',\n",
       " 'historisch',\n",
       " 'holiday',\n",
       " 'horror',\n",
       " 'house',\n",
       " 'hymn',\n",
       " 'idm',\n",
       " 'independent',\n",
       " 'indian',\n",
       " 'indie',\n",
       " 'indipop',\n",
       " 'industrial',\n",
       " 'inspirational',\n",
       " 'instrumental',\n",
       " 'international',\n",
       " 'irish',\n",
       " 'jam',\n",
       " 'japanese',\n",
       " 'jazz',\n",
       " 'jewish',\n",
       " 'jpop',\n",
       " 'jungle',\n",
       " 'k-pop',\n",
       " 'karadeniz',\n",
       " 'karaoke',\n",
       " 'kayokyoku',\n",
       " 'korean',\n",
       " 'laiko',\n",
       " 'latin',\n",
       " 'latino',\n",
       " 'leftfield',\n",
       " 'local',\n",
       " 'lounge',\n",
       " 'loungeelectronic',\n",
       " 'lovers',\n",
       " 'malaysian',\n",
       " 'mandopop',\n",
       " 'marschmusik',\n",
       " 'meditative',\n",
       " 'mediterranean',\n",
       " 'melodic',\n",
       " 'metal',\n",
       " 'metalcore',\n",
       " 'mexican',\n",
       " 'middle',\n",
       " 'minimal',\n",
       " 'miscellaneous',\n",
       " 'modern',\n",
       " 'mood',\n",
       " 'mpb',\n",
       " 'muslim',\n",
       " 'native',\n",
       " 'neoklassik',\n",
       " 'neue',\n",
       " 'new',\n",
       " 'newage',\n",
       " 'newwave',\n",
       " 'nu',\n",
       " 'nujazz',\n",
       " 'numetal',\n",
       " 'oceania',\n",
       " 'old',\n",
       " 'opera',\n",
       " 'orchestral',\n",
       " 'other',\n",
       " 'piano',\n",
       " 'podcasts',\n",
       " 'pop',\n",
       " 'popdance',\n",
       " 'popelectronic',\n",
       " 'popeurodance',\n",
       " 'poprussian',\n",
       " 'post',\n",
       " 'posthardcore',\n",
       " 'postrock',\n",
       " 'power',\n",
       " 'progmetal',\n",
       " 'progressive',\n",
       " 'psychedelic',\n",
       " 'punjabi',\n",
       " 'punk',\n",
       " 'quebecois',\n",
       " 'ragga',\n",
       " 'ram',\n",
       " 'rancheras',\n",
       " 'rap',\n",
       " 'rave',\n",
       " 'reggae',\n",
       " 'reggaeton',\n",
       " 'regional',\n",
       " 'relax',\n",
       " 'religious',\n",
       " 'retro',\n",
       " 'rhythm',\n",
       " 'rnb',\n",
       " 'rnr',\n",
       " 'rock',\n",
       " 'rockabilly',\n",
       " 'rockalternative',\n",
       " 'rockindie',\n",
       " 'rockother',\n",
       " 'romance',\n",
       " 'roots',\n",
       " 'ruspop',\n",
       " 'rusrap',\n",
       " 'rusrock',\n",
       " 'russian',\n",
       " 'salsa',\n",
       " 'samba',\n",
       " 'scenic',\n",
       " 'schlager',\n",
       " 'self',\n",
       " 'sertanejo',\n",
       " 'shanson',\n",
       " 'shoegazing',\n",
       " 'showtunes',\n",
       " 'singer',\n",
       " 'ska',\n",
       " 'skarock',\n",
       " 'slow',\n",
       " 'smooth',\n",
       " 'soft',\n",
       " 'soul',\n",
       " 'soulful',\n",
       " 'sound',\n",
       " 'soundtrack',\n",
       " 'southern',\n",
       " 'specialty',\n",
       " 'speech',\n",
       " 'spiritual',\n",
       " 'sport',\n",
       " 'stonerrock',\n",
       " 'surf',\n",
       " 'swing',\n",
       " 'synthpop',\n",
       " 'synthrock',\n",
       " 'sängerportrait',\n",
       " 'tango',\n",
       " 'tanzorchester',\n",
       " 'taraftar',\n",
       " 'tatar',\n",
       " 'tech',\n",
       " 'techno',\n",
       " 'teen',\n",
       " 'thrash',\n",
       " 'top',\n",
       " 'traditional',\n",
       " 'tradjazz',\n",
       " 'trance',\n",
       " 'tribal',\n",
       " 'trip',\n",
       " 'triphop',\n",
       " 'tropical',\n",
       " 'türk',\n",
       " 'türkçe',\n",
       " 'ukrrock',\n",
       " 'unknown',\n",
       " 'urban',\n",
       " 'uzbek',\n",
       " 'variété',\n",
       " 'vi',\n",
       " 'videogame',\n",
       " 'vocal',\n",
       " 'western',\n",
       " 'world',\n",
       " 'worldbeat',\n",
       " 'ïîï',\n",
       " 'электроника']"
      ]
     },
     "execution_count": 17,
     "metadata": {},
     "output_type": "execute_result"
    }
   ],
   "source": [
    "# Проверка на неявные дубликаты\n",
    "genre = df['genre'].unique()\n",
    "sorted(genre)"
   ]
  },
  {
   "cell_type": "markdown",
   "metadata": {
    "id": "jz6a9-7HQUDd"
   },
   "source": [
    "**Выводы**\n",
    "\n",
    "Предобработка обнаружила три проблемы в данных:\n",
    "\n",
    "- нарушения в стиле заголовков,\n",
    "- пропущенные значения,\n",
    "- дубликаты — явные и неявные.\n",
    "\n",
    "Вы исправили заголовки, чтобы упростить работу с таблицей. Без дубликатов исследование станет более точным.\n",
    "\n",
    "Пропущенные значения вы заменили на `'unknown'`. Ещё предстоит увидеть, не повредят ли исследованию пропуски в колонке `genre`.\n",
    "\n",
    "Теперь можно перейти к проверке гипотез. "
   ]
  },
  {
   "cell_type": "markdown",
   "metadata": {
    "id": "WttZHXH0SqKk"
   },
   "source": [
    "## Проверка гипотез"
   ]
  },
  {
   "cell_type": "markdown",
   "metadata": {
    "id": "Im936VVi_Zcu"
   },
   "source": [
    "### Сравнение поведения пользователей двух столиц"
   ]
  },
  {
   "cell_type": "markdown",
   "metadata": {
    "id": "nwt_MuaL_Zcu"
   },
   "source": [
    "Первая гипотеза утверждает, что пользователи по-разному слушают музыку в Москве и Санкт-Петербурге. Проверьте это предположение по данным о трёх днях недели — понедельнике, среде и пятнице. Для этого:\n",
    "\n",
    "* Разделите пользователей Москвы и Санкт-Петербурга\n",
    "* Сравните, сколько треков послушала каждая группа пользователей в понедельник, среду и пятницу.\n"
   ]
  },
  {
   "cell_type": "markdown",
   "metadata": {
    "id": "8Dw_YMmT_Zcu"
   },
   "source": [
    "Для тренировки сначала выполните каждый из расчётов по отдельности. \n",
    "\n",
    "Оцените активность пользователей в каждом городе. Сгруппируйте данные по городу и посчитайте прослушивания в каждой группе.\n",
    "\n"
   ]
  },
  {
   "cell_type": "code",
   "execution_count": 18,
   "metadata": {
    "id": "0_Qs96oh_Zcu"
   },
   "outputs": [
    {
     "data": {
      "text/plain": [
       "city\n",
       "Moscow              42741\n",
       "Saint-Petersburg    18512\n",
       "Name: track, dtype: int64"
      ]
     },
     "execution_count": 18,
     "metadata": {},
     "output_type": "execute_result"
    }
   ],
   "source": [
    "# Подсчёт прослушиваний в каждом городе\n",
    "df.groupby('city')['track'].count()\n"
   ]
  },
  {
   "cell_type": "markdown",
   "metadata": {
    "id": "dzli3w8o_Zcu"
   },
   "source": [
    "В Москве прослушиваний больше, чем в Петербурге. Из этого не следует, что московские пользователи чаще слушают музыку. Просто самих пользователей в Москве больше.\n",
    "\n",
    "Теперь сгруппируйте данные по дню недели и подсчитайте прослушивания в понедельник, среду и пятницу. Учтите, что в данных есть информация только о прослушиваниях только за эти дни.\n"
   ]
  },
  {
   "cell_type": "code",
   "execution_count": 19,
   "metadata": {
    "id": "uZMKjiJz_Zcu"
   },
   "outputs": [
    {
     "data": {
      "text/plain": [
       "day\n",
       "Friday       21840\n",
       "Monday       21354\n",
       "Wednesday    18059\n",
       "Name: track, dtype: int64"
      ]
     },
     "execution_count": 19,
     "metadata": {},
     "output_type": "execute_result"
    }
   ],
   "source": [
    "# Подсчёт прослушиваний в каждый из трёх дней\n",
    "df.groupby('day')['track'].count()"
   ]
  },
  {
   "cell_type": "markdown",
   "metadata": {
    "id": "cC2tNrlL_Zcu"
   },
   "source": [
    "В среднем пользователи из двух городов менее активны по средам. Но картина может измениться, если рассмотреть каждый город в отдельности."
   ]
  },
  {
   "cell_type": "markdown",
   "metadata": {
    "id": "POzs8bGa_Zcu"
   },
   "source": [
    "Вы видели, как работает группировка по городу и по дням недели. Теперь напишите функцию, которая объединит два эти расчёта.\n",
    "\n",
    "Создайте функцию `number_tracks()`, которая посчитает прослушивания для заданного дня и города. Ей понадобятся два параметра:\n",
    "* день недели,\n",
    "* название города.\n",
    "\n",
    "В функции сохраните в переменную строки исходной таблицы, у которых значение:\n",
    "  * в колонке `day` равно параметру `day`,\n",
    "  * в колонке `city` равно параметру `city`.\n",
    "\n",
    "Для этого примените последовательную фильтрацию с логической индексацией.\n",
    "\n",
    "Затем посчитайте значения в столбце `user_id` получившейся таблицы. Результат сохраните в новую переменную. Верните эту переменную из функции."
   ]
  },
  {
   "cell_type": "code",
   "execution_count": 20,
   "metadata": {
    "id": "Nz3GdQB1_Zcu"
   },
   "outputs": [],
   "source": [
    "# <создание функции number_tracks()>\n",
    "# Объявляется функция с двумя параметрами: day, city.\n",
    "# В переменной track_list сохраняются те строки таблицы df, для которых \n",
    "# значение в столбце 'day' равно параметру day и одновременно значение\n",
    "# в столбце 'city' равно параметру city (используйте последовательную фильтрацию\n",
    "# с помощью логической индексации).\n",
    "# В переменной track_list_count сохраняется число значений столбца 'user_id',\n",
    "# рассчитанное методом count() для таблицы track_list.\n",
    "# Функция возвращает число - значение track_list_count.\n",
    "\n",
    "# Функция для подсчёта прослушиваний для конкретного города и дня.\n",
    "# С помощью последовательной фильтрации с логической индексацией она \n",
    "# сначала получит из исходной таблицы строки с нужным днём,\n",
    "# затем из результата отфильтрует строки с нужным городом,\n",
    "# методом count() посчитает количество значений в колонке user_id. \n",
    "# Это количество функция вернёт в качестве результата\n",
    "def number_tracks(day, city):\n",
    "    track_list = df[(df['day'] == day) & (df['city'] == city)]\n",
    "    track_list_count = track_list['user_id'].count()\n",
    "    return track_list_count"
   ]
  },
  {
   "cell_type": "markdown",
   "metadata": {
    "id": "ytf7xFrFJQ2r"
   },
   "source": [
    "Вызовите `number_tracks()` шесть раз, меняя значение параметров — так, чтобы получить данные для каждого города в каждый из трёх дней."
   ]
  },
  {
   "cell_type": "code",
   "execution_count": 21,
   "metadata": {
    "id": "rJcRATNQ_Zcu"
   },
   "outputs": [
    {
     "data": {
      "text/plain": [
       "15740"
      ]
     },
     "execution_count": 21,
     "metadata": {},
     "output_type": "execute_result"
    }
   ],
   "source": [
    "# количество прослушиваний в Москве по понедельникам\n",
    "number_tracks('Monday', 'Moscow')"
   ]
  },
  {
   "cell_type": "code",
   "execution_count": 22,
   "metadata": {
    "id": "hq_ncZ5T_Zcu"
   },
   "outputs": [
    {
     "data": {
      "text/plain": [
       "5614"
      ]
     },
     "execution_count": 22,
     "metadata": {},
     "output_type": "execute_result"
    }
   ],
   "source": [
    "# количество прослушиваний в Санкт-Петербурге по понедельникам\n",
    "number_tracks('Monday', 'Saint-Petersburg')"
   ]
  },
  {
   "cell_type": "code",
   "execution_count": 23,
   "metadata": {
    "id": "_NTy2VPU_Zcu"
   },
   "outputs": [
    {
     "data": {
      "text/plain": [
       "11056"
      ]
     },
     "execution_count": 23,
     "metadata": {},
     "output_type": "execute_result"
    }
   ],
   "source": [
    "# количество прослушиваний в Москве по средам\n",
    "number_tracks('Wednesday', 'Moscow')"
   ]
  },
  {
   "cell_type": "code",
   "execution_count": 24,
   "metadata": {
    "id": "j2y3TAwo_Zcu"
   },
   "outputs": [
    {
     "data": {
      "text/plain": [
       "7003"
      ]
     },
     "execution_count": 24,
     "metadata": {},
     "output_type": "execute_result"
    }
   ],
   "source": [
    "# количество прослушиваний в Санкт-Петербурге по средам\n",
    "number_tracks('Wednesday', 'Saint-Petersburg')"
   ]
  },
  {
   "cell_type": "code",
   "execution_count": 25,
   "metadata": {
    "id": "vYDw5u_K_Zcu"
   },
   "outputs": [
    {
     "data": {
      "text/plain": [
       "15945"
      ]
     },
     "execution_count": 25,
     "metadata": {},
     "output_type": "execute_result"
    }
   ],
   "source": [
    "# количество прослушиваний в Москве по пятницам\n",
    "number_tracks('Friday', 'Moscow')"
   ]
  },
  {
   "cell_type": "code",
   "execution_count": 26,
   "metadata": {
    "id": "8_yzFtW3_Zcu"
   },
   "outputs": [
    {
     "data": {
      "text/plain": [
       "5895"
      ]
     },
     "execution_count": 26,
     "metadata": {},
     "output_type": "execute_result"
    }
   ],
   "source": [
    "# количество прослушиваний в Санкт-Петербурге по пятницам\n",
    "number_tracks('Friday', 'Saint-Petersburg')"
   ]
  },
  {
   "cell_type": "markdown",
   "metadata": {
    "id": "7QXffbO-_Zcu"
   },
   "source": [
    "Создайте c помощью конструктора `pd.DataFrame` таблицу, где\n",
    "* названия колонок — `['city', 'monday', 'wednesday', 'friday']`;\n",
    "* данные — результаты, которые вы получили с помощью `number_tracks`."
   ]
  },
  {
   "cell_type": "code",
   "execution_count": 27,
   "metadata": {
    "id": "APAcLpOr_Zcu"
   },
   "outputs": [
    {
     "name": "stdout",
     "output_type": "stream",
     "text": [
      "               city  monday  wednesday  friday\n",
      "0            Moscow   15740      11056   15945\n",
      "1  Saint-Petersburg    5614       7003    5895\n"
     ]
    }
   ],
   "source": [
    "# Таблица с результатами\n",
    "columns = ['city', 'monday', 'wednesday', 'friday'] \n",
    "data = [\n",
    "    ['Moscow', 15740, 11056, 15945],\n",
    "    ['Saint-Petersburg', 5614, 7003, 5895]\n",
    "]\n",
    "music_analysis = pd.DataFrame(data = data, columns = columns)\n",
    "print(music_analysis)"
   ]
  },
  {
   "cell_type": "markdown",
   "metadata": {
    "id": "-EgPIHYu_Zcu"
   },
   "source": [
    "\n",
    "**Выводы**\n",
    "\n",
    "Данные показывают разницу поведения пользователей:\n",
    "\n",
    "- В Москве пик прослушиваний приходится на понедельник и пятницу, а в среду заметен спад.\n",
    "- В Петербурге, наоборот, больше слушают музыку по средам. Активность в понедельник и пятницу здесь почти в равной мере уступает среде.\n",
    "\n",
    "Значит, данные говорят в пользу первой гипотезы."
   ]
  },
  {
   "cell_type": "markdown",
   "metadata": {
    "id": "atZAxtq4_Zcu"
   },
   "source": [
    "### Музыка в начале и в конце недели"
   ]
  },
  {
   "cell_type": "markdown",
   "metadata": {
    "id": "eXrQqXFH_Zcu"
   },
   "source": [
    "Согласно второй гипотезе, утром в понедельник в Москве преобладают одни жанры, а в Петербурге — другие. Так же и вечером пятницы преобладают разные жанры — в зависимости от города."
   ]
  },
  {
   "cell_type": "markdown",
   "metadata": {
    "id": "S8UcW6Hw_Zcu"
   },
   "source": [
    "Сохраните таблицы с данными в две переменные:\n",
    "* по Москве — в `moscow_general`;\n",
    "* по Санкт-Петербургу — в `spb_general`."
   ]
  },
  {
   "cell_type": "code",
   "execution_count": 36,
   "metadata": {
    "id": "qeaFfM_P_Zcu",
    "scrolled": true
   },
   "outputs": [
    {
     "data": {
      "text/html": [
       "<div>\n",
       "<style scoped>\n",
       "    .dataframe tbody tr th:only-of-type {\n",
       "        vertical-align: middle;\n",
       "    }\n",
       "\n",
       "    .dataframe tbody tr th {\n",
       "        vertical-align: top;\n",
       "    }\n",
       "\n",
       "    .dataframe thead th {\n",
       "        text-align: right;\n",
       "    }\n",
       "</style>\n",
       "<table border=\"1\" class=\"dataframe\">\n",
       "  <thead>\n",
       "    <tr style=\"text-align: right;\">\n",
       "      <th></th>\n",
       "      <th>user_id</th>\n",
       "      <th>track</th>\n",
       "      <th>artist</th>\n",
       "      <th>genre</th>\n",
       "      <th>city</th>\n",
       "      <th>time</th>\n",
       "      <th>day</th>\n",
       "    </tr>\n",
       "  </thead>\n",
       "  <tbody>\n",
       "    <tr>\n",
       "      <th>1</th>\n",
       "      <td>55204538</td>\n",
       "      <td>Delayed Because of Accident</td>\n",
       "      <td>Andreas Rönnberg</td>\n",
       "      <td>rock</td>\n",
       "      <td>Moscow</td>\n",
       "      <td>14:07:09</td>\n",
       "      <td>Friday</td>\n",
       "    </tr>\n",
       "    <tr>\n",
       "      <th>4</th>\n",
       "      <td>E2DC1FAE</td>\n",
       "      <td>Soul People</td>\n",
       "      <td>Space Echo</td>\n",
       "      <td>dance</td>\n",
       "      <td>Moscow</td>\n",
       "      <td>08:34:34</td>\n",
       "      <td>Monday</td>\n",
       "    </tr>\n",
       "    <tr>\n",
       "      <th>6</th>\n",
       "      <td>4CB90AA5</td>\n",
       "      <td>True</td>\n",
       "      <td>Roman Messer</td>\n",
       "      <td>dance</td>\n",
       "      <td>Moscow</td>\n",
       "      <td>13:00:07</td>\n",
       "      <td>Wednesday</td>\n",
       "    </tr>\n",
       "    <tr>\n",
       "      <th>7</th>\n",
       "      <td>F03E1C1F</td>\n",
       "      <td>Feeling This Way</td>\n",
       "      <td>Polina Griffith</td>\n",
       "      <td>dance</td>\n",
       "      <td>Moscow</td>\n",
       "      <td>20:47:49</td>\n",
       "      <td>Wednesday</td>\n",
       "    </tr>\n",
       "    <tr>\n",
       "      <th>8</th>\n",
       "      <td>8FA1D3BE</td>\n",
       "      <td>И вновь продолжается бой</td>\n",
       "      <td>unknown</td>\n",
       "      <td>ruspop</td>\n",
       "      <td>Moscow</td>\n",
       "      <td>09:17:40</td>\n",
       "      <td>Friday</td>\n",
       "    </tr>\n",
       "  </tbody>\n",
       "</table>\n",
       "</div>"
      ],
      "text/plain": [
       "    user_id                        track            artist   genre    city  \\\n",
       "1  55204538  Delayed Because of Accident  Andreas Rönnberg    rock  Moscow   \n",
       "4  E2DC1FAE                  Soul People        Space Echo   dance  Moscow   \n",
       "6  4CB90AA5                         True      Roman Messer   dance  Moscow   \n",
       "7  F03E1C1F             Feeling This Way   Polina Griffith   dance  Moscow   \n",
       "8  8FA1D3BE     И вновь продолжается бой           unknown  ruspop  Moscow   \n",
       "\n",
       "       time        day  \n",
       "1  14:07:09     Friday  \n",
       "4  08:34:34     Monday  \n",
       "6  13:00:07  Wednesday  \n",
       "7  20:47:49  Wednesday  \n",
       "8  09:17:40     Friday  "
      ]
     },
     "metadata": {},
     "output_type": "display_data"
    }
   ],
   "source": [
    "# получение таблицы moscow_general из тех строк таблицы df, \n",
    "# для которых значение в столбце 'city' равно 'Moscow'\n",
    "moscow_general = df[df['city'] == 'Moscow']\n",
    "display(moscow_general.head())"
   ]
  },
  {
   "cell_type": "code",
   "execution_count": 37,
   "metadata": {
    "id": "ORaVRKto_Zcu",
    "scrolled": true
   },
   "outputs": [
    {
     "data": {
      "text/html": [
       "<div>\n",
       "<style scoped>\n",
       "    .dataframe tbody tr th:only-of-type {\n",
       "        vertical-align: middle;\n",
       "    }\n",
       "\n",
       "    .dataframe tbody tr th {\n",
       "        vertical-align: top;\n",
       "    }\n",
       "\n",
       "    .dataframe thead th {\n",
       "        text-align: right;\n",
       "    }\n",
       "</style>\n",
       "<table border=\"1\" class=\"dataframe\">\n",
       "  <thead>\n",
       "    <tr style=\"text-align: right;\">\n",
       "      <th></th>\n",
       "      <th>user_id</th>\n",
       "      <th>track</th>\n",
       "      <th>artist</th>\n",
       "      <th>genre</th>\n",
       "      <th>city</th>\n",
       "      <th>time</th>\n",
       "      <th>day</th>\n",
       "    </tr>\n",
       "  </thead>\n",
       "  <tbody>\n",
       "    <tr>\n",
       "      <th>0</th>\n",
       "      <td>FFB692EC</td>\n",
       "      <td>Kamigata To Boots</td>\n",
       "      <td>The Mass Missile</td>\n",
       "      <td>rock</td>\n",
       "      <td>Saint-Petersburg</td>\n",
       "      <td>20:28:33</td>\n",
       "      <td>Wednesday</td>\n",
       "    </tr>\n",
       "    <tr>\n",
       "      <th>2</th>\n",
       "      <td>20EC38</td>\n",
       "      <td>Funiculì funiculà</td>\n",
       "      <td>Mario Lanza</td>\n",
       "      <td>pop</td>\n",
       "      <td>Saint-Petersburg</td>\n",
       "      <td>20:58:07</td>\n",
       "      <td>Wednesday</td>\n",
       "    </tr>\n",
       "    <tr>\n",
       "      <th>3</th>\n",
       "      <td>A3DD03C9</td>\n",
       "      <td>Dragons in the Sunset</td>\n",
       "      <td>Fire + Ice</td>\n",
       "      <td>folk</td>\n",
       "      <td>Saint-Petersburg</td>\n",
       "      <td>08:37:09</td>\n",
       "      <td>Monday</td>\n",
       "    </tr>\n",
       "    <tr>\n",
       "      <th>5</th>\n",
       "      <td>842029A1</td>\n",
       "      <td>Преданная</td>\n",
       "      <td>IMPERVTOR</td>\n",
       "      <td>rusrap</td>\n",
       "      <td>Saint-Petersburg</td>\n",
       "      <td>13:09:41</td>\n",
       "      <td>Friday</td>\n",
       "    </tr>\n",
       "    <tr>\n",
       "      <th>9</th>\n",
       "      <td>E772D5C0</td>\n",
       "      <td>Pessimist</td>\n",
       "      <td>unknown</td>\n",
       "      <td>dance</td>\n",
       "      <td>Saint-Petersburg</td>\n",
       "      <td>21:20:49</td>\n",
       "      <td>Wednesday</td>\n",
       "    </tr>\n",
       "  </tbody>\n",
       "</table>\n",
       "</div>"
      ],
      "text/plain": [
       "    user_id                  track            artist   genre  \\\n",
       "0  FFB692EC      Kamigata To Boots  The Mass Missile    rock   \n",
       "2    20EC38      Funiculì funiculà       Mario Lanza     pop   \n",
       "3  A3DD03C9  Dragons in the Sunset        Fire + Ice    folk   \n",
       "5  842029A1              Преданная         IMPERVTOR  rusrap   \n",
       "9  E772D5C0              Pessimist           unknown   dance   \n",
       "\n",
       "               city      time        day  \n",
       "0  Saint-Petersburg  20:28:33  Wednesday  \n",
       "2  Saint-Petersburg  20:58:07  Wednesday  \n",
       "3  Saint-Petersburg  08:37:09     Monday  \n",
       "5  Saint-Petersburg  13:09:41     Friday  \n",
       "9  Saint-Petersburg  21:20:49  Wednesday  "
      ]
     },
     "metadata": {},
     "output_type": "display_data"
    }
   ],
   "source": [
    "# получение таблицы spb_general из тех строк таблицы df,\n",
    "# для которых значение в столбце 'city' равно 'Saint-Petersburg'\n",
    "spb_general = df[df['city'] == 'Saint-Petersburg']\n",
    "display(spb_general.head())"
   ]
  },
  {
   "cell_type": "markdown",
   "metadata": {
    "id": "MEJV-CX2_Zcu"
   },
   "source": [
    "Создайте функцию `genre_weekday()` с четырьмя параметрами:\n",
    "* таблица (датафрейм) с данными,\n",
    "* день недели,\n",
    "* начальная временная метка в формате 'hh:mm', \n",
    "* последняя временная метка в формате 'hh:mm'.\n",
    "\n",
    "Функция должна вернуть информацию о топ-10 жанров тех треков, которые прослушивали в указанный день, в промежутке между двумя отметками времени."
   ]
  },
  {
   "cell_type": "code",
   "execution_count": 38,
   "metadata": {
    "id": "laJT9BYl_Zcu"
   },
   "outputs": [],
   "source": [
    "# Объявление функции genre_weekday() с параметрами table, day, time1, time2,\n",
    "# которая возвращает информацию о самых популярных жанрах в указанный день в\n",
    "# заданное время:\n",
    "# 1) в переменную genre_df сохраняются те строки переданного датафрейма table, для\n",
    "#    которых одновременно:\n",
    "#    - значение в столбце day равно значению аргумента day\n",
    "#    - значение в столбце time больше значения аргумента time1\n",
    "#    - значение в столбце time меньше значения аргумента time2\n",
    "#    Используйте последовательную фильтрацию с помощью логической индексации.\n",
    "# 2) сгруппировать датафрейм genre_df по столбцу genre, взять один из его\n",
    "#    столбцов и посчитать методом count() количество записей для каждого из\n",
    "#    присутствующих жанров, получившийся Series записать в переменную\n",
    "#    genre_df_count\n",
    "# 3) отсортировать genre_df_count по убыванию встречаемости и сохранить\n",
    "#    в переменную genre_df_sorted\n",
    "# 4) вернуть Series из 10 первых значений genre_df_sorted, это будут топ-10\n",
    "#    популярных жанров (в указанный день, в заданное время)\n",
    "def genre_weekday(table, day, time1, time2):\n",
    "    genre_df = table[(table['day'] == day) & (table['time'] > time1) & (table['time'] < time2)]\n",
    "    genre_df_count = genre_df.groupby('genre')['day'].count()\n",
    "    genre_df_sorted = genre_df_count.sort_values(ascending = False)\n",
    "    return genre_df_sorted.head(10)\n"
   ]
  },
  {
   "cell_type": "markdown",
   "metadata": {
    "id": "la2s2_PF_Zcu"
   },
   "source": [
    "Cравните результаты функции `genre_weekday()` для Москвы и Санкт-Петербурга в понедельник утром (с 7:00 до 11:00) и в пятницу вечером (с 17:00 до 23:00):"
   ]
  },
  {
   "cell_type": "code",
   "execution_count": 65,
   "metadata": {
    "id": "yz7itPUQ_Zcu"
   },
   "outputs": [
    {
     "data": {
      "text/plain": [
       "genre\n",
       "pop            781\n",
       "dance          549\n",
       "electronic     480\n",
       "rock           474\n",
       "hiphop         286\n",
       "ruspop         186\n",
       "world          181\n",
       "rusrap         175\n",
       "alternative    164\n",
       "unknown        161\n",
       "Name: day, dtype: int64"
      ]
     },
     "execution_count": 65,
     "metadata": {},
     "output_type": "execute_result"
    }
   ],
   "source": [
    "# вызов функции для утра понедельника в Москве (вместо df — таблица moscow_general)\n",
    "# объекты, хранящие время, являются строками и сравниваются как строки\n",
    "# пример вызова: genre_weekday(moscow_general, 'Monday', '07:00', '11:00')\n",
    "msc_mon = genre_weekday(moscow_general, 'Monday', '07:00', '11:00')\n",
    "msc_mon"
   ]
  },
  {
   "cell_type": "code",
   "execution_count": 66,
   "metadata": {
    "id": "kwUcHPdy_Zcu"
   },
   "outputs": [
    {
     "data": {
      "text/plain": [
       "genre\n",
       "pop            218\n",
       "dance          182\n",
       "rock           162\n",
       "electronic     147\n",
       "hiphop          80\n",
       "ruspop          64\n",
       "alternative     58\n",
       "rusrap          55\n",
       "jazz            44\n",
       "classical       40\n",
       "Name: day, dtype: int64"
      ]
     },
     "execution_count": 66,
     "metadata": {},
     "output_type": "execute_result"
    }
   ],
   "source": [
    "# вызов функции для утра понедельника в Петербурге (вместо df — таблица spb_general)\n",
    "spb_mon = genre_weekday(spb_general, 'Monday', '07:00', '11:00')\n",
    "spb_mon"
   ]
  },
  {
   "cell_type": "code",
   "execution_count": 67,
   "metadata": {
    "id": "EzXVRE1o_Zcu"
   },
   "outputs": [
    {
     "data": {
      "text/plain": [
       "genre\n",
       "pop            713\n",
       "rock           517\n",
       "dance          495\n",
       "electronic     482\n",
       "hiphop         273\n",
       "world          208\n",
       "ruspop         170\n",
       "alternative    163\n",
       "classical      163\n",
       "rusrap         142\n",
       "Name: day, dtype: int64"
      ]
     },
     "execution_count": 67,
     "metadata": {},
     "output_type": "execute_result"
    }
   ],
   "source": [
    "# вызов функции для вечера пятницы в Москве\n",
    "msc_fri = genre_weekday(moscow_general, 'Friday', '17:00', '23:00')\n",
    "msc_fri"
   ]
  },
  {
   "cell_type": "code",
   "execution_count": 69,
   "metadata": {
    "id": "JZaEKu5v_Zcu"
   },
   "outputs": [
    {
     "data": {
      "text/plain": [
       "genre\n",
       "pop            263\n",
       "rock           208\n",
       "electronic     192\n",
       "dance          191\n",
       "hiphop         104\n",
       "alternative     72\n",
       "classical       71\n",
       "jazz            57\n",
       "rusrap          54\n",
       "ruspop          53\n",
       "Name: day, dtype: int64"
      ]
     },
     "execution_count": 69,
     "metadata": {},
     "output_type": "execute_result"
    }
   ],
   "source": [
    "# вызов функции для вечера пятницы в Петербурге\n",
    "spb_fri = genre_weekday(spb_general, 'Monday', '17:00', '23:00')\n",
    "spb_fri"
   ]
  },
  {
   "cell_type": "code",
   "execution_count": 64,
   "metadata": {},
   "outputs": [
    {
     "data": {
      "text/html": [
       "<div>\n",
       "<style scoped>\n",
       "    .dataframe tbody tr th:only-of-type {\n",
       "        vertical-align: middle;\n",
       "    }\n",
       "\n",
       "    .dataframe tbody tr th {\n",
       "        vertical-align: top;\n",
       "    }\n",
       "\n",
       "    .dataframe thead th {\n",
       "        text-align: right;\n",
       "    }\n",
       "</style>\n",
       "<table border=\"1\" class=\"dataframe\">\n",
       "  <thead>\n",
       "    <tr style=\"text-align: right;\">\n",
       "      <th></th>\n",
       "      <th>msc_mon</th>\n",
       "      <th>msc_fri</th>\n",
       "      <th>spb_mon</th>\n",
       "      <th>spb_fri</th>\n",
       "    </tr>\n",
       "    <tr>\n",
       "      <th>genre</th>\n",
       "      <th></th>\n",
       "      <th></th>\n",
       "      <th></th>\n",
       "      <th></th>\n",
       "    </tr>\n",
       "  </thead>\n",
       "  <tbody>\n",
       "    <tr>\n",
       "      <th>pop</th>\n",
       "      <td>781.0</td>\n",
       "      <td>713.0</td>\n",
       "      <td>218.0</td>\n",
       "      <td>263.0</td>\n",
       "    </tr>\n",
       "    <tr>\n",
       "      <th>dance</th>\n",
       "      <td>549.0</td>\n",
       "      <td>495.0</td>\n",
       "      <td>182.0</td>\n",
       "      <td>191.0</td>\n",
       "    </tr>\n",
       "    <tr>\n",
       "      <th>electronic</th>\n",
       "      <td>480.0</td>\n",
       "      <td>482.0</td>\n",
       "      <td>147.0</td>\n",
       "      <td>192.0</td>\n",
       "    </tr>\n",
       "    <tr>\n",
       "      <th>rock</th>\n",
       "      <td>474.0</td>\n",
       "      <td>517.0</td>\n",
       "      <td>162.0</td>\n",
       "      <td>208.0</td>\n",
       "    </tr>\n",
       "    <tr>\n",
       "      <th>hiphop</th>\n",
       "      <td>286.0</td>\n",
       "      <td>273.0</td>\n",
       "      <td>80.0</td>\n",
       "      <td>104.0</td>\n",
       "    </tr>\n",
       "    <tr>\n",
       "      <th>ruspop</th>\n",
       "      <td>186.0</td>\n",
       "      <td>170.0</td>\n",
       "      <td>64.0</td>\n",
       "      <td>53.0</td>\n",
       "    </tr>\n",
       "    <tr>\n",
       "      <th>world</th>\n",
       "      <td>181.0</td>\n",
       "      <td>208.0</td>\n",
       "      <td>NaN</td>\n",
       "      <td>NaN</td>\n",
       "    </tr>\n",
       "    <tr>\n",
       "      <th>rusrap</th>\n",
       "      <td>175.0</td>\n",
       "      <td>142.0</td>\n",
       "      <td>55.0</td>\n",
       "      <td>54.0</td>\n",
       "    </tr>\n",
       "    <tr>\n",
       "      <th>alternative</th>\n",
       "      <td>164.0</td>\n",
       "      <td>163.0</td>\n",
       "      <td>58.0</td>\n",
       "      <td>72.0</td>\n",
       "    </tr>\n",
       "    <tr>\n",
       "      <th>unknown</th>\n",
       "      <td>161.0</td>\n",
       "      <td>NaN</td>\n",
       "      <td>NaN</td>\n",
       "      <td>NaN</td>\n",
       "    </tr>\n",
       "    <tr>\n",
       "      <th>classical</th>\n",
       "      <td>NaN</td>\n",
       "      <td>163.0</td>\n",
       "      <td>40.0</td>\n",
       "      <td>71.0</td>\n",
       "    </tr>\n",
       "    <tr>\n",
       "      <th>jazz</th>\n",
       "      <td>NaN</td>\n",
       "      <td>NaN</td>\n",
       "      <td>44.0</td>\n",
       "      <td>57.0</td>\n",
       "    </tr>\n",
       "  </tbody>\n",
       "</table>\n",
       "</div>"
      ],
      "text/plain": [
       "             msc_mon  msc_fri  spb_mon  spb_fri\n",
       "genre                                          \n",
       "pop            781.0    713.0    218.0    263.0\n",
       "dance          549.0    495.0    182.0    191.0\n",
       "electronic     480.0    482.0    147.0    192.0\n",
       "rock           474.0    517.0    162.0    208.0\n",
       "hiphop         286.0    273.0     80.0    104.0\n",
       "ruspop         186.0    170.0     64.0     53.0\n",
       "world          181.0    208.0      NaN      NaN\n",
       "rusrap         175.0    142.0     55.0     54.0\n",
       "alternative    164.0    163.0     58.0     72.0\n",
       "unknown        161.0      NaN      NaN      NaN\n",
       "classical        NaN    163.0     40.0     71.0\n",
       "jazz             NaN      NaN     44.0     57.0"
      ]
     },
     "metadata": {},
     "output_type": "display_data"
    }
   ],
   "source": [
    "copmare_data = {'msc_mon':msc_mon, 'msc_fri': msc_fri, 'spb_mon': spb_mon, 'spb_fri': spb_fri}\n",
    "comp_data = pd.DataFrame(data=copmare_data)\n",
    "display(comp_data.sort_values(by=['msc_mon'], ascending = False))"
   ]
  },
  {
   "cell_type": "markdown",
   "metadata": {
    "id": "wrCe4MNX_Zcu"
   },
   "source": [
    "**Выводы**\n",
    "\n",
    "Если сравнить топ-10 жанров в понедельник утром, можно сделать такие выводы:\n",
    "\n",
    "1. В Москве и Петербурге слушают похожую музыку. Единственное отличие — в московский рейтинг вошёл жанр “world”, а в петербургский — джаз.\n",
    "\n",
    "2. В Москве пропущенных значений оказалось так много, что значение `'unknown'` заняло десятое место среди самых популярных жанров в понедельник утром. Значит, пропущенные значения занимают существенную долю в данных.\n",
    "\n",
    "Вечер пятницы не меняет эту картину. Некоторые жанры поднимаются немного выше, другие спускаются, но в целом топ-10 остаётся тем же самым. Забавно, что рок в пятницу слушают больше и Питере и в Москве. \n",
    "\n",
    "Таким образом, вторая гипотеза подтвердилась лишь частично:\n",
    "* Пользователи слушают похожую музыку в начале недели и в конце.\n",
    "* Разница между Москвой и Петербургом не слишком выражена. В Москве чаще слушают русскую популярную музыку, в Петербурге — джаз.\n",
    "\n",
    "Однако пропуски в данных ставят под сомнение этот результат. В Москве их так много, что рейтинг топ-10 мог бы выглядеть иначе, если бы не утерянные  данные о жанрах."
   ]
  },
  {
   "cell_type": "markdown",
   "metadata": {
    "id": "JolODAqr_Zcu"
   },
   "source": [
    "### Жанровые предпочтения в Москве и Петербурге\n",
    "\n",
    "Гипотеза: Петербург — столица рэпа, музыку этого жанра там слушают чаще, чем в Москве.  А Москва — город контрастов, в котором, тем не менее, преобладает поп-музыка."
   ]
  },
  {
   "cell_type": "markdown",
   "metadata": {
    "id": "DlegSvaT_Zcu"
   },
   "source": [
    "Сгруппируйте таблицу `moscow_general` по жанру и посчитайте прослушивания треков каждого жанра методом `count()`. Затем отсортируйте результат в порядке убывания и сохраните его в таблице `moscow_genres`."
   ]
  },
  {
   "cell_type": "code",
   "execution_count": 75,
   "metadata": {
    "id": "r19lIPke_Zcu"
   },
   "outputs": [],
   "source": [
    "# одной строкой: группировка таблицы moscow_general по столбцу 'genre', \n",
    "# подсчёт числа значений 'genre' в этой группировке методом count(), \n",
    "# сортировка получившегося Series в порядке убывания и сохранение в moscow_genres\n",
    "moscow_genres = moscow_general.groupby('genre').count().sort_values(by=['user_id'], ascending=False)"
   ]
  },
  {
   "cell_type": "markdown",
   "metadata": {},
   "source": [
    "Не поняла комментарий выше "
   ]
  },
  {
   "cell_type": "markdown",
   "metadata": {
    "id": "6kMuomxTiIr8"
   },
   "source": [
    "Выведите на экран первые десять строк `moscow_genres`:"
   ]
  },
  {
   "cell_type": "code",
   "execution_count": 81,
   "metadata": {
    "id": "WhCSooF8_Zcv"
   },
   "outputs": [
    {
     "data": {
      "text/plain": [
       "genre\n",
       "pop            5892\n",
       "dance          4435\n",
       "rock           3965\n",
       "electronic     3786\n",
       "hiphop         2096\n",
       "classical      1616\n",
       "world          1432\n",
       "alternative    1379\n",
       "ruspop         1372\n",
       "rusrap         1161\n",
       "Name: user_id, dtype: int64"
      ]
     },
     "execution_count": 81,
     "metadata": {},
     "output_type": "execute_result"
    }
   ],
   "source": [
    "# просмотр первых 10 строк moscow_genres\n",
    "moscow_genres['user_id'].head(10)"
   ]
  },
  {
   "cell_type": "markdown",
   "metadata": {
    "id": "cnPG2vnN_Zcv"
   },
   "source": [
    "Теперь повторите то же и для Петербурга.\n",
    "\n",
    "Сгруппируйте таблицу `spb_general` по жанру. Посчитайте прослушивания треков каждого жанра. Результат отсортируйте в порядке убывания и сохраните в таблице `spb_genres`:\n"
   ]
  },
  {
   "cell_type": "code",
   "execution_count": 85,
   "metadata": {
    "id": "gluLIpE7_Zcv"
   },
   "outputs": [],
   "source": [
    "# одной строкой: группировка таблицы spb_general по столбцу 'genre', \n",
    "# подсчёт числа значений 'genre' в этой группировке методом count(), \n",
    "# сортировка получившегося Series в порядке убывания и сохранение в spb_genres\n",
    "spb_genres = spb_general.groupby('genre').count().sort_values(by='user_id', ascending = False)"
   ]
  },
  {
   "cell_type": "markdown",
   "metadata": {
    "id": "5Doha_ODgyQ8"
   },
   "source": [
    "Выведите на экран первые десять строк `spb_genres`:"
   ]
  },
  {
   "cell_type": "code",
   "execution_count": 86,
   "metadata": {
    "id": "uaGJHjVU_Zcv"
   },
   "outputs": [
    {
     "data": {
      "text/plain": [
       "genre\n",
       "pop            2431\n",
       "dance          1932\n",
       "rock           1879\n",
       "electronic     1736\n",
       "hiphop          960\n",
       "alternative     649\n",
       "classical       646\n",
       "rusrap          564\n",
       "ruspop          538\n",
       "world           515\n",
       "Name: user_id, dtype: int64"
      ]
     },
     "execution_count": 86,
     "metadata": {},
     "output_type": "execute_result"
    }
   ],
   "source": [
    "# просмотр первых 10 строк spb_genres\n",
    "spb_genres['user_id'].head(10)"
   ]
  },
  {
   "cell_type": "code",
   "execution_count": 98,
   "metadata": {},
   "outputs": [
    {
     "data": {
      "text/html": [
       "<div>\n",
       "<style scoped>\n",
       "    .dataframe tbody tr th:only-of-type {\n",
       "        vertical-align: middle;\n",
       "    }\n",
       "\n",
       "    .dataframe tbody tr th {\n",
       "        vertical-align: top;\n",
       "    }\n",
       "\n",
       "    .dataframe thead th {\n",
       "        text-align: right;\n",
       "    }\n",
       "</style>\n",
       "<table border=\"1\" class=\"dataframe\">\n",
       "  <thead>\n",
       "    <tr style=\"text-align: right;\">\n",
       "      <th></th>\n",
       "      <th>msc</th>\n",
       "      <th>spb</th>\n",
       "    </tr>\n",
       "    <tr>\n",
       "      <th>genre</th>\n",
       "      <th></th>\n",
       "      <th></th>\n",
       "    </tr>\n",
       "  </thead>\n",
       "  <tbody>\n",
       "    <tr>\n",
       "      <th>pop</th>\n",
       "      <td>5892.0</td>\n",
       "      <td>2431.0</td>\n",
       "    </tr>\n",
       "    <tr>\n",
       "      <th>dance</th>\n",
       "      <td>4435.0</td>\n",
       "      <td>1932.0</td>\n",
       "    </tr>\n",
       "    <tr>\n",
       "      <th>rock</th>\n",
       "      <td>3965.0</td>\n",
       "      <td>1879.0</td>\n",
       "    </tr>\n",
       "    <tr>\n",
       "      <th>electronic</th>\n",
       "      <td>3786.0</td>\n",
       "      <td>1736.0</td>\n",
       "    </tr>\n",
       "    <tr>\n",
       "      <th>hiphop</th>\n",
       "      <td>2096.0</td>\n",
       "      <td>960.0</td>\n",
       "    </tr>\n",
       "    <tr>\n",
       "      <th>classical</th>\n",
       "      <td>1616.0</td>\n",
       "      <td>646.0</td>\n",
       "    </tr>\n",
       "    <tr>\n",
       "      <th>world</th>\n",
       "      <td>1432.0</td>\n",
       "      <td>515.0</td>\n",
       "    </tr>\n",
       "    <tr>\n",
       "      <th>alternative</th>\n",
       "      <td>1379.0</td>\n",
       "      <td>649.0</td>\n",
       "    </tr>\n",
       "    <tr>\n",
       "      <th>ruspop</th>\n",
       "      <td>1372.0</td>\n",
       "      <td>538.0</td>\n",
       "    </tr>\n",
       "    <tr>\n",
       "      <th>rusrap</th>\n",
       "      <td>1161.0</td>\n",
       "      <td>564.0</td>\n",
       "    </tr>\n",
       "  </tbody>\n",
       "</table>\n",
       "</div>"
      ],
      "text/plain": [
       "                msc     spb\n",
       "genre                      \n",
       "pop          5892.0  2431.0\n",
       "dance        4435.0  1932.0\n",
       "rock         3965.0  1879.0\n",
       "electronic   3786.0  1736.0\n",
       "hiphop       2096.0   960.0\n",
       "classical    1616.0   646.0\n",
       "world        1432.0   515.0\n",
       "alternative  1379.0   649.0\n",
       "ruspop       1372.0   538.0\n",
       "rusrap       1161.0   564.0"
      ]
     },
     "metadata": {},
     "output_type": "display_data"
    }
   ],
   "source": [
    "genre_compare = {'msc':moscow_genres['user_id'], 'spb':spb_genres['user_id']}\n",
    "genre_compare = pd.DataFrame(data=genre_compare)\n",
    "display(genre_compare.nlargest(10, 'msc'))"
   ]
  },
  {
   "cell_type": "markdown",
   "metadata": {
    "id": "RY51YJYu_Zcv"
   },
   "source": [
    "**Выводы**"
   ]
  },
  {
   "cell_type": "markdown",
   "metadata": {
    "id": "nVhnJEm__Zcv"
   },
   "source": [
    "Гипотеза частично подтвердилась:\n",
    "* Поп-музыка — самый популярный жанр в Москве, как и предполагала гипотеза. Более того, в топ-10 жанров встречается близкий жанр — русская популярная музыка.\n",
    "* Вопреки ожиданиям, рэп одинаково популярен в Москве и Петербурге. \n"
   ]
  },
  {
   "cell_type": "markdown",
   "metadata": {
    "id": "ykKQ0N65_Zcv"
   },
   "source": [
    "## Итоги исследования"
   ]
  },
  {
   "cell_type": "markdown",
   "metadata": {
    "id": "tjUwbHb3_Zcv"
   },
   "source": [
    "Вы проверили три гипотезы и установили:\n",
    "\n",
    "1. День недели по-разному влияет на активность пользователей в Москве и Петербурге. \n",
    "\n",
    "Первая гипотеза полностью подтвердилась.\n",
    "\n",
    "2. Музыкальные предпочтения не сильно меняются в течение недели — будь то Москва или Петербург. Небольшие различия заметны в начале недели, по понедельникам:\n",
    "* в Москве слушают музыку жанра “world”,\n",
    "* в Петербурге — джаз и классику.\n",
    "\n",
    "Таким образом, вторая гипотеза подтвердилась лишь отчасти. Этот результат мог оказаться иным, если бы не пропуски в данных.\n",
    "\n",
    "3. Во вкусах пользователей Москвы и Петербурга больше общего чем различий. Вопреки ожиданиям, предпочтения жанров в Петербурге напоминают московские.\n",
    "\n",
    "Третья гипотеза не подтвердилась. Если различия в предпочтениях и существуют, на основной массе пользователей они незаметны.\n",
    "\n",
    "**На практике исследования содержат проверки статистических гипотез.**\n",
    "Из данных одного сервиса не всегда можно сделать вывод о всех жителях города.\n",
    "Проверки статистических гипотез покажут, насколько они достоверны, исходя из имеющихся данных. \n",
    "С методами проверок гипотез вы ещё познакомитесь в следующих темах."
   ]
  }
 ],
 "metadata": {
  "ExecuteTimeLog": [
   {
    "duration": 110,
    "start_time": "2022-01-28T18:20:57.595Z"
   },
   {
    "duration": 107,
    "start_time": "2022-01-28T18:21:11.180Z"
   },
   {
    "duration": 410,
    "start_time": "2022-01-28T18:21:59.169Z"
   },
   {
    "duration": 117,
    "start_time": "2022-01-28T18:22:08.361Z"
   },
   {
    "duration": 167,
    "start_time": "2022-01-28T18:22:21.897Z"
   },
   {
    "duration": 591,
    "start_time": "2022-01-28T18:22:57.714Z"
   },
   {
    "duration": 359,
    "start_time": "2022-01-28T18:23:00.927Z"
   },
   {
    "duration": 333,
    "start_time": "2022-01-28T18:23:22.811Z"
   },
   {
    "duration": 337,
    "start_time": "2022-01-28T18:23:29.172Z"
   },
   {
    "duration": 322,
    "start_time": "2022-01-28T18:24:32.081Z"
   },
   {
    "duration": 324,
    "start_time": "2022-01-28T18:25:04.256Z"
   },
   {
    "duration": 2,
    "start_time": "2022-01-28T18:25:10.850Z"
   },
   {
    "duration": 2438,
    "start_time": "2022-01-28T18:25:18.172Z"
   },
   {
    "duration": 2422,
    "start_time": "2022-01-28T18:25:33.546Z"
   },
   {
    "duration": 123,
    "start_time": "2022-01-28T18:25:58.597Z"
   },
   {
    "duration": 120,
    "start_time": "2022-01-28T18:26:02.768Z"
   },
   {
    "duration": 124,
    "start_time": "2022-01-28T18:26:03.842Z"
   },
   {
    "duration": 7,
    "start_time": "2022-01-28T18:54:44.337Z"
   },
   {
    "duration": 13,
    "start_time": "2022-01-28T18:55:05.213Z"
   },
   {
    "duration": 335,
    "start_time": "2022-01-28T18:56:01.780Z"
   },
   {
    "duration": 3,
    "start_time": "2022-01-28T18:56:07.677Z"
   },
   {
    "duration": 7,
    "start_time": "2022-01-28T18:56:26.635Z"
   },
   {
    "duration": 22,
    "start_time": "2022-01-28T18:57:08.356Z"
   },
   {
    "duration": 319,
    "start_time": "2022-01-28T19:09:14.529Z"
   },
   {
    "duration": 329,
    "start_time": "2022-01-28T19:09:18.986Z"
   },
   {
    "duration": 306,
    "start_time": "2022-01-28T19:10:08.526Z"
   },
   {
    "duration": 321,
    "start_time": "2022-01-28T19:10:59.299Z"
   },
   {
    "duration": 4,
    "start_time": "2022-01-28T19:12:37.769Z"
   },
   {
    "duration": 308,
    "start_time": "2022-01-28T19:12:41.082Z"
   },
   {
    "duration": 534,
    "start_time": "2022-01-28T19:13:36.525Z"
   },
   {
    "duration": 17,
    "start_time": "2022-01-28T19:14:00.736Z"
   },
   {
    "duration": 3,
    "start_time": "2022-01-28T19:14:39.024Z"
   },
   {
    "duration": 3,
    "start_time": "2022-01-28T19:15:17.775Z"
   },
   {
    "duration": 7,
    "start_time": "2022-01-28T19:16:39.476Z"
   },
   {
    "duration": 27,
    "start_time": "2022-01-28T19:16:46.156Z"
   },
   {
    "duration": 25,
    "start_time": "2022-01-28T19:16:58.411Z"
   },
   {
    "duration": 3,
    "start_time": "2022-01-28T19:29:19.304Z"
   },
   {
    "duration": 3,
    "start_time": "2022-01-28T19:29:23.904Z"
   },
   {
    "duration": 31,
    "start_time": "2022-01-28T19:29:49.965Z"
   },
   {
    "duration": 338,
    "start_time": "2022-01-29T12:04:49.718Z"
   },
   {
    "duration": 564,
    "start_time": "2022-01-29T12:05:11.537Z"
   },
   {
    "duration": 117,
    "start_time": "2022-01-29T12:05:12.103Z"
   },
   {
    "duration": 14,
    "start_time": "2022-01-29T12:05:12.222Z"
   },
   {
    "duration": 21,
    "start_time": "2022-01-29T12:05:12.237Z"
   },
   {
    "duration": 3,
    "start_time": "2022-01-29T12:05:12.271Z"
   },
   {
    "duration": 23,
    "start_time": "2022-01-29T12:05:12.277Z"
   },
   {
    "duration": 3,
    "start_time": "2022-01-29T12:05:12.301Z"
   },
   {
    "duration": 19,
    "start_time": "2022-01-29T12:05:12.306Z"
   },
   {
    "duration": 11,
    "start_time": "2022-01-29T12:05:12.328Z"
   },
   {
    "duration": 54,
    "start_time": "2022-01-29T12:05:12.340Z"
   },
   {
    "duration": 2,
    "start_time": "2022-01-29T12:05:12.396Z"
   },
   {
    "duration": 4,
    "start_time": "2022-01-29T12:05:12.399Z"
   },
   {
    "duration": 6,
    "start_time": "2022-01-29T12:05:12.404Z"
   },
   {
    "duration": 4,
    "start_time": "2022-01-29T12:05:12.411Z"
   },
   {
    "duration": 5,
    "start_time": "2022-01-29T12:05:12.417Z"
   },
   {
    "duration": 5,
    "start_time": "2022-01-29T12:05:12.423Z"
   },
   {
    "duration": 6,
    "start_time": "2022-01-29T12:05:12.429Z"
   },
   {
    "duration": 36,
    "start_time": "2022-01-29T12:05:12.436Z"
   },
   {
    "duration": 6,
    "start_time": "2022-01-29T12:05:12.474Z"
   },
   {
    "duration": 9,
    "start_time": "2022-01-29T12:05:12.482Z"
   },
   {
    "duration": 8,
    "start_time": "2022-01-29T12:05:12.493Z"
   },
   {
    "duration": 9,
    "start_time": "2022-01-29T12:05:12.503Z"
   },
   {
    "duration": 8,
    "start_time": "2022-01-29T12:05:12.514Z"
   },
   {
    "duration": 9,
    "start_time": "2022-01-29T12:05:12.524Z"
   },
   {
    "duration": 10,
    "start_time": "2022-01-29T12:05:12.534Z"
   },
   {
    "duration": 8,
    "start_time": "2022-01-29T12:05:12.546Z"
   },
   {
    "duration": 7,
    "start_time": "2022-01-29T12:05:12.557Z"
   },
   {
    "duration": 9,
    "start_time": "2022-01-29T12:05:12.565Z"
   },
   {
    "duration": 9,
    "start_time": "2022-01-29T12:05:12.576Z"
   },
   {
    "duration": 7,
    "start_time": "2022-01-29T12:05:12.587Z"
   },
   {
    "duration": 11,
    "start_time": "2022-01-29T12:05:12.595Z"
   },
   {
    "duration": 7,
    "start_time": "2022-01-29T12:05:12.608Z"
   },
   {
    "duration": 11,
    "start_time": "2022-01-29T12:05:12.617Z"
   },
   {
    "duration": 7,
    "start_time": "2022-01-29T12:05:12.630Z"
   },
   {
    "duration": 9,
    "start_time": "2022-01-29T12:05:12.639Z"
   },
   {
    "duration": 8,
    "start_time": "2022-01-29T12:05:12.649Z"
   },
   {
    "duration": 10,
    "start_time": "2022-01-29T12:05:12.658Z"
   },
   {
    "duration": 8,
    "start_time": "2022-01-29T12:05:12.670Z"
   },
   {
    "duration": 19,
    "start_time": "2022-01-29T12:05:22.471Z"
   },
   {
    "duration": 21,
    "start_time": "2022-01-29T12:05:24.231Z"
   },
   {
    "duration": 16,
    "start_time": "2022-01-29T12:05:44.250Z"
   },
   {
    "duration": 20,
    "start_time": "2022-01-29T12:05:46.330Z"
   },
   {
    "duration": 414,
    "start_time": "2022-01-29T12:06:11.450Z"
   },
   {
    "duration": 56,
    "start_time": "2022-01-29T12:06:40.986Z"
   },
   {
    "duration": 36,
    "start_time": "2022-01-29T12:07:04.398Z"
   },
   {
    "duration": 68,
    "start_time": "2022-01-29T12:07:37.737Z"
   },
   {
    "duration": 60,
    "start_time": "2022-01-29T12:08:01.141Z"
   },
   {
    "duration": 63,
    "start_time": "2022-01-29T12:08:03.938Z"
   },
   {
    "duration": 51,
    "start_time": "2022-01-29T12:08:20.128Z"
   },
   {
    "duration": 7,
    "start_time": "2022-01-29T12:17:49.823Z"
   },
   {
    "duration": 6,
    "start_time": "2022-01-29T12:20:37.109Z"
   },
   {
    "duration": 111,
    "start_time": "2022-01-29T12:56:45.410Z"
   },
   {
    "duration": 50,
    "start_time": "2022-01-29T12:56:56.928Z"
   },
   {
    "duration": 218,
    "start_time": "2022-01-31T08:15:51.307Z"
   },
   {
    "duration": 182,
    "start_time": "2022-01-31T08:17:13.065Z"
   },
   {
    "duration": 220,
    "start_time": "2022-01-31T08:18:53.253Z"
   },
   {
    "duration": 207,
    "start_time": "2022-01-31T08:18:59.581Z"
   },
   {
    "duration": 189,
    "start_time": "2022-01-31T08:19:13.667Z"
   },
   {
    "duration": 561,
    "start_time": "2022-01-31T08:19:31.724Z"
   },
   {
    "duration": 123,
    "start_time": "2022-01-31T08:19:32.287Z"
   },
   {
    "duration": 16,
    "start_time": "2022-01-31T08:19:32.412Z"
   },
   {
    "duration": 23,
    "start_time": "2022-01-31T08:19:32.430Z"
   },
   {
    "duration": 7,
    "start_time": "2022-01-31T08:19:32.454Z"
   },
   {
    "duration": 22,
    "start_time": "2022-01-31T08:19:32.462Z"
   },
   {
    "duration": 9,
    "start_time": "2022-01-31T08:19:32.486Z"
   },
   {
    "duration": 21,
    "start_time": "2022-01-31T08:19:32.513Z"
   },
   {
    "duration": 25,
    "start_time": "2022-01-31T08:19:32.536Z"
   },
   {
    "duration": 23,
    "start_time": "2022-01-31T08:19:32.562Z"
   },
   {
    "duration": 64,
    "start_time": "2022-01-31T08:19:32.587Z"
   },
   {
    "duration": 73,
    "start_time": "2022-01-31T08:19:32.653Z"
   },
   {
    "duration": 50,
    "start_time": "2022-01-31T08:19:32.728Z"
   },
   {
    "duration": 6,
    "start_time": "2022-01-31T08:19:32.780Z"
   },
   {
    "duration": 72,
    "start_time": "2022-01-31T08:19:32.788Z"
   },
   {
    "duration": -1247,
    "start_time": "2022-01-31T08:19:34.110Z"
   },
   {
    "duration": -1250,
    "start_time": "2022-01-31T08:19:34.114Z"
   },
   {
    "duration": -1253,
    "start_time": "2022-01-31T08:19:34.119Z"
   },
   {
    "duration": -1258,
    "start_time": "2022-01-31T08:19:34.125Z"
   },
   {
    "duration": -1260,
    "start_time": "2022-01-31T08:19:34.129Z"
   },
   {
    "duration": -1264,
    "start_time": "2022-01-31T08:19:34.134Z"
   },
   {
    "duration": -1266,
    "start_time": "2022-01-31T08:19:34.137Z"
   },
   {
    "duration": -1267,
    "start_time": "2022-01-31T08:19:34.140Z"
   },
   {
    "duration": -1269,
    "start_time": "2022-01-31T08:19:34.143Z"
   },
   {
    "duration": -1291,
    "start_time": "2022-01-31T08:19:34.166Z"
   },
   {
    "duration": -1295,
    "start_time": "2022-01-31T08:19:34.172Z"
   },
   {
    "duration": -1299,
    "start_time": "2022-01-31T08:19:34.177Z"
   },
   {
    "duration": -1302,
    "start_time": "2022-01-31T08:19:34.182Z"
   },
   {
    "duration": -1315,
    "start_time": "2022-01-31T08:19:34.196Z"
   },
   {
    "duration": -1323,
    "start_time": "2022-01-31T08:19:34.205Z"
   },
   {
    "duration": -1325,
    "start_time": "2022-01-31T08:19:34.209Z"
   },
   {
    "duration": -1326,
    "start_time": "2022-01-31T08:19:34.211Z"
   },
   {
    "duration": -1326,
    "start_time": "2022-01-31T08:19:34.213Z"
   },
   {
    "duration": -1328,
    "start_time": "2022-01-31T08:19:34.216Z"
   },
   {
    "duration": -1331,
    "start_time": "2022-01-31T08:19:34.220Z"
   },
   {
    "duration": -1346,
    "start_time": "2022-01-31T08:19:34.237Z"
   },
   {
    "duration": -1349,
    "start_time": "2022-01-31T08:19:34.241Z"
   },
   {
    "duration": -1350,
    "start_time": "2022-01-31T08:19:34.243Z"
   },
   {
    "duration": 286,
    "start_time": "2022-01-31T08:21:13.220Z"
   },
   {
    "duration": 42,
    "start_time": "2022-01-31T08:23:20.349Z"
   },
   {
    "duration": 58,
    "start_time": "2022-01-31T08:23:22.408Z"
   },
   {
    "duration": 45,
    "start_time": "2022-01-31T08:23:23.156Z"
   },
   {
    "duration": 44,
    "start_time": "2022-01-31T08:23:26.015Z"
   },
   {
    "duration": 46,
    "start_time": "2022-01-31T08:23:26.728Z"
   },
   {
    "duration": 48,
    "start_time": "2022-01-31T08:23:32.124Z"
   },
   {
    "duration": 44,
    "start_time": "2022-01-31T08:23:32.744Z"
   },
   {
    "duration": 44,
    "start_time": "2022-01-31T08:23:32.974Z"
   },
   {
    "duration": 46,
    "start_time": "2022-01-31T08:23:33.135Z"
   },
   {
    "duration": 35,
    "start_time": "2022-01-31T08:25:08.775Z"
   },
   {
    "duration": 33,
    "start_time": "2022-01-31T08:25:09.525Z"
   },
   {
    "duration": 35,
    "start_time": "2022-01-31T08:25:09.736Z"
   },
   {
    "duration": 35,
    "start_time": "2022-01-31T08:25:09.946Z"
   },
   {
    "duration": 53,
    "start_time": "2022-01-31T08:25:12.251Z"
   },
   {
    "duration": 35,
    "start_time": "2022-01-31T08:25:14.601Z"
   },
   {
    "duration": 252,
    "start_time": "2022-01-31T08:27:48.993Z"
   },
   {
    "duration": 37,
    "start_time": "2022-01-31T08:28:15.354Z"
   },
   {
    "duration": 34,
    "start_time": "2022-01-31T08:28:17.632Z"
   },
   {
    "duration": 226,
    "start_time": "2022-01-31T08:28:44.150Z"
   },
   {
    "duration": 208,
    "start_time": "2022-01-31T08:30:15.820Z"
   },
   {
    "duration": 191,
    "start_time": "2022-01-31T08:30:42.977Z"
   },
   {
    "duration": 3,
    "start_time": "2022-01-31T08:31:37.704Z"
   },
   {
    "duration": 2,
    "start_time": "2022-01-31T08:31:38.628Z"
   },
   {
    "duration": 3,
    "start_time": "2022-01-31T08:31:38.916Z"
   },
   {
    "duration": 3,
    "start_time": "2022-01-31T08:31:39.522Z"
   },
   {
    "duration": 436,
    "start_time": "2022-01-31T08:32:19.713Z"
   },
   {
    "duration": 28,
    "start_time": "2022-01-31T08:34:51.755Z"
   },
   {
    "duration": 221,
    "start_time": "2022-01-31T08:35:31.291Z"
   },
   {
    "duration": 212,
    "start_time": "2022-01-31T08:37:46.293Z"
   },
   {
    "duration": 209,
    "start_time": "2022-01-31T08:37:55.479Z"
   },
   {
    "duration": 22,
    "start_time": "2022-01-31T08:39:45.680Z"
   },
   {
    "duration": 27,
    "start_time": "2022-01-31T08:40:16.532Z"
   },
   {
    "duration": 9,
    "start_time": "2022-01-31T08:40:22.610Z"
   },
   {
    "duration": 484,
    "start_time": "2022-01-31T08:41:02.692Z"
   },
   {
    "duration": 60,
    "start_time": "2022-01-31T08:41:22.962Z"
   },
   {
    "duration": 3,
    "start_time": "2022-01-31T08:41:44.616Z"
   },
   {
    "duration": 13,
    "start_time": "2022-01-31T08:41:50.657Z"
   },
   {
    "duration": 5,
    "start_time": "2022-01-31T08:41:56.316Z"
   },
   {
    "duration": 3,
    "start_time": "2022-01-31T08:41:56.830Z"
   },
   {
    "duration": 555,
    "start_time": "2022-01-31T08:42:07.133Z"
   },
   {
    "duration": 123,
    "start_time": "2022-01-31T08:42:07.690Z"
   },
   {
    "duration": 16,
    "start_time": "2022-01-31T08:42:07.815Z"
   },
   {
    "duration": 23,
    "start_time": "2022-01-31T08:42:07.833Z"
   },
   {
    "duration": 3,
    "start_time": "2022-01-31T08:42:07.858Z"
   },
   {
    "duration": 22,
    "start_time": "2022-01-31T08:42:07.863Z"
   },
   {
    "duration": 29,
    "start_time": "2022-01-31T08:42:07.886Z"
   },
   {
    "duration": 27,
    "start_time": "2022-01-31T08:42:07.917Z"
   },
   {
    "duration": 17,
    "start_time": "2022-01-31T08:42:07.946Z"
   },
   {
    "duration": 29,
    "start_time": "2022-01-31T08:42:07.965Z"
   },
   {
    "duration": 70,
    "start_time": "2022-01-31T08:42:07.996Z"
   },
   {
    "duration": 74,
    "start_time": "2022-01-31T08:42:08.068Z"
   },
   {
    "duration": 53,
    "start_time": "2022-01-31T08:42:08.143Z"
   },
   {
    "duration": 17,
    "start_time": "2022-01-31T08:42:08.198Z"
   },
   {
    "duration": 3,
    "start_time": "2022-01-31T08:42:08.217Z"
   },
   {
    "duration": 19,
    "start_time": "2022-01-31T08:42:08.221Z"
   },
   {
    "duration": 70,
    "start_time": "2022-01-31T08:42:08.242Z"
   },
   {
    "duration": 2,
    "start_time": "2022-01-31T08:42:08.314Z"
   },
   {
    "duration": 4,
    "start_time": "2022-01-31T08:42:08.318Z"
   },
   {
    "duration": 4,
    "start_time": "2022-01-31T08:42:08.324Z"
   },
   {
    "duration": 4,
    "start_time": "2022-01-31T08:42:08.330Z"
   },
   {
    "duration": 4,
    "start_time": "2022-01-31T08:42:08.336Z"
   },
   {
    "duration": 13,
    "start_time": "2022-01-31T08:42:08.343Z"
   },
   {
    "duration": 15,
    "start_time": "2022-01-31T08:42:08.358Z"
   },
   {
    "duration": 18,
    "start_time": "2022-01-31T08:42:08.374Z"
   },
   {
    "duration": 7,
    "start_time": "2022-01-31T08:42:08.393Z"
   },
   {
    "duration": 16,
    "start_time": "2022-01-31T08:42:08.401Z"
   },
   {
    "duration": 13,
    "start_time": "2022-01-31T08:42:08.418Z"
   },
   {
    "duration": 8,
    "start_time": "2022-01-31T08:42:08.432Z"
   },
   {
    "duration": 12,
    "start_time": "2022-01-31T08:42:08.442Z"
   },
   {
    "duration": 17,
    "start_time": "2022-01-31T08:42:08.456Z"
   },
   {
    "duration": 13,
    "start_time": "2022-01-31T08:42:08.474Z"
   },
   {
    "duration": 13,
    "start_time": "2022-01-31T08:42:08.489Z"
   },
   {
    "duration": 9,
    "start_time": "2022-01-31T08:42:08.504Z"
   },
   {
    "duration": 10,
    "start_time": "2022-01-31T08:42:08.514Z"
   },
   {
    "duration": 15,
    "start_time": "2022-01-31T08:42:08.526Z"
   },
   {
    "duration": 21,
    "start_time": "2022-01-31T08:42:08.542Z"
   },
   {
    "duration": 9,
    "start_time": "2022-01-31T08:42:08.565Z"
   },
   {
    "duration": 22,
    "start_time": "2022-01-31T08:43:11.450Z"
   },
   {
    "duration": 3,
    "start_time": "2022-01-31T08:43:12.758Z"
   },
   {
    "duration": 7,
    "start_time": "2022-01-31T08:44:18.000Z"
   },
   {
    "duration": 9,
    "start_time": "2022-01-31T08:44:49.103Z"
   },
   {
    "duration": 3,
    "start_time": "2022-01-31T08:55:43.949Z"
   },
   {
    "duration": 2,
    "start_time": "2022-01-31T08:55:44.851Z"
   },
   {
    "duration": 3,
    "start_time": "2022-01-31T08:56:05.352Z"
   },
   {
    "duration": 3,
    "start_time": "2022-01-31T08:56:14.653Z"
   },
   {
    "duration": 288,
    "start_time": "2022-01-31T08:59:38.538Z"
   },
   {
    "duration": 281,
    "start_time": "2022-01-31T08:59:39.848Z"
   },
   {
    "duration": 332,
    "start_time": "2022-01-31T08:59:40.646Z"
   },
   {
    "duration": 516,
    "start_time": "2022-01-31T08:59:50.171Z"
   },
   {
    "duration": 126,
    "start_time": "2022-01-31T08:59:50.688Z"
   },
   {
    "duration": 16,
    "start_time": "2022-01-31T08:59:50.816Z"
   },
   {
    "duration": 24,
    "start_time": "2022-01-31T08:59:50.834Z"
   },
   {
    "duration": 4,
    "start_time": "2022-01-31T08:59:50.860Z"
   },
   {
    "duration": 27,
    "start_time": "2022-01-31T08:59:50.865Z"
   },
   {
    "duration": 20,
    "start_time": "2022-01-31T08:59:50.893Z"
   },
   {
    "duration": 28,
    "start_time": "2022-01-31T08:59:50.916Z"
   },
   {
    "duration": 16,
    "start_time": "2022-01-31T08:59:50.946Z"
   },
   {
    "duration": 24,
    "start_time": "2022-01-31T08:59:50.963Z"
   },
   {
    "duration": 68,
    "start_time": "2022-01-31T08:59:50.989Z"
   },
   {
    "duration": 76,
    "start_time": "2022-01-31T08:59:51.058Z"
   },
   {
    "duration": 52,
    "start_time": "2022-01-31T08:59:51.135Z"
   },
   {
    "duration": 23,
    "start_time": "2022-01-31T08:59:51.189Z"
   },
   {
    "duration": 3,
    "start_time": "2022-01-31T08:59:51.214Z"
   },
   {
    "duration": 19,
    "start_time": "2022-01-31T08:59:51.218Z"
   },
   {
    "duration": 9,
    "start_time": "2022-01-31T08:59:51.239Z"
   },
   {
    "duration": 322,
    "start_time": "2022-01-31T08:59:51.249Z"
   },
   {
    "duration": 3,
    "start_time": "2022-01-31T08:59:51.572Z"
   },
   {
    "duration": 5,
    "start_time": "2022-01-31T08:59:51.577Z"
   },
   {
    "duration": 8,
    "start_time": "2022-01-31T08:59:51.583Z"
   },
   {
    "duration": 6,
    "start_time": "2022-01-31T08:59:51.593Z"
   },
   {
    "duration": 8,
    "start_time": "2022-01-31T08:59:51.602Z"
   },
   {
    "duration": 6,
    "start_time": "2022-01-31T08:59:51.612Z"
   },
   {
    "duration": 8,
    "start_time": "2022-01-31T08:59:51.619Z"
   },
   {
    "duration": 8,
    "start_time": "2022-01-31T08:59:51.629Z"
   },
   {
    "duration": 4,
    "start_time": "2022-01-31T08:59:51.639Z"
   },
   {
    "duration": 6,
    "start_time": "2022-01-31T08:59:51.645Z"
   },
   {
    "duration": 7,
    "start_time": "2022-01-31T08:59:51.652Z"
   },
   {
    "duration": 7,
    "start_time": "2022-01-31T08:59:51.661Z"
   },
   {
    "duration": 7,
    "start_time": "2022-01-31T08:59:51.669Z"
   },
   {
    "duration": 5,
    "start_time": "2022-01-31T08:59:51.678Z"
   },
   {
    "duration": 7,
    "start_time": "2022-01-31T08:59:51.684Z"
   },
   {
    "duration": 5,
    "start_time": "2022-01-31T08:59:51.692Z"
   },
   {
    "duration": 6,
    "start_time": "2022-01-31T08:59:51.698Z"
   },
   {
    "duration": 5,
    "start_time": "2022-01-31T08:59:51.705Z"
   },
   {
    "duration": 6,
    "start_time": "2022-01-31T08:59:51.712Z"
   },
   {
    "duration": 5,
    "start_time": "2022-01-31T08:59:51.719Z"
   },
   {
    "duration": 301,
    "start_time": "2022-01-31T08:59:58.853Z"
   },
   {
    "duration": 301,
    "start_time": "2022-01-31T08:59:59.485Z"
   },
   {
    "duration": 283,
    "start_time": "2022-01-31T09:00:00.160Z"
   },
   {
    "duration": 283,
    "start_time": "2022-01-31T09:00:08.462Z"
   },
   {
    "duration": 307,
    "start_time": "2022-01-31T09:00:19.254Z"
   },
   {
    "duration": 11,
    "start_time": "2022-01-31T09:03:01.148Z"
   },
   {
    "duration": 11,
    "start_time": "2022-01-31T09:04:11.815Z"
   },
   {
    "duration": 248,
    "start_time": "2022-01-31T09:22:31.593Z"
   },
   {
    "duration": 4,
    "start_time": "2022-01-31T09:22:37.562Z"
   },
   {
    "duration": 3,
    "start_time": "2022-01-31T09:22:38.477Z"
   },
   {
    "duration": 200,
    "start_time": "2022-01-31T09:22:40.384Z"
   },
   {
    "duration": 187,
    "start_time": "2022-01-31T09:23:06.001Z"
   },
   {
    "duration": 538,
    "start_time": "2022-01-31T09:23:54.665Z"
   },
   {
    "duration": 140,
    "start_time": "2022-01-31T09:23:55.205Z"
   },
   {
    "duration": 16,
    "start_time": "2022-01-31T09:23:55.350Z"
   },
   {
    "duration": 23,
    "start_time": "2022-01-31T09:23:55.368Z"
   },
   {
    "duration": 5,
    "start_time": "2022-01-31T09:23:55.412Z"
   },
   {
    "duration": 38,
    "start_time": "2022-01-31T09:23:55.418Z"
   },
   {
    "duration": 5,
    "start_time": "2022-01-31T09:23:55.458Z"
   },
   {
    "duration": 32,
    "start_time": "2022-01-31T09:23:55.465Z"
   },
   {
    "duration": 28,
    "start_time": "2022-01-31T09:23:55.498Z"
   },
   {
    "duration": 22,
    "start_time": "2022-01-31T09:23:55.528Z"
   },
   {
    "duration": 63,
    "start_time": "2022-01-31T09:23:55.551Z"
   },
   {
    "duration": 69,
    "start_time": "2022-01-31T09:23:55.616Z"
   },
   {
    "duration": 62,
    "start_time": "2022-01-31T09:23:55.687Z"
   },
   {
    "duration": 8,
    "start_time": "2022-01-31T09:23:55.751Z"
   },
   {
    "duration": 3,
    "start_time": "2022-01-31T09:23:55.761Z"
   },
   {
    "duration": 15,
    "start_time": "2022-01-31T09:23:55.765Z"
   },
   {
    "duration": 31,
    "start_time": "2022-01-31T09:23:55.782Z"
   },
   {
    "duration": 11,
    "start_time": "2022-01-31T09:23:55.815Z"
   },
   {
    "duration": 10,
    "start_time": "2022-01-31T09:23:55.827Z"
   },
   {
    "duration": 3,
    "start_time": "2022-01-31T09:23:55.838Z"
   },
   {
    "duration": 255,
    "start_time": "2022-01-31T09:23:55.843Z"
   },
   {
    "duration": -1309,
    "start_time": "2022-01-31T09:23:57.409Z"
   },
   {
    "duration": -1314,
    "start_time": "2022-01-31T09:23:57.415Z"
   },
   {
    "duration": -1319,
    "start_time": "2022-01-31T09:23:57.421Z"
   },
   {
    "duration": -1327,
    "start_time": "2022-01-31T09:23:57.430Z"
   },
   {
    "duration": -1331,
    "start_time": "2022-01-31T09:23:57.435Z"
   },
   {
    "duration": -1336,
    "start_time": "2022-01-31T09:23:57.441Z"
   },
   {
    "duration": -1342,
    "start_time": "2022-01-31T09:23:57.448Z"
   },
   {
    "duration": -1352,
    "start_time": "2022-01-31T09:23:57.458Z"
   },
   {
    "duration": -1359,
    "start_time": "2022-01-31T09:23:57.466Z"
   },
   {
    "duration": -1363,
    "start_time": "2022-01-31T09:23:57.471Z"
   },
   {
    "duration": -1367,
    "start_time": "2022-01-31T09:23:57.476Z"
   },
   {
    "duration": -1374,
    "start_time": "2022-01-31T09:23:57.484Z"
   },
   {
    "duration": -1417,
    "start_time": "2022-01-31T09:23:57.528Z"
   },
   {
    "duration": -1423,
    "start_time": "2022-01-31T09:23:57.535Z"
   },
   {
    "duration": -1459,
    "start_time": "2022-01-31T09:23:57.572Z"
   },
   {
    "duration": -1466,
    "start_time": "2022-01-31T09:23:57.580Z"
   },
   {
    "duration": -1475,
    "start_time": "2022-01-31T09:23:57.589Z"
   },
   {
    "duration": 197,
    "start_time": "2022-01-31T09:24:05.261Z"
   },
   {
    "duration": 212,
    "start_time": "2022-01-31T09:24:26.678Z"
   },
   {
    "duration": 3,
    "start_time": "2022-01-31T09:28:37.290Z"
   },
   {
    "duration": 206,
    "start_time": "2022-01-31T09:28:39.581Z"
   },
   {
    "duration": 3,
    "start_time": "2022-01-31T09:28:54.260Z"
   },
   {
    "duration": 182,
    "start_time": "2022-01-31T09:28:56.715Z"
   },
   {
    "duration": 5,
    "start_time": "2022-01-31T13:07:57.850Z"
   },
   {
    "duration": 626,
    "start_time": "2022-01-31T13:08:00.133Z"
   },
   {
    "duration": 786,
    "start_time": "2022-01-31T13:08:10.273Z"
   },
   {
    "duration": 190,
    "start_time": "2022-01-31T13:08:11.062Z"
   },
   {
    "duration": 27,
    "start_time": "2022-01-31T13:08:11.255Z"
   },
   {
    "duration": 70,
    "start_time": "2022-01-31T13:08:11.285Z"
   },
   {
    "duration": 11,
    "start_time": "2022-01-31T13:08:11.358Z"
   },
   {
    "duration": 39,
    "start_time": "2022-01-31T13:08:11.371Z"
   },
   {
    "duration": 15,
    "start_time": "2022-01-31T13:08:11.413Z"
   },
   {
    "duration": 36,
    "start_time": "2022-01-31T13:08:11.448Z"
   },
   {
    "duration": 26,
    "start_time": "2022-01-31T13:08:11.489Z"
   },
   {
    "duration": 52,
    "start_time": "2022-01-31T13:08:11.549Z"
   },
   {
    "duration": 146,
    "start_time": "2022-01-31T13:08:11.604Z"
   },
   {
    "duration": 111,
    "start_time": "2022-01-31T13:08:11.753Z"
   },
   {
    "duration": 98,
    "start_time": "2022-01-31T13:08:11.867Z"
   },
   {
    "duration": 15,
    "start_time": "2022-01-31T13:08:11.968Z"
   },
   {
    "duration": 15,
    "start_time": "2022-01-31T13:08:11.986Z"
   },
   {
    "duration": 56,
    "start_time": "2022-01-31T13:08:12.004Z"
   },
   {
    "duration": 30,
    "start_time": "2022-01-31T13:08:12.063Z"
   },
   {
    "duration": 57,
    "start_time": "2022-01-31T13:08:12.096Z"
   },
   {
    "duration": 16,
    "start_time": "2022-01-31T13:08:12.156Z"
   },
   {
    "duration": 10,
    "start_time": "2022-01-31T13:08:12.176Z"
   },
   {
    "duration": 1517,
    "start_time": "2022-01-31T13:08:12.189Z"
   },
   {
    "duration": -1355,
    "start_time": "2022-01-31T13:08:15.064Z"
   },
   {
    "duration": -1380,
    "start_time": "2022-01-31T13:08:15.090Z"
   },
   {
    "duration": -1397,
    "start_time": "2022-01-31T13:08:15.109Z"
   },
   {
    "duration": -1417,
    "start_time": "2022-01-31T13:08:15.131Z"
   },
   {
    "duration": -1435,
    "start_time": "2022-01-31T13:08:15.151Z"
   },
   {
    "duration": -1452,
    "start_time": "2022-01-31T13:08:15.169Z"
   },
   {
    "duration": -1463,
    "start_time": "2022-01-31T13:08:15.181Z"
   },
   {
    "duration": -1480,
    "start_time": "2022-01-31T13:08:15.200Z"
   },
   {
    "duration": -1496,
    "start_time": "2022-01-31T13:08:15.218Z"
   },
   {
    "duration": -1517,
    "start_time": "2022-01-31T13:08:15.240Z"
   },
   {
    "duration": -1534,
    "start_time": "2022-01-31T13:08:15.259Z"
   },
   {
    "duration": -1550,
    "start_time": "2022-01-31T13:08:15.276Z"
   },
   {
    "duration": -1566,
    "start_time": "2022-01-31T13:08:15.293Z"
   },
   {
    "duration": -1583,
    "start_time": "2022-01-31T13:08:15.312Z"
   },
   {
    "duration": -1600,
    "start_time": "2022-01-31T13:08:15.330Z"
   },
   {
    "duration": -1616,
    "start_time": "2022-01-31T13:08:15.348Z"
   },
   {
    "duration": -1626,
    "start_time": "2022-01-31T13:08:15.360Z"
   },
   {
    "duration": 1823,
    "start_time": "2022-01-31T13:08:19.758Z"
   },
   {
    "duration": 5,
    "start_time": "2022-01-31T13:08:51.787Z"
   },
   {
    "duration": 1798,
    "start_time": "2022-01-31T13:08:53.667Z"
   },
   {
    "duration": 5,
    "start_time": "2022-01-31T13:09:15.318Z"
   },
   {
    "duration": 17,
    "start_time": "2022-01-31T13:09:16.792Z"
   },
   {
    "duration": 5,
    "start_time": "2022-01-31T13:10:06.669Z"
   },
   {
    "duration": 23,
    "start_time": "2022-01-31T13:10:08.227Z"
   },
   {
    "duration": 19,
    "start_time": "2022-01-31T13:11:00.318Z"
   },
   {
    "duration": 21,
    "start_time": "2022-01-31T13:11:18.051Z"
   },
   {
    "duration": 20,
    "start_time": "2022-01-31T13:11:36.803Z"
   },
   {
    "duration": 18,
    "start_time": "2022-01-31T13:11:59.210Z"
   },
   {
    "duration": 24,
    "start_time": "2022-01-31T13:12:37.717Z"
   },
   {
    "duration": 19,
    "start_time": "2022-01-31T13:12:58.632Z"
   },
   {
    "duration": 90,
    "start_time": "2022-01-31T13:20:22.918Z"
   },
   {
    "duration": 6,
    "start_time": "2022-01-31T13:20:43.857Z"
   },
   {
    "duration": 6,
    "start_time": "2022-01-31T13:20:51.811Z"
   },
   {
    "duration": 9,
    "start_time": "2022-01-31T13:21:02.836Z"
   },
   {
    "duration": 33,
    "start_time": "2022-01-31T13:26:22.758Z"
   },
   {
    "duration": 12,
    "start_time": "2022-01-31T13:27:22.700Z"
   },
   {
    "duration": 21,
    "start_time": "2022-01-31T13:27:35.260Z"
   },
   {
    "duration": 31,
    "start_time": "2022-01-31T13:27:54.766Z"
   },
   {
    "duration": 6,
    "start_time": "2022-01-31T13:42:13.863Z"
   },
   {
    "duration": 419,
    "start_time": "2022-01-31T13:43:05.991Z"
   },
   {
    "duration": 800,
    "start_time": "2022-01-31T13:43:23.517Z"
   },
   {
    "duration": 171,
    "start_time": "2022-01-31T13:43:24.319Z"
   },
   {
    "duration": 27,
    "start_time": "2022-01-31T13:43:24.493Z"
   },
   {
    "duration": 52,
    "start_time": "2022-01-31T13:43:24.522Z"
   },
   {
    "duration": 5,
    "start_time": "2022-01-31T13:43:24.577Z"
   },
   {
    "duration": 29,
    "start_time": "2022-01-31T13:43:24.585Z"
   },
   {
    "duration": 32,
    "start_time": "2022-01-31T13:43:24.617Z"
   },
   {
    "duration": 35,
    "start_time": "2022-01-31T13:43:24.653Z"
   },
   {
    "duration": 21,
    "start_time": "2022-01-31T13:43:24.691Z"
   },
   {
    "duration": 48,
    "start_time": "2022-01-31T13:43:24.714Z"
   },
   {
    "duration": 94,
    "start_time": "2022-01-31T13:43:24.764Z"
   },
   {
    "duration": 107,
    "start_time": "2022-01-31T13:43:24.860Z"
   },
   {
    "duration": 89,
    "start_time": "2022-01-31T13:43:24.970Z"
   },
   {
    "duration": 15,
    "start_time": "2022-01-31T13:43:25.061Z"
   },
   {
    "duration": 4,
    "start_time": "2022-01-31T13:43:25.078Z"
   },
   {
    "duration": 25,
    "start_time": "2022-01-31T13:43:25.085Z"
   },
   {
    "duration": 39,
    "start_time": "2022-01-31T13:43:25.112Z"
   },
   {
    "duration": 16,
    "start_time": "2022-01-31T13:43:25.153Z"
   },
   {
    "duration": 15,
    "start_time": "2022-01-31T13:43:25.172Z"
   },
   {
    "duration": 7,
    "start_time": "2022-01-31T13:43:25.190Z"
   },
   {
    "duration": 63,
    "start_time": "2022-01-31T13:43:25.199Z"
   },
   {
    "duration": 19,
    "start_time": "2022-01-31T13:43:25.265Z"
   },
   {
    "duration": 19,
    "start_time": "2022-01-31T13:43:25.291Z"
   },
   {
    "duration": 53,
    "start_time": "2022-01-31T13:43:25.313Z"
   },
   {
    "duration": 21,
    "start_time": "2022-01-31T13:43:25.368Z"
   },
   {
    "duration": 18,
    "start_time": "2022-01-31T13:43:25.391Z"
   },
   {
    "duration": 9,
    "start_time": "2022-01-31T13:43:25.447Z"
   },
   {
    "duration": 22,
    "start_time": "2022-01-31T13:43:25.458Z"
   },
   {
    "duration": 26,
    "start_time": "2022-01-31T13:43:25.483Z"
   },
   {
    "duration": 5,
    "start_time": "2022-01-31T13:43:25.511Z"
   },
   {
    "duration": -1314,
    "start_time": "2022-01-31T13:43:35.457Z"
   },
   {
    "duration": -1321,
    "start_time": "2022-01-31T13:43:35.466Z"
   },
   {
    "duration": -1328,
    "start_time": "2022-01-31T13:43:35.474Z"
   },
   {
    "duration": -1332,
    "start_time": "2022-01-31T13:43:35.480Z"
   },
   {
    "duration": -1336,
    "start_time": "2022-01-31T13:43:35.485Z"
   },
   {
    "duration": -1338,
    "start_time": "2022-01-31T13:43:35.489Z"
   },
   {
    "duration": -1340,
    "start_time": "2022-01-31T13:43:35.492Z"
   },
   {
    "duration": -1340,
    "start_time": "2022-01-31T13:43:35.495Z"
   },
   {
    "duration": 8689,
    "start_time": "2022-01-31T13:43:35.418Z"
   },
   {
    "duration": 819,
    "start_time": "2022-01-31T15:21:23.272Z"
   },
   {
    "duration": 181,
    "start_time": "2022-01-31T15:21:24.094Z"
   },
   {
    "duration": 27,
    "start_time": "2022-01-31T15:21:24.278Z"
   },
   {
    "duration": 48,
    "start_time": "2022-01-31T15:21:24.308Z"
   },
   {
    "duration": 5,
    "start_time": "2022-01-31T15:21:24.358Z"
   },
   {
    "duration": 32,
    "start_time": "2022-01-31T15:21:24.365Z"
   },
   {
    "duration": 5,
    "start_time": "2022-01-31T15:21:24.400Z"
   },
   {
    "duration": 68,
    "start_time": "2022-01-31T15:21:24.409Z"
   },
   {
    "duration": 22,
    "start_time": "2022-01-31T15:21:24.481Z"
   },
   {
    "duration": 56,
    "start_time": "2022-01-31T15:21:24.506Z"
   },
   {
    "duration": 96,
    "start_time": "2022-01-31T15:21:24.564Z"
   },
   {
    "duration": 113,
    "start_time": "2022-01-31T15:21:24.663Z"
   },
   {
    "duration": 95,
    "start_time": "2022-01-31T15:21:24.779Z"
   },
   {
    "duration": 14,
    "start_time": "2022-01-31T15:21:24.878Z"
   },
   {
    "duration": 14,
    "start_time": "2022-01-31T15:21:24.894Z"
   },
   {
    "duration": 40,
    "start_time": "2022-01-31T15:21:24.910Z"
   },
   {
    "duration": 16,
    "start_time": "2022-01-31T15:21:24.952Z"
   },
   {
    "duration": 16,
    "start_time": "2022-01-31T15:21:24.970Z"
   },
   {
    "duration": 14,
    "start_time": "2022-01-31T15:21:24.988Z"
   },
   {
    "duration": 4,
    "start_time": "2022-01-31T15:21:25.005Z"
   },
   {
    "duration": 61,
    "start_time": "2022-01-31T15:21:25.012Z"
   },
   {
    "duration": 18,
    "start_time": "2022-01-31T15:21:25.075Z"
   },
   {
    "duration": 22,
    "start_time": "2022-01-31T15:21:25.097Z"
   },
   {
    "duration": 43,
    "start_time": "2022-01-31T15:21:25.122Z"
   },
   {
    "duration": 23,
    "start_time": "2022-01-31T15:21:25.168Z"
   },
   {
    "duration": 17,
    "start_time": "2022-01-31T15:21:25.194Z"
   },
   {
    "duration": 41,
    "start_time": "2022-01-31T15:21:25.213Z"
   },
   {
    "duration": 16,
    "start_time": "2022-01-31T15:21:25.257Z"
   },
   {
    "duration": 27,
    "start_time": "2022-01-31T15:21:25.275Z"
   },
   {
    "duration": 5,
    "start_time": "2022-01-31T15:21:25.305Z"
   },
   {
    "duration": 9689,
    "start_time": "2022-01-31T15:21:25.349Z"
   },
   {
    "duration": -1563,
    "start_time": "2022-01-31T15:21:36.603Z"
   },
   {
    "duration": -1619,
    "start_time": "2022-01-31T15:21:36.661Z"
   },
   {
    "duration": -1630,
    "start_time": "2022-01-31T15:21:36.673Z"
   },
   {
    "duration": -1639,
    "start_time": "2022-01-31T15:21:36.683Z"
   },
   {
    "duration": -1641,
    "start_time": "2022-01-31T15:21:36.687Z"
   },
   {
    "duration": -1656,
    "start_time": "2022-01-31T15:21:36.703Z"
   },
   {
    "duration": -1669,
    "start_time": "2022-01-31T15:21:36.718Z"
   },
   {
    "duration": 6,
    "start_time": "2022-01-31T15:23:20.143Z"
   },
   {
    "duration": 6,
    "start_time": "2022-01-31T15:23:22.951Z"
   },
   {
    "duration": -1354,
    "start_time": "2022-01-31T15:23:35.082Z"
   },
   {
    "duration": 5,
    "start_time": "2022-01-31T15:25:40.920Z"
   },
   {
    "duration": 697,
    "start_time": "2022-01-31T15:25:43.993Z"
   },
   {
    "duration": 6,
    "start_time": "2022-01-31T15:29:59.595Z"
   },
   {
    "duration": 8113,
    "start_time": "2022-01-31T15:30:02.560Z"
   },
   {
    "duration": 5,
    "start_time": "2022-01-31T15:34:36.296Z"
   },
   {
    "duration": 8984,
    "start_time": "2022-01-31T15:34:39.356Z"
   },
   {
    "duration": 759,
    "start_time": "2022-01-31T15:35:00.728Z"
   },
   {
    "duration": 185,
    "start_time": "2022-01-31T15:35:01.490Z"
   },
   {
    "duration": 26,
    "start_time": "2022-01-31T15:35:01.678Z"
   },
   {
    "duration": 51,
    "start_time": "2022-01-31T15:35:01.707Z"
   },
   {
    "duration": 9,
    "start_time": "2022-01-31T15:35:01.760Z"
   },
   {
    "duration": 43,
    "start_time": "2022-01-31T15:35:01.772Z"
   },
   {
    "duration": 6,
    "start_time": "2022-01-31T15:35:01.817Z"
   },
   {
    "duration": 45,
    "start_time": "2022-01-31T15:35:01.827Z"
   },
   {
    "duration": 33,
    "start_time": "2022-01-31T15:35:01.876Z"
   },
   {
    "duration": 42,
    "start_time": "2022-01-31T15:35:01.912Z"
   },
   {
    "duration": 96,
    "start_time": "2022-01-31T15:35:01.957Z"
   },
   {
    "duration": 116,
    "start_time": "2022-01-31T15:35:02.056Z"
   },
   {
    "duration": 93,
    "start_time": "2022-01-31T15:35:02.174Z"
   },
   {
    "duration": 14,
    "start_time": "2022-01-31T15:35:02.270Z"
   },
   {
    "duration": 5,
    "start_time": "2022-01-31T15:35:02.287Z"
   },
   {
    "duration": 28,
    "start_time": "2022-01-31T15:35:02.294Z"
   },
   {
    "duration": 35,
    "start_time": "2022-01-31T15:35:02.325Z"
   },
   {
    "duration": 17,
    "start_time": "2022-01-31T15:35:02.363Z"
   },
   {
    "duration": 18,
    "start_time": "2022-01-31T15:35:02.382Z"
   },
   {
    "duration": 47,
    "start_time": "2022-01-31T15:35:02.403Z"
   },
   {
    "duration": 30,
    "start_time": "2022-01-31T15:35:02.454Z"
   },
   {
    "duration": 21,
    "start_time": "2022-01-31T15:35:02.487Z"
   },
   {
    "duration": 51,
    "start_time": "2022-01-31T15:35:02.514Z"
   },
   {
    "duration": 26,
    "start_time": "2022-01-31T15:35:02.569Z"
   },
   {
    "duration": 21,
    "start_time": "2022-01-31T15:35:02.598Z"
   },
   {
    "duration": 27,
    "start_time": "2022-01-31T15:35:02.649Z"
   },
   {
    "duration": 10,
    "start_time": "2022-01-31T15:35:02.678Z"
   },
   {
    "duration": 25,
    "start_time": "2022-01-31T15:35:02.690Z"
   },
   {
    "duration": 55,
    "start_time": "2022-01-31T15:35:02.718Z"
   },
   {
    "duration": 6,
    "start_time": "2022-01-31T15:35:02.775Z"
   },
   {
    "duration": 8518,
    "start_time": "2022-01-31T15:35:02.783Z"
   },
   {
    "duration": -1473,
    "start_time": "2022-01-31T15:35:12.778Z"
   },
   {
    "duration": -1479,
    "start_time": "2022-01-31T15:35:12.786Z"
   },
   {
    "duration": -1482,
    "start_time": "2022-01-31T15:35:12.791Z"
   },
   {
    "duration": -1485,
    "start_time": "2022-01-31T15:35:12.797Z"
   },
   {
    "duration": -1489,
    "start_time": "2022-01-31T15:35:12.803Z"
   },
   {
    "duration": -1491,
    "start_time": "2022-01-31T15:35:12.808Z"
   },
   {
    "duration": -1494,
    "start_time": "2022-01-31T15:35:12.813Z"
   },
   {
    "duration": 6,
    "start_time": "2022-01-31T15:36:34.688Z"
   },
   {
    "duration": 8330,
    "start_time": "2022-01-31T15:36:39.973Z"
   },
   {
    "duration": 5,
    "start_time": "2022-01-31T15:37:33.618Z"
   },
   {
    "duration": 9475,
    "start_time": "2022-01-31T15:37:59.643Z"
   },
   {
    "duration": 6,
    "start_time": "2022-01-31T15:48:08.300Z"
   },
   {
    "duration": 31,
    "start_time": "2022-01-31T15:48:11.244Z"
   },
   {
    "duration": 31,
    "start_time": "2022-01-31T15:49:05.134Z"
   },
   {
    "duration": 31,
    "start_time": "2022-01-31T15:49:46.412Z"
   },
   {
    "duration": 5,
    "start_time": "2022-01-31T15:51:21.596Z"
   },
   {
    "duration": 6,
    "start_time": "2022-01-31T15:51:45.121Z"
   },
   {
    "duration": 26,
    "start_time": "2022-01-31T15:51:48.132Z"
   },
   {
    "duration": 19,
    "start_time": "2022-01-31T15:51:50.767Z"
   },
   {
    "duration": 27,
    "start_time": "2022-01-31T15:52:57.809Z"
   },
   {
    "duration": 20,
    "start_time": "2022-01-31T15:53:23.229Z"
   },
   {
    "duration": 283,
    "start_time": "2022-01-31T15:59:54.493Z"
   },
   {
    "duration": 373,
    "start_time": "2022-01-31T15:59:58.810Z"
   },
   {
    "duration": 7634,
    "start_time": "2022-01-31T16:01:14.215Z"
   },
   {
    "duration": 328,
    "start_time": "2022-01-31T16:01:22.103Z"
   },
   {
    "duration": 60,
    "start_time": "2022-01-31T16:02:06.323Z"
   },
   {
    "duration": 61,
    "start_time": "2022-01-31T16:02:14.943Z"
   },
   {
    "duration": 7,
    "start_time": "2022-01-31T16:02:16.648Z"
   },
   {
    "duration": 60,
    "start_time": "2022-01-31T16:02:55.275Z"
   },
   {
    "duration": 6,
    "start_time": "2022-01-31T16:02:56.320Z"
   },
   {
    "duration": 347,
    "start_time": "2022-01-31T16:03:48.236Z"
   },
   {
    "duration": 82,
    "start_time": "2022-01-31T16:04:03.650Z"
   },
   {
    "duration": 7,
    "start_time": "2022-01-31T16:04:06.847Z"
   },
   {
    "duration": 325,
    "start_time": "2022-01-31T16:05:10.666Z"
   },
   {
    "duration": 96,
    "start_time": "2022-01-31T16:05:42.879Z"
   },
   {
    "duration": 97,
    "start_time": "2022-01-31T16:05:56.772Z"
   },
   {
    "duration": 375,
    "start_time": "2022-01-31T16:07:24.389Z"
   },
   {
    "duration": 307,
    "start_time": "2022-01-31T16:07:56.855Z"
   },
   {
    "duration": 677,
    "start_time": "2022-01-31T16:08:27.207Z"
   },
   {
    "duration": 317,
    "start_time": "2022-01-31T16:09:11.639Z"
   },
   {
    "duration": 411,
    "start_time": "2022-01-31T16:09:51.173Z"
   },
   {
    "duration": 35,
    "start_time": "2022-01-31T16:10:07.161Z"
   },
   {
    "duration": 13,
    "start_time": "2022-01-31T16:10:10.758Z"
   },
   {
    "duration": 357,
    "start_time": "2022-01-31T16:12:15.546Z"
   },
   {
    "duration": 31,
    "start_time": "2022-01-31T16:13:19.793Z"
   },
   {
    "duration": 17,
    "start_time": "2022-01-31T16:13:22.542Z"
   },
   {
    "duration": 29,
    "start_time": "2022-01-31T16:13:36.234Z"
   },
   {
    "duration": 13,
    "start_time": "2022-01-31T16:13:37.990Z"
   },
   {
    "duration": 35,
    "start_time": "2022-01-31T16:14:12.607Z"
   },
   {
    "duration": 12,
    "start_time": "2022-01-31T16:14:14.481Z"
   },
   {
    "duration": 18,
    "start_time": "2022-01-31T16:14:57.302Z"
   },
   {
    "duration": 13,
    "start_time": "2022-01-31T16:15:10.976Z"
   },
   {
    "duration": 1209,
    "start_time": "2022-02-09T19:35:59.527Z"
   },
   {
    "duration": 133,
    "start_time": "2022-02-09T19:36:00.738Z"
   },
   {
    "duration": 15,
    "start_time": "2022-02-09T19:36:00.873Z"
   },
   {
    "duration": 25,
    "start_time": "2022-02-09T19:36:00.890Z"
   },
   {
    "duration": 3,
    "start_time": "2022-02-09T19:36:00.917Z"
   },
   {
    "duration": 20,
    "start_time": "2022-02-09T19:36:00.922Z"
   },
   {
    "duration": 3,
    "start_time": "2022-02-09T19:36:00.944Z"
   },
   {
    "duration": 42,
    "start_time": "2022-02-09T19:36:00.950Z"
   },
   {
    "duration": 20,
    "start_time": "2022-02-09T19:36:00.994Z"
   },
   {
    "duration": 22,
    "start_time": "2022-02-09T19:36:01.015Z"
   },
   {
    "duration": 87,
    "start_time": "2022-02-09T19:36:01.039Z"
   },
   {
    "duration": 75,
    "start_time": "2022-02-09T19:36:01.128Z"
   },
   {
    "duration": 52,
    "start_time": "2022-02-09T19:36:01.205Z"
   },
   {
    "duration": 13,
    "start_time": "2022-02-09T19:36:01.259Z"
   },
   {
    "duration": 3,
    "start_time": "2022-02-09T19:36:01.274Z"
   },
   {
    "duration": 17,
    "start_time": "2022-02-09T19:36:01.279Z"
   },
   {
    "duration": 10,
    "start_time": "2022-02-09T19:36:01.297Z"
   },
   {
    "duration": 11,
    "start_time": "2022-02-09T19:36:01.308Z"
   },
   {
    "duration": 13,
    "start_time": "2022-02-09T19:36:01.321Z"
   },
   {
    "duration": 4,
    "start_time": "2022-02-09T19:36:01.372Z"
   },
   {
    "duration": 21,
    "start_time": "2022-02-09T19:36:01.377Z"
   },
   {
    "duration": 13,
    "start_time": "2022-02-09T19:36:01.399Z"
   },
   {
    "duration": 14,
    "start_time": "2022-02-09T19:36:01.415Z"
   },
   {
    "duration": 12,
    "start_time": "2022-02-09T19:36:01.431Z"
   },
   {
    "duration": 14,
    "start_time": "2022-02-09T19:36:01.472Z"
   },
   {
    "duration": 12,
    "start_time": "2022-02-09T19:36:01.488Z"
   },
   {
    "duration": 10,
    "start_time": "2022-02-09T19:36:01.501Z"
   },
   {
    "duration": 27,
    "start_time": "2022-02-09T19:36:01.513Z"
   },
   {
    "duration": 41,
    "start_time": "2022-02-09T19:36:01.541Z"
   },
   {
    "duration": 3,
    "start_time": "2022-02-09T19:36:01.584Z"
   },
   {
    "duration": 50,
    "start_time": "2022-02-09T19:36:01.589Z"
   },
   {
    "duration": 19,
    "start_time": "2022-02-09T19:36:01.641Z"
   },
   {
    "duration": 22,
    "start_time": "2022-02-09T19:36:01.662Z"
   },
   {
    "duration": 14,
    "start_time": "2022-02-09T19:36:01.685Z"
   },
   {
    "duration": 25,
    "start_time": "2022-02-09T19:36:01.701Z"
   },
   {
    "duration": 8,
    "start_time": "2022-02-09T19:36:01.727Z"
   },
   {
    "duration": 16,
    "start_time": "2022-02-09T19:36:01.736Z"
   },
   {
    "duration": 25,
    "start_time": "2022-02-09T19:36:01.753Z"
   },
   {
    "duration": 356,
    "start_time": "2022-02-12T09:55:30.952Z"
   },
   {
    "duration": 744,
    "start_time": "2022-02-12T09:55:40.852Z"
   },
   {
    "duration": 193,
    "start_time": "2022-02-12T09:55:41.599Z"
   },
   {
    "duration": 35,
    "start_time": "2022-02-12T09:55:41.795Z"
   },
   {
    "duration": 32,
    "start_time": "2022-02-12T09:55:41.833Z"
   },
   {
    "duration": 5,
    "start_time": "2022-02-12T09:55:41.868Z"
   },
   {
    "duration": 90,
    "start_time": "2022-02-12T09:55:41.877Z"
   },
   {
    "duration": 9,
    "start_time": "2022-02-12T09:55:41.971Z"
   },
   {
    "duration": 70,
    "start_time": "2022-02-12T09:55:41.988Z"
   },
   {
    "duration": 22,
    "start_time": "2022-02-12T09:55:42.062Z"
   },
   {
    "duration": 50,
    "start_time": "2022-02-12T09:55:42.086Z"
   },
   {
    "duration": 97,
    "start_time": "2022-02-12T09:55:42.139Z"
   },
   {
    "duration": 109,
    "start_time": "2022-02-12T09:55:42.238Z"
   },
   {
    "duration": 86,
    "start_time": "2022-02-12T09:55:42.350Z"
   },
   {
    "duration": 15,
    "start_time": "2022-02-12T09:55:42.439Z"
   },
   {
    "duration": 5,
    "start_time": "2022-02-12T09:55:42.456Z"
   },
   {
    "duration": 24,
    "start_time": "2022-02-12T09:55:42.463Z"
   },
   {
    "duration": 37,
    "start_time": "2022-02-12T09:55:42.489Z"
   },
   {
    "duration": 16,
    "start_time": "2022-02-12T09:55:42.529Z"
   },
   {
    "duration": 16,
    "start_time": "2022-02-12T09:55:42.547Z"
   },
   {
    "duration": 5,
    "start_time": "2022-02-12T09:55:42.565Z"
   },
   {
    "duration": 65,
    "start_time": "2022-02-12T09:55:42.572Z"
   },
   {
    "duration": 18,
    "start_time": "2022-02-12T09:55:42.640Z"
   },
   {
    "duration": 20,
    "start_time": "2022-02-12T09:55:42.663Z"
   },
   {
    "duration": 21,
    "start_time": "2022-02-12T09:55:42.722Z"
   },
   {
    "duration": 22,
    "start_time": "2022-02-12T09:55:42.746Z"
   },
   {
    "duration": 18,
    "start_time": "2022-02-12T09:55:42.770Z"
   },
   {
    "duration": 10,
    "start_time": "2022-02-12T09:55:42.822Z"
   },
   {
    "duration": 34,
    "start_time": "2022-02-12T09:55:42.835Z"
   },
   {
    "duration": 55,
    "start_time": "2022-02-12T09:55:42.872Z"
   },
   {
    "duration": 5,
    "start_time": "2022-02-12T09:55:42.930Z"
   },
   {
    "duration": 28,
    "start_time": "2022-02-12T09:55:42.938Z"
   },
   {
    "duration": 17,
    "start_time": "2022-02-12T09:55:42.969Z"
   },
   {
    "duration": 53,
    "start_time": "2022-02-12T09:55:42.989Z"
   },
   {
    "duration": 19,
    "start_time": "2022-02-12T09:55:43.045Z"
   },
   {
    "duration": 74,
    "start_time": "2022-02-12T09:55:43.067Z"
   },
   {
    "duration": 14,
    "start_time": "2022-02-12T09:55:43.144Z"
   },
   {
    "duration": 25,
    "start_time": "2022-02-12T09:55:43.161Z"
   },
   {
    "duration": 37,
    "start_time": "2022-02-12T09:55:43.188Z"
   },
   {
    "duration": 107,
    "start_time": "2022-02-12T09:56:04.940Z"
   },
   {
    "duration": 488,
    "start_time": "2022-02-12T09:56:24.603Z"
   },
   {
    "duration": 150,
    "start_time": "2022-02-12T09:56:37.902Z"
   },
   {
    "duration": 155,
    "start_time": "2022-02-12T09:57:06.293Z"
   },
   {
    "duration": 162,
    "start_time": "2022-02-12T09:57:38.083Z"
   },
   {
    "duration": 122,
    "start_time": "2022-02-12T09:58:49.203Z"
   },
   {
    "duration": 155,
    "start_time": "2022-02-12T09:59:10.763Z"
   },
   {
    "duration": 201,
    "start_time": "2022-02-12T09:59:46.706Z"
   },
   {
    "duration": 116,
    "start_time": "2022-02-12T10:00:43.410Z"
   },
   {
    "duration": 106,
    "start_time": "2022-02-12T10:01:44.693Z"
   },
   {
    "duration": 97,
    "start_time": "2022-02-12T10:01:54.429Z"
   },
   {
    "duration": 836,
    "start_time": "2022-02-12T10:03:39.479Z"
   },
   {
    "duration": 180,
    "start_time": "2022-02-12T10:03:40.318Z"
   },
   {
    "duration": 30,
    "start_time": "2022-02-12T10:03:40.501Z"
   },
   {
    "duration": 58,
    "start_time": "2022-02-12T10:03:40.534Z"
   },
   {
    "duration": 30,
    "start_time": "2022-02-12T10:03:40.596Z"
   },
   {
    "duration": 57,
    "start_time": "2022-02-12T10:03:40.630Z"
   },
   {
    "duration": 32,
    "start_time": "2022-02-12T10:03:40.692Z"
   },
   {
    "duration": 45,
    "start_time": "2022-02-12T10:03:40.730Z"
   },
   {
    "duration": 50,
    "start_time": "2022-02-12T10:03:40.779Z"
   },
   {
    "duration": 44,
    "start_time": "2022-02-12T10:03:40.832Z"
   },
   {
    "duration": 143,
    "start_time": "2022-02-12T10:03:40.878Z"
   },
   {
    "duration": 131,
    "start_time": "2022-02-12T10:03:41.024Z"
   },
   {
    "duration": 89,
    "start_time": "2022-02-12T10:03:41.158Z"
   },
   {
    "duration": 99,
    "start_time": "2022-02-12T10:03:41.250Z"
   },
   {
    "duration": -167,
    "start_time": "2022-02-12T10:03:41.520Z"
   },
   {
    "duration": -184,
    "start_time": "2022-02-12T10:03:41.539Z"
   },
   {
    "duration": -188,
    "start_time": "2022-02-12T10:03:41.545Z"
   },
   {
    "duration": -193,
    "start_time": "2022-02-12T10:03:41.552Z"
   },
   {
    "duration": -195,
    "start_time": "2022-02-12T10:03:41.556Z"
   },
   {
    "duration": -195,
    "start_time": "2022-02-12T10:03:41.559Z"
   },
   {
    "duration": -198,
    "start_time": "2022-02-12T10:03:41.564Z"
   },
   {
    "duration": -200,
    "start_time": "2022-02-12T10:03:41.568Z"
   },
   {
    "duration": -201,
    "start_time": "2022-02-12T10:03:41.571Z"
   },
   {
    "duration": -209,
    "start_time": "2022-02-12T10:03:41.581Z"
   },
   {
    "duration": -220,
    "start_time": "2022-02-12T10:03:41.594Z"
   },
   {
    "duration": -224,
    "start_time": "2022-02-12T10:03:41.600Z"
   },
   {
    "duration": -225,
    "start_time": "2022-02-12T10:03:41.604Z"
   },
   {
    "duration": -226,
    "start_time": "2022-02-12T10:03:41.607Z"
   },
   {
    "duration": -228,
    "start_time": "2022-02-12T10:03:41.611Z"
   },
   {
    "duration": -229,
    "start_time": "2022-02-12T10:03:41.615Z"
   },
   {
    "duration": -231,
    "start_time": "2022-02-12T10:03:41.619Z"
   },
   {
    "duration": -233,
    "start_time": "2022-02-12T10:03:41.624Z"
   },
   {
    "duration": -236,
    "start_time": "2022-02-12T10:03:41.629Z"
   },
   {
    "duration": -239,
    "start_time": "2022-02-12T10:03:41.633Z"
   },
   {
    "duration": -242,
    "start_time": "2022-02-12T10:03:41.637Z"
   },
   {
    "duration": -244,
    "start_time": "2022-02-12T10:03:41.640Z"
   },
   {
    "duration": -246,
    "start_time": "2022-02-12T10:03:41.643Z"
   },
   {
    "duration": -231,
    "start_time": "2022-02-12T10:03:41.654Z"
   },
   {
    "duration": 94,
    "start_time": "2022-02-12T10:03:59.592Z"
   },
   {
    "duration": 57,
    "start_time": "2022-02-12T10:04:13.461Z"
   },
   {
    "duration": 29,
    "start_time": "2022-02-12T10:04:46.911Z"
   },
   {
    "duration": 407,
    "start_time": "2022-09-27T12:21:35.701Z"
   },
   {
    "duration": 430,
    "start_time": "2022-09-27T12:21:36.110Z"
   },
   {
    "duration": 16,
    "start_time": "2022-09-27T12:21:36.541Z"
   },
   {
    "duration": 27,
    "start_time": "2022-09-27T12:21:36.558Z"
   },
   {
    "duration": 4,
    "start_time": "2022-09-27T12:21:36.587Z"
   },
   {
    "duration": 16,
    "start_time": "2022-09-27T12:21:36.592Z"
   },
   {
    "duration": 4,
    "start_time": "2022-09-27T12:21:36.609Z"
   },
   {
    "duration": 38,
    "start_time": "2022-09-27T12:21:36.614Z"
   },
   {
    "duration": 14,
    "start_time": "2022-09-27T12:21:36.654Z"
   },
   {
    "duration": 37,
    "start_time": "2022-09-27T12:21:36.670Z"
   },
   {
    "duration": 52,
    "start_time": "2022-09-27T12:21:36.708Z"
   },
   {
    "duration": 83,
    "start_time": "2022-09-27T12:21:36.761Z"
   },
   {
    "duration": 64,
    "start_time": "2022-09-27T12:21:36.845Z"
   },
   {
    "duration": 30,
    "start_time": "2022-09-27T12:21:36.911Z"
   },
   {
    "duration": 3,
    "start_time": "2022-09-27T12:21:36.942Z"
   },
   {
    "duration": 20,
    "start_time": "2022-09-27T12:21:36.947Z"
   },
   {
    "duration": 8,
    "start_time": "2022-09-27T12:21:36.968Z"
   },
   {
    "duration": 36,
    "start_time": "2022-09-27T12:21:36.977Z"
   },
   {
    "duration": 10,
    "start_time": "2022-09-27T12:21:37.015Z"
   },
   {
    "duration": 3,
    "start_time": "2022-09-27T12:21:37.026Z"
   },
   {
    "duration": 17,
    "start_time": "2022-09-27T12:21:37.031Z"
   },
   {
    "duration": 12,
    "start_time": "2022-09-27T12:21:37.050Z"
   },
   {
    "duration": 12,
    "start_time": "2022-09-27T12:21:37.063Z"
   },
   {
    "duration": 38,
    "start_time": "2022-09-27T12:21:37.077Z"
   },
   {
    "duration": 14,
    "start_time": "2022-09-27T12:21:37.116Z"
   },
   {
    "duration": 11,
    "start_time": "2022-09-27T12:21:37.131Z"
   },
   {
    "duration": 6,
    "start_time": "2022-09-27T12:21:37.143Z"
   },
   {
    "duration": 9,
    "start_time": "2022-09-27T12:21:37.152Z"
   },
   {
    "duration": 44,
    "start_time": "2022-09-27T12:21:37.163Z"
   },
   {
    "duration": 4,
    "start_time": "2022-09-27T12:21:37.208Z"
   },
   {
    "duration": 19,
    "start_time": "2022-09-27T12:21:37.213Z"
   },
   {
    "duration": 13,
    "start_time": "2022-09-27T12:21:37.233Z"
   },
   {
    "duration": 14,
    "start_time": "2022-09-27T12:21:37.247Z"
   },
   {
    "duration": 9,
    "start_time": "2022-09-27T12:21:37.263Z"
   },
   {
    "duration": 109,
    "start_time": "2022-09-27T12:21:37.274Z"
   },
   {
    "duration": 0,
    "start_time": "2022-09-27T12:21:37.384Z"
   },
   {
    "duration": 0,
    "start_time": "2022-09-27T12:21:37.386Z"
   },
   {
    "duration": 0,
    "start_time": "2022-09-27T12:21:37.387Z"
   },
   {
    "duration": 24,
    "start_time": "2022-09-27T12:22:14.487Z"
   },
   {
    "duration": 404,
    "start_time": "2023-03-16T09:17:14.668Z"
   },
   {
    "duration": 268,
    "start_time": "2023-03-16T09:17:18.015Z"
   },
   {
    "duration": 18,
    "start_time": "2023-03-16T09:17:20.249Z"
   },
   {
    "duration": 35,
    "start_time": "2023-03-16T09:17:22.910Z"
   },
   {
    "duration": 3,
    "start_time": "2023-03-16T09:17:33.723Z"
   },
   {
    "duration": 15,
    "start_time": "2023-03-16T09:17:34.856Z"
   },
   {
    "duration": 5,
    "start_time": "2023-03-16T09:17:37.542Z"
   },
   {
    "duration": 29,
    "start_time": "2023-03-16T09:17:39.779Z"
   },
   {
    "duration": 22,
    "start_time": "2023-03-16T09:17:42.919Z"
   },
   {
    "duration": 27,
    "start_time": "2023-03-16T09:17:44.846Z"
   },
   {
    "duration": 71,
    "start_time": "2023-03-16T09:17:47.124Z"
   },
   {
    "duration": 88,
    "start_time": "2023-03-16T09:17:48.211Z"
   },
   {
    "duration": 58,
    "start_time": "2023-03-16T09:17:50.646Z"
   },
   {
    "duration": 50,
    "start_time": "2023-03-16T09:17:51.902Z"
   },
   {
    "duration": 3,
    "start_time": "2023-03-16T09:17:54.623Z"
   },
   {
    "duration": 24,
    "start_time": "2023-03-16T09:17:56.391Z"
   },
   {
    "duration": 11,
    "start_time": "2023-03-16T09:17:58.120Z"
   },
   {
    "duration": 19,
    "start_time": "2023-03-16T09:18:01.023Z"
   },
   {
    "duration": 13,
    "start_time": "2023-03-16T09:18:03.283Z"
   },
   {
    "duration": 4,
    "start_time": "2023-03-16T09:18:05.146Z"
   },
   {
    "duration": 17,
    "start_time": "2023-03-16T09:18:06.289Z"
   },
   {
    "duration": 14,
    "start_time": "2023-03-16T09:18:07.799Z"
   },
   {
    "duration": 16,
    "start_time": "2023-03-16T09:18:08.090Z"
   },
   {
    "duration": 18,
    "start_time": "2023-03-16T09:18:08.351Z"
   },
   {
    "duration": 18,
    "start_time": "2023-03-16T09:18:08.599Z"
   },
   {
    "duration": 18,
    "start_time": "2023-03-16T09:18:08.903Z"
   },
   {
    "duration": 8,
    "start_time": "2023-03-16T09:18:11.011Z"
   },
   {
    "duration": 15,
    "start_time": "2023-03-16T09:18:12.850Z"
   },
   {
    "duration": 20,
    "start_time": "2023-03-16T09:18:13.349Z"
   },
   {
    "duration": 4,
    "start_time": "2023-03-16T09:18:14.118Z"
   },
   {
    "duration": 17,
    "start_time": "2023-03-16T09:18:15.246Z"
   },
   {
    "duration": 11,
    "start_time": "2023-03-16T09:18:15.483Z"
   },
   {
    "duration": 19,
    "start_time": "2023-03-16T09:18:15.719Z"
   },
   {
    "duration": 21,
    "start_time": "2023-03-16T09:18:16.707Z"
   },
   {
    "duration": 12,
    "start_time": "2023-03-16T09:18:28.419Z"
   },
   {
    "duration": 21,
    "start_time": "2023-03-16T09:18:48.807Z"
   },
   {
    "duration": 18,
    "start_time": "2023-03-16T09:18:54.887Z"
   },
   {
    "duration": 5,
    "start_time": "2023-03-16T09:19:54.110Z"
   },
   {
    "duration": 18,
    "start_time": "2023-03-16T09:19:58.283Z"
   },
   {
    "duration": 19,
    "start_time": "2023-03-16T09:20:03.228Z"
   },
   {
    "duration": 17,
    "start_time": "2023-03-16T09:20:03.707Z"
   },
   {
    "duration": 13,
    "start_time": "2023-03-16T09:20:06.110Z"
   },
   {
    "duration": 18,
    "start_time": "2023-03-16T09:26:15.962Z"
   },
   {
    "duration": 21,
    "start_time": "2023-03-16T09:26:16.763Z"
   },
   {
    "duration": 14,
    "start_time": "2023-03-16T09:27:43.259Z"
   },
   {
    "duration": 9,
    "start_time": "2023-03-16T09:27:43.892Z"
   },
   {
    "duration": 75,
    "start_time": "2023-03-16T09:29:29.403Z"
   },
   {
    "duration": 83,
    "start_time": "2023-03-16T09:30:00.691Z"
   },
   {
    "duration": 17,
    "start_time": "2023-03-16T09:30:05.746Z"
   },
   {
    "duration": 11,
    "start_time": "2023-03-16T09:30:06.155Z"
   },
   {
    "duration": 19,
    "start_time": "2023-03-16T09:30:06.549Z"
   },
   {
    "duration": 16,
    "start_time": "2023-03-16T09:30:06.944Z"
   },
   {
    "duration": 3,
    "start_time": "2023-03-16T09:30:08.187Z"
   },
   {
    "duration": 9,
    "start_time": "2023-03-16T09:30:22.355Z"
   },
   {
    "duration": 6,
    "start_time": "2023-03-16T09:30:30.787Z"
   },
   {
    "duration": 7,
    "start_time": "2023-03-16T09:30:51.787Z"
   },
   {
    "duration": 8,
    "start_time": "2023-03-16T09:30:55.767Z"
   },
   {
    "duration": 4,
    "start_time": "2023-03-16T09:31:00.714Z"
   },
   {
    "duration": 13,
    "start_time": "2023-03-16T09:31:11.169Z"
   },
   {
    "duration": 13,
    "start_time": "2023-03-16T09:31:14.867Z"
   },
   {
    "duration": 3,
    "start_time": "2023-03-16T09:33:37.556Z"
   },
   {
    "duration": 16,
    "start_time": "2023-03-16T09:33:42.448Z"
   },
   {
    "duration": 13,
    "start_time": "2023-03-16T09:33:59.803Z"
   },
   {
    "duration": 14,
    "start_time": "2023-03-16T09:34:45.372Z"
   },
   {
    "duration": 29,
    "start_time": "2023-03-16T09:36:51.623Z"
   },
   {
    "duration": 12,
    "start_time": "2023-03-16T09:36:57.903Z"
   },
   {
    "duration": 19,
    "start_time": "2023-03-16T09:37:06.891Z"
   },
   {
    "duration": 30,
    "start_time": "2023-03-16T09:37:10.428Z"
   },
   {
    "duration": 20,
    "start_time": "2023-03-16T09:37:13.729Z"
   },
   {
    "duration": 53,
    "start_time": "2023-03-16T09:39:23.207Z"
   },
   {
    "duration": 22,
    "start_time": "2023-03-16T09:41:33.475Z"
   },
   {
    "duration": 51,
    "start_time": "2023-03-16T09:41:38.711Z"
   },
   {
    "duration": 17,
    "start_time": "2023-03-16T09:42:28.456Z"
   },
   {
    "duration": 35,
    "start_time": "2023-03-16T09:42:32.056Z"
   },
   {
    "duration": 26,
    "start_time": "2023-03-16T09:43:57.086Z"
   },
   {
    "duration": 17,
    "start_time": "2023-03-16T09:43:59.624Z"
   },
   {
    "duration": 1364,
    "start_time": "2023-03-16T09:44:20.705Z"
   },
   {
    "duration": 1034,
    "start_time": "2023-03-16T09:44:36.707Z"
   },
   {
    "duration": 23,
    "start_time": "2023-03-16T09:44:50.920Z"
   },
   {
    "duration": 11,
    "start_time": "2023-03-16T09:45:01.905Z"
   },
   {
    "duration": 6,
    "start_time": "2023-03-16T09:45:12.119Z"
   },
   {
    "duration": 29,
    "start_time": "2023-03-16T09:45:21.261Z"
   },
   {
    "duration": 28,
    "start_time": "2023-03-16T09:45:25.520Z"
   },
   {
    "duration": 20,
    "start_time": "2023-03-16T09:45:31.774Z"
   },
   {
    "duration": 21,
    "start_time": "2023-03-16T09:45:33.788Z"
   },
   {
    "duration": 6,
    "start_time": "2023-03-16T09:45:42.015Z"
   },
   {
    "duration": 69,
    "start_time": "2023-03-16T09:47:50.552Z"
   },
   {
    "duration": 68,
    "start_time": "2023-03-16T09:47:53.116Z"
   },
   {
    "duration": 2,
    "start_time": "2023-03-16T09:47:57.085Z"
   },
   {
    "duration": 22,
    "start_time": "2023-03-16T09:48:03.219Z"
   },
   {
    "duration": 10,
    "start_time": "2023-03-16T09:49:01.262Z"
   },
   {
    "duration": 5,
    "start_time": "2023-03-16T09:49:06.316Z"
   },
   {
    "duration": 80,
    "start_time": "2023-03-16T09:49:13.122Z"
   },
   {
    "duration": 13,
    "start_time": "2023-03-16T09:49:16.892Z"
   },
   {
    "duration": 10,
    "start_time": "2023-03-16T09:49:47.819Z"
   },
   {
    "duration": 10,
    "start_time": "2023-03-16T09:49:52.135Z"
   },
   {
    "duration": 1508,
    "start_time": "2023-03-16T09:50:03.618Z"
   },
   {
    "duration": 12,
    "start_time": "2023-03-16T09:50:17.772Z"
   }
  ],
  "colab": {
   "collapsed_sections": [
    "E0vqbgi9ay0H",
    "VUC88oWjTJw2"
   ],
   "name": "yandex_music_project_2021.2.ipynb",
   "provenance": []
  },
  "kernelspec": {
   "display_name": "Python 3 (ipykernel)",
   "language": "python",
   "name": "python3"
  },
  "language_info": {
   "codemirror_mode": {
    "name": "ipython",
    "version": 3
   },
   "file_extension": ".py",
   "mimetype": "text/x-python",
   "name": "python",
   "nbconvert_exporter": "python",
   "pygments_lexer": "ipython3",
   "version": "3.9.5"
  },
  "toc": {
   "base_numbering": 1,
   "nav_menu": {},
   "number_sections": true,
   "sideBar": true,
   "skip_h1_title": true,
   "title_cell": "Table of Contents",
   "title_sidebar": "Contents",
   "toc_cell": false,
   "toc_position": {},
   "toc_section_display": true,
   "toc_window_display": true
  }
 },
 "nbformat": 4,
 "nbformat_minor": 1
}
